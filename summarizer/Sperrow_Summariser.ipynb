{
  "nbformat": 4,
  "nbformat_minor": 0,
  "metadata": {
    "colab": {
      "name": "Sperrow_Summariser.ipynb",
      "provenance": [],
      "collapsed_sections": [
        "P3q7Yb3nT30m",
        "5k-vO1ABTl-d",
        "rHrHPSXyZcAR"
      ]
    },
    "kernelspec": {
      "display_name": "Python 3",
      "name": "python3"
    },
    "language_info": {
      "name": "python"
    }
  },
  "cells": [
    {
      "cell_type": "code",
      "metadata": {
        "id": "GL_kwrm4TdUs"
      },
      "source": [
        "## install relevant libraries\n",
        "\n",
        "!pip install -q bert-extractive-summarizer\n",
        "!pip install -q neuralcoref\n",
        "!pip install -q transformers\n",
        "!pip3 install -q news-please\n",
        "!pip3 install -q cchardet\n",
        "!pip install -q keybert\n",
        "!pip install -q beautifulsoup4"
      ],
      "execution_count": null,
      "outputs": []
    },
    {
      "cell_type": "code",
      "metadata": {
        "id": "4enV6rJpTvyl"
      },
      "source": [
        "## import necesary libraries\n",
        "\n",
        "from colab import *\n",
        "import requests\n",
        "from bs4 import BeautifulSoup\n",
        "import re\n",
        "import urllib.parse\n",
        "from urllib.parse import urlparse\n",
        "from newsplease import NewsPlease\n",
        "from keybert import KeyBERT\n",
        "from transformers import pipeline"
      ],
      "execution_count": null,
      "outputs": []
    },
    {
      "cell_type": "markdown",
      "metadata": {
        "id": "BIhv06MxUrAZ"
      },
      "source": [
        "**Tweet**"
      ]
    },
    {
      "cell_type": "code",
      "metadata": {
        "colab": {
          "base_uri": "https://localhost:8080/"
        },
        "id": "4ZX1u567UqN1",
        "outputId": "a23ed0ed-2e04-47ad-af25-c2aed6bcb8ff"
      },
      "source": [
        "tweet = \"Pakistan PM Imran Khan tests positive for Covid19 48 hours after getting the Chinese Sinopharm vaccine shot. Under observation.\"\n",
        "print(tweet)"
      ],
      "execution_count": null,
      "outputs": [
        {
          "output_type": "stream",
          "text": [
            "Pakistan PM Imran Khan tests positive for Covid19 48 hours after getting the Chinese Sinopharm vaccine shot. Under observation.\n"
          ],
          "name": "stdout"
        }
      ]
    },
    {
      "cell_type": "markdown",
      "metadata": {
        "id": "P3q7Yb3nT30m"
      },
      "source": [
        "# **Step 1**: Extracting keywords from the tweet"
      ]
    },
    {
      "cell_type": "code",
      "metadata": {
        "id": "JKRqJ8s1Tv3r"
      },
      "source": [
        "from keybert import KeyBERT\n",
        "model = KeyBERT('distilbert-base-nli-mean-tokens')"
      ],
      "execution_count": null,
      "outputs": []
    },
    {
      "cell_type": "code",
      "metadata": {
        "colab": {
          "base_uri": "https://localhost:8080/"
        },
        "id": "_uTxzSAnUnQ2",
        "outputId": "5ca6fe64-8049-468e-906f-f2853fc61d08"
      },
      "source": [
        "keywords = model.extract_keywords(tweet, keyphrase_ngram_range=(1,1))\n",
        "keywords = [i[0] for i in keywords]\n",
        "keywords = \"+\".join(keywords)\n",
        "\n",
        "print(keywords)"
      ],
      "execution_count": null,
      "outputs": [
        {
          "output_type": "stream",
          "text": [
            "vaccine+chinese+covid19+pakistan+sinopharm\n"
          ],
          "name": "stdout"
        }
      ]
    },
    {
      "cell_type": "code",
      "metadata": {
        "id": "qwZ4j89AUnV2"
      },
      "source": [
        ""
      ],
      "execution_count": null,
      "outputs": []
    },
    {
      "cell_type": "markdown",
      "metadata": {
        "id": "5k-vO1ABTl-d"
      },
      "source": [
        "# **Step 2**: Extracting relevant news articles wrt keywords"
      ]
    },
    {
      "cell_type": "code",
      "metadata": {
        "colab": {
          "base_uri": "https://localhost:8080/",
          "height": 35
        },
        "id": "N4jUVDiuidec",
        "outputId": "89ff4d92-23a4-4b5c-907a-ef9a4d64468d"
      },
      "source": [
        "url = \"https://www.google.com/search?q=\" + keywords + \"&tbm=nws\"\n",
        "url"
      ],
      "execution_count": null,
      "outputs": [
        {
          "output_type": "execute_result",
          "data": {
            "application/vnd.google.colaboratory.intrinsic+json": {
              "type": "string"
            },
            "text/plain": [
              "'https://www.google.com/search?q=vaccine+chinese+covid19+pakistan+sinopharm&tbm=nws'"
            ]
          },
          "metadata": {
            "tags": []
          },
          "execution_count": 170
        }
      ]
    },
    {
      "cell_type": "code",
      "metadata": {
        "id": "QVXr8U-_l7yo"
      },
      "source": [
        "import requests\n",
        "from bs4 import BeautifulSoup\n",
        "import re\n",
        "import urllib.parse\n",
        "from urllib.parse import urlparse\n",
        "def googleSearch(url):\n",
        "    g_clean = [ ] \n",
        "    \n",
        "    try:\n",
        "        html = requests.get(url)\n",
        "        if html.status_code==200:\n",
        "            soup = BeautifulSoup(html.text, 'lxml')\n",
        "            a = soup.find_all('a') #// a is a list\n",
        "            for i in a:\n",
        "                k = i.get('href')\n",
        "                try:\n",
        "                    m = re.search(\"(?P<url>https?://[^\\s]+)\", k)\n",
        "                    n = m.group(0)\n",
        "                    rul = n.split('&')[0]\n",
        "                    domain = urlparse(rul)\n",
        "                    if (re.search('google.com', domain.netloc)):\n",
        "                        continue\n",
        "                    else:\n",
        "                        g_clean.append(rul)\n",
        "                except:\n",
        "                    continue\n",
        "    except Exception as ex:\n",
        "        print(str(ex))\n",
        "    finally:\n",
        "        return g_clean"
      ],
      "execution_count": null,
      "outputs": []
    },
    {
      "cell_type": "code",
      "metadata": {
        "id": "2OCjFNzZl71b"
      },
      "source": [
        "news_urls = googleSearch(url)"
      ],
      "execution_count": null,
      "outputs": []
    },
    {
      "cell_type": "code",
      "metadata": {
        "colab": {
          "base_uri": "https://localhost:8080/"
        },
        "id": "c6-7bZyQl74b",
        "outputId": "bb47ab7a-3e39-4e4e-a0a6-2347a07075f0"
      },
      "source": [
        "len(news_urls), news_urls[:3]"
      ],
      "execution_count": null,
      "outputs": [
        {
          "output_type": "execute_result",
          "data": {
            "text/plain": [
              "(12,\n",
              " ['https://www.aljazeera.com/news/2021/3/18/pakistan-receives-second-batch-of-500000-vaccines-from-china',\n",
              "  'https://www.nytimes.com/2021/03/16/world/covid-vaccine-china-hamster-ovaries.html',\n",
              "  'https://www.aljazeera.com/news/2021/3/20/pakistan-prime-minister-imran-khan-tests-positive-for-covid'])"
            ]
          },
          "metadata": {
            "tags": []
          },
          "execution_count": 173
        }
      ]
    },
    {
      "cell_type": "code",
      "metadata": {
        "id": "Y7qkt1C1iaym"
      },
      "source": [
        ""
      ],
      "execution_count": null,
      "outputs": []
    },
    {
      "cell_type": "markdown",
      "metadata": {
        "id": "w1IBqxmCYkUC"
      },
      "source": [
        "**Scraping the news from these urls**"
      ]
    },
    {
      "cell_type": "code",
      "metadata": {
        "id": "4cDx9zQkYms9"
      },
      "source": [
        "from newsplease import NewsPlease\n",
        "\n",
        "news_content = []\n",
        "\n",
        "\n",
        "for url in news_urls:\n",
        "    try:\n",
        "        article = NewsPlease.from_url(url)\n",
        "        title = article.title\n",
        "        description = article.description\n",
        "        main_text = article.maintext\n",
        "\n",
        "        content = str(title) + \" \" + str(description) + \" \" + str(main_text)\n",
        "        news_content.append(content)\n",
        "    except:\n",
        "        continue\n",
        "    \n",
        "    if (len(news_content) >= 5):\n",
        "        break"
      ],
      "execution_count": null,
      "outputs": []
    },
    {
      "cell_type": "code",
      "metadata": {
        "colab": {
          "base_uri": "https://localhost:8080/"
        },
        "id": "m_5JI0NbZXKx",
        "outputId": "27734f41-b6d4-433e-d2a9-2ab28c3ac37e"
      },
      "source": [
        "news_content"
      ],
      "execution_count": null,
      "outputs": [
        {
          "output_type": "execute_result",
          "data": {
            "text/plain": [
              "[\"Pakistan receives second batch of 500,000 vaccines from China Second donation of Sinopharm coronavirus vaccines brings the country’s total supply to one million shots. Second donation of Sinopharm coronavirus vaccines brings the country’s total supply to one million shots.\\nPakistan has received a Chinese donation of 500,000 doses of Sinopharm vaccine, bringing the country’s total supply to one million shots, Health Minister Dr Faisal Sultan said.\\nThe South Asian nation of 220 million people launched COVID-19 vaccinations for the public on March 10, starting with older people. Health workers started receiving shots in early February.\\n“These 500,000 doses will ensure smooth continuation of our vaccine drive, currently under way for senior citizens,” Sultan said in a tweet on Wednesday.\\nThe next batch of Sinopharm vaccine was received today. These 500,000 doses will ensure smooth continuation of our vaccination drive, currently underway for senior citizens. We're grateful to China for their support. This gesture is a testament to our long-standing friendship pic.twitter.com/fbS3kfmFQc — Faisal Sultan (@fslsltn) March 17, 2021\\nSinopharm, the only vaccine currently available in the country, requires two doses.\\nVaccination uptake has been slow in Pakistan, where authorities have faced a significant amount of vaccine hesitancy among the general public and healthcare workers.\\nThe percentage of COVID-19 tests coming back positive across the country has touched 6.26 percent and crossed 11 percent in Punjab, the largest province.\\nSenior citizens receive Chinese-made Sinopharm vaccine doses at a vaccination centre inside an exposition centre in Lahore [Arif Ali/AFP] Pakistan has recorded 615,810 cases of the coronavirus and 13,717 deaths, with 3,495 cases and 61 deaths reported in the last 24 hours, according to government data on Thursday.\\nThat daily case rise was the highest Pakistan has seen in more than three months, prompting authorities to tighten restrictions on public gatherings and warn of a third wave of the virus.\\nThe country has not secured any vaccine from drug manufacturers and is depending on the GAVI/WHO COVAX initiative for poorer nations and donations.\\nPakistan is expecting to get GAVI’s first batch of 2.8 million doses of AstraZeneca sometime later this month, officials said.\\nBesides Sinopharm and AstraZeneca, Pakistan has approved Russia’s Sputnik and China’s CanSino Biologics Inc’s (CanSinoBIO) vaccines for emergency use.\\nCanSinoBIO has released interim efficacy results from a multi-country trial, which included Pakistan, showing 65.7 percent efficacy in preventing symptomatic coronavirus cases and a 90.98 percent success rate in stopping severe infections.\\nIn the Pakistani subset, the efficacy of the CanSinoBIO vaccine at preventing symptomatic cases was 74.8 percent and 100 percent at preventing severe disease.\\nAuthorities last week reversed a decision to allow large indoor gatherings such as cinemas, theatres and marriage halls in Pakistan after opening up almost all sectors of society.\",\n",
              " 'China approves a fifth Covid-19 vaccine. The vaccine has several drawbacks. One is that it does not produce many T-cells, which help clear infected cells and prevent them from spreading. China has approved its fifth Covid-19 vaccine, one produced by Anhui Zhifei Longcom Biopharmaceutical Co. and the Chinese Academy of Sciences. It was developed by a team led by George Gao, the head of the Chinese Center for Disease Control and Prevention.\\nThe Chinese Academy of Sciences said in a statement on Tuesday that the Chinese government had given the shot authorization for emergency use on March 10. This is the fourth vaccine China has approved for emergency use after two vaccines made by Sinopharm, a state-owned vaccine maker, and one developed by Sinovac, a private Beijing company. It has also approved a fifth vaccine, made by the Chinese company CanSino Biologics in partnership with the military, for general use.\\nNeither the company nor the institute behind the latest vaccine to be approved has published efficacy data from its Phase 3 trials, which are taking place in China, Ecuador, Indonesia, Pakistan and Uzbekistan.\\nUzbekistan has approved the vaccine. The Chinese Academy of Sciences said that Phase 3 clinical trials, which involve 29,000 volunteers, were “progressing smoothly.”',\n",
              " 'Pakistan Prime Minister Imran Khan tests positive for COVID The 68 year-old Pakistani premier is self-isolating after contracting COVID-19 two days after being vaccinated. The 68-year-old Pakistani premier is self-isolating after contracting COVID-19 two days after being vaccinated.\\nPakistan’s Prime Minister Imran Khan has tested positive for COVID-19, his office said, just two days after he was vaccinated against the disease.\\n“At this point, the prime minister’s office can only confirm that the honourable prime minister has tested positive for COVID-19 and has self-isolated, we will release more details in due course,” his office said on Saturday.\\nKhan, 68, received a shot of the Chinese-produced Sinopharm vaccine on Thursday, as the country battles a third wave of the virus.\\nKhan has been holding regular and frequent meetings lately, including attending a security conference held in the capital, Islamabad, that was attended by a large number of people.\\nHe addressed the conference without wearing a mask, and attended another gathering to inaugurate a housing project for poor people in a similar fashion on Friday.\\nThe South Asian nation of 220 million is seeing a sharp rise in coronavirus infections.\\nAccording to numbers released by government on Saturday, 3,876 people tested positive in the last 24 hours – the highest number of daily infections since early July – taking the total number of infections in the country past 620,000.\\nThere were also 42 more deaths, taking the total to 13,799.\\nPakistan launched vaccinations for the general public on March 10, starting with elderly people after seeing a poor response from front-line health workers, who expressed concerns about Chinese vaccines.\\nChinese Sinopharm and CanSinoBIO, Oxford-AstraZeneca, and Russia’s Sputnik V vaccines have been approved for emergency use in Pakistan.',\n",
              " 'Pakistan receives second Sinopharm COVID-19 vaccine shipment from China The second consignment of the Sinopharm vaccine was received by Pakistan health officials at the Nur Khan airbase in Rawalpindi Pakistan on Wednesday received half a million doses of coronavirus vaccines donated by China. The second consignment of the Sinopharm vaccine was received by Pakistan health officials at the Nur Khan airbase in Rawalpindi.\\nSpecial Assistant to the Prime Minister (SAPM) on Health, Dr Faisal Sultan, was present to receive the batch of the vaccines. \"China has always supported Pakistan during difficult times,\" Sultan said, extending his gratitude to the Chinese government.\\nThe vaccines will be shifted to the warehouse of the Expanded Programme on Immunisation (EPI) and administered to the frontline health workers and people above the age of 60 years across the country.\\nEarlier, China donated 500,000 doses of Sinopharm on February 1, enabling Pakistan to launch vaccination drive a day later.\\nThe new consignment arrived amidst Pakistan struggling to combat the third wave of the pandemic, which threatened the earlier gains against the coronavirus when the country succeeded to contain the first two outbreaks.\\nMeanwhile, Pakistan\\'s nationwide coronavirus tally reached 612,315 after 2,351 new cases were detected in the last 24 hours. Sixty-one more people died overnight, taking the COVID-19 toll to 13,656, according to the health ministry.\\nAlso read: CBI files FIR against Cadbury for corruption in obtaining Himachal factory licence',\n",
              " 'Pakistan PM gets vaccinated against coronavirus with Chinese vaccine Sinopharm Pakistan\\'s Prime Minister, Imran Khan, got vaccinated against the deadly coronavirus on Thursday. Unlike the majority of the foreign leaders, the Pakistan PM took the Chinese vaccine Sinopharm. Pakistan\\'s Prime Minister, Imran Khan, got vaccinated against the deadly coronavirus on Thursday. Unlike the majority of the foreign leaders, the Pakistan PM took the Chinese vaccine Sinopharm.\\nPakistan Prime Minister Imran Khan gets a Covid-19 vaccine shot pic.twitter.com/ImezTXDvrw — omar r quraishi (@omar_quraishi) March 18, 2021 ×\\nKhan took a jab of the Chinese-made vaccine a day after Pakistan received half a million doses of the coronavirus vaccines as a donation from China.\\nThis was the second consignment of the Sinopharm vaccine, which was received by Pakistan\\'s health officials in Rawalpindi.\\n\"China has always supported Pakistan during difficult times,\" Special Assistant to the Prime Minister (SAPM) on Health, Dr Faisal Sultan said while receiving the vaccine doses.\\nIn February first week, China had sent 500,000 doses of Sinopharm to Pakistan, helping it kickstart its first round of vaccination drive against the coronavirus. Pakistan has been struggling to contain the spread of the virus with a toll of nearly 612,315 cases and 13,656 deaths.']"
            ]
          },
          "metadata": {
            "tags": []
          },
          "execution_count": 175
        }
      ]
    },
    {
      "cell_type": "markdown",
      "metadata": {
        "id": "rHrHPSXyZcAR"
      },
      "source": [
        "# **Step 3**: Summarizing from these news_content"
      ]
    },
    {
      "cell_type": "code",
      "metadata": {
        "colab": {
          "base_uri": "https://localhost:8080/"
        },
        "id": "U-ypFLOgZg9g",
        "outputId": "3d7d2da0-9183-4cf1-df7d-8b156e32e50a"
      },
      "source": [
        "from transformers import pipeline\n",
        "\n",
        "summarizer = pipeline(\"summarization\")"
      ],
      "execution_count": null,
      "outputs": [
        {
          "output_type": "stream",
          "text": [
            "/usr/local/lib/python3.7/dist-packages/transformers/models/bart/configuration_bart.py:178: UserWarning: Please make sure the config includes `forced_bos_token_id=0` in future versions.The config can simply be saved and uploaded again to be fixed.\n",
            "  f\"Please make sure the config includes `forced_bos_token_id={self.bos_token_id}` in future versions.\"\n"
          ],
          "name": "stderr"
        }
      ]
    },
    {
      "cell_type": "code",
      "metadata": {
        "id": "1b0LMyHzaDUA"
      },
      "source": [
        "summarized_news = []\n",
        "\n",
        "for i in news_content:\n",
        "    try:\n",
        "      summary = summarizer(i, max_length=250, min_length=30, do_sample=False)\n",
        "      summarized_news.append(summary[0]['summary_text'])\n",
        "    except:\n",
        "      summarized_news.append(\"\")\n"
      ],
      "execution_count": null,
      "outputs": []
    },
    {
      "cell_type": "code",
      "metadata": {
        "id": "p6OG_l7_aj7u"
      },
      "source": [
        "# now summarizing all the summaries\n",
        "\n",
        "combined_summary = summarizer(\" \".join(summarized_news), max_length=250, min_length=30, do_sample=False)\n",
        "combined_summary = combined_summary[0]['summary_text']\n"
      ],
      "execution_count": null,
      "outputs": []
    },
    {
      "cell_type": "code",
      "metadata": {
        "colab": {
          "base_uri": "https://localhost:8080/",
          "height": 69
        },
        "id": "2Cp5Z8YxaTm9",
        "outputId": "c25b40f8-56b7-4dcb-9e9d-940feaabbe51"
      },
      "source": [
        "combined_summary"
      ],
      "execution_count": null,
      "outputs": [
        {
          "output_type": "execute_result",
          "data": {
            "application/vnd.google.colaboratory.intrinsic+json": {
              "type": "string"
            },
            "text/plain": [
              "' Pakistan receives second batch of 500,000 vaccines from China . Second donation of Sinopharm coronavirus vaccines brings the country’s total supply to one million . Sixty-one more people died overnight, taking the death toll to 13,656, according to the health ministry . Pakistan PM Imran Khan tests positive for COVID-19, his office said .'"
            ]
          },
          "metadata": {
            "tags": []
          },
          "execution_count": 178
        }
      ]
    },
    {
      "cell_type": "code",
      "metadata": {
        "id": "LfO_Cy8Koo3S"
      },
      "source": [
        ""
      ],
      "execution_count": null,
      "outputs": []
    },
    {
      "cell_type": "code",
      "metadata": {
        "id": "0vVR1AMSoo56"
      },
      "source": [
        ""
      ],
      "execution_count": null,
      "outputs": []
    },
    {
      "cell_type": "markdown",
      "metadata": {
        "id": "T-QasJG_ouRw"
      },
      "source": [
        "\n",
        "\n",
        "---\n",
        "\n"
      ]
    },
    {
      "cell_type": "markdown",
      "metadata": {
        "id": "3GB7Q2kVopE5"
      },
      "source": [
        "# **Combining everything together in 1 function**"
      ]
    },
    {
      "cell_type": "code",
      "metadata": {
        "id": "DWckUgxoqUJn"
      },
      "source": [
        "model = KeyBERT('distilbert-base-nli-mean-tokens')\n",
        "summarizer = pipeline(\"summarization\")"
      ],
      "execution_count": null,
      "outputs": []
    },
    {
      "cell_type": "code",
      "metadata": {
        "id": "wbcxDFt7pBAp"
      },
      "source": [
        "# defining helper functions\n",
        "\n",
        "def return_keywords(tweet):\n",
        "    keywords = model.extract_keywords(tweet, keyphrase_ngram_range=(1,1))\n",
        "    keywords = [i[0] for i in keywords]\n",
        "    keywords = \"+\".join(keywords)\n",
        "\n",
        "    return keywords\n",
        "\n",
        "\n",
        "def get_news_urls(keywords):\n",
        "    url = \"https://www.google.com/search?q=\" + keywords # + \"&tbm=nws\"\n",
        "    g_clean = [ ] \n",
        "    \n",
        "    try:\n",
        "        html = requests.get(url)\n",
        "        if html.status_code==200:\n",
        "            soup = BeautifulSoup(html.text, 'lxml')\n",
        "            a = soup.find_all('a') #// a is a list\n",
        "            for i in a:\n",
        "                try:\n",
        "                    m = re.search(r'/url[?]q=(.*?)&amp', str(i)).group(1)\n",
        "                    if m not in g_clean:\n",
        "                        g_clean.append(m)\n",
        "                except:\n",
        "                    continue\n",
        "    except Exception as ex:\n",
        "        print(str(ex))\n",
        "    finally:\n",
        "        return g_clean\n",
        "\n",
        "def get_news_content(news_urls, top_n = 5):\n",
        "    news_content = []\n",
        "\n",
        "    for url in news_urls:\n",
        "        try:\n",
        "            article = NewsPlease.from_url(url)\n",
        "            title = article.title\n",
        "            description = article.description\n",
        "            main_text = article.maintext\n",
        "\n",
        "            content = str(title) + \" \" + str(description) + \" \" + str(main_text)\n",
        "            news_content.append(content)\n",
        "            print(url)\n",
        "        except:\n",
        "            continue\n",
        "        \n",
        "        if (len(news_content) >= top_n):\n",
        "            break\n",
        "    \n",
        "    return news_content\n",
        "\n",
        "def get_summarized_news(news_content):\n",
        "    summarized_news = []\n",
        "\n",
        "    for i in news_content:\n",
        "        try:\n",
        "          summary = summarizer(i, max_length=250, min_length=30, do_sample=False)\n",
        "          summarized_news.append(summary[0]['summary_text'])\n",
        "        except:\n",
        "          summarized_news.append(\"\")\n",
        "    \n",
        "    # now summarizing all the summaries\n",
        "    combined_summary = summarizer(\" \".join(summarized_news), max_length=250, min_length=30, do_sample=False)\n",
        "    combined_summary = combined_summary[0]['summary_text']\n",
        "\n",
        "    return combined_summary"
      ],
      "execution_count": null,
      "outputs": []
    },
    {
      "cell_type": "code",
      "metadata": {
        "id": "daXig0OkqsCn"
      },
      "source": [
        "def get_summary(tweet):\n",
        "    # Step 1: Extract keywords\n",
        "    keywords = \"+\".join(list(map(str, tweet.split(\" \"))))\n",
        "    # Step 2: get_news_urls\n",
        "    news_urls = get_news_urls(keywords)\n",
        "    # Step 3: get_news_content\n",
        "    news_content = get_news_content(news_urls, top_n = 4)\n",
        "    # Step 4 (final step): get_summarized_news\n",
        "    summary = get_summarized_news(news_content) \n",
        "    return summary"
      ],
      "execution_count": null,
      "outputs": []
    },
    {
      "cell_type": "code",
      "metadata": {
        "colab": {
          "base_uri": "https://localhost:8080/"
        },
        "id": "czKSfcB_o2pM",
        "outputId": "da8f99a6-7404-462d-fb83-514bd9de0ac4"
      },
      "source": [
        "# get latest fake news from https://www.altnews.in/\n",
        "\n",
        "tweet = \"It is mandatory to apply masks in all police station areas of Uttar Pradesh from 9 am to 30 days tomorrow. A person who will be caught without a mask should remain in temporary jail for 10 hours. Put on masks for two yards, of yourself and family with a corona-like illness Save.\"\n",
        "summary = get_summary(tweet)\n",
        "print(\"-------------\")\n",
        "print(tweet)\n",
        "print(\"-------------\")\n",
        "print(summary)"
      ],
      "execution_count": null,
      "outputs": [
        {
          "output_type": "stream",
          "text": [
            "https://www.hindustantimes.com/india-news/no-30-day-mask-checking-in-state-up-police-clarify-after-fake-message-goes-viral-101614332110316.html\n",
            "https://zeenews.india.com/india/fact-check-up-police-clarifies-on-mask-checking-campaign-terms-social-media-post-as-fake-2344478.html\n",
            "https://www.modernhealthcare.com/safety-quality/live-updates-covid-19-september-16-30\n",
            "https://blockclubchicago.org/2020/06/06/police-lieutenant-says-cps-has-ditched-masks-other-coronavirus-safety-measures-amid-protests-we-have-zero-protocol-being-followed-right-now/\n",
            "https://www.washingtonpost.com/world/2020/03/30/coronavirus-latest-news/\n"
          ],
          "name": "stdout"
        },
        {
          "output_type": "stream",
          "text": [
            "Your max_length is set to 250, but you input_length is only 138. You might consider decreasing max_length manually, e.g. summarizer('...', max_length=50)\n",
            "Your max_length is set to 250, but you input_length is only 184. You might consider decreasing max_length manually, e.g. summarizer('...', max_length=50)\n"
          ],
          "name": "stderr"
        },
        {
          "output_type": "stream",
          "text": [
            "-------------\n",
            "It is mandatory to apply masks in all police station areas of Uttar Pradesh from 9 am to 30 days tomorrow. A person who will be caught without a mask should remain in temporary jail for 10 hours. Put on masks for two yards, of yourself and family with a corona-like illness Save.\n",
            "-------------\n",
            " Fake message claimed that a 30-day mask checking campaign will be launched in every police station area in Uttar Pradesh . UP police refuted the claims and said it has neither undertaken any such campaign and nor has circulated any information regarding the same .\n"
          ],
          "name": "stdout"
        }
      ]
    },
    {
      "cell_type": "markdown",
      "metadata": {
        "id": "suipFUXl1sPM"
      },
      "source": [
        "# Experiment"
      ]
    },
    {
      "cell_type": "code",
      "metadata": {
        "id": "DeRvGGbzvnDl"
      },
      "source": [
        "# Step 1: Extract keywords\n",
        "keywords = \"+\".join(list(map(str, tweet.split(\" \"))))\n",
        "\n",
        "# Step 2: get_news_urls\n",
        "news_urls = get_news_urls(keywords)"
      ],
      "execution_count": null,
      "outputs": []
    },
    {
      "cell_type": "code",
      "metadata": {
        "colab": {
          "base_uri": "https://localhost:8080/",
          "height": 35
        },
        "id": "bWgE7o0V22iD",
        "outputId": "2edea5da-0b6c-4ff7-9c6e-215a680f4c1d"
      },
      "source": [
        "keywords"
      ],
      "execution_count": null,
      "outputs": [
        {
          "output_type": "execute_result",
          "data": {
            "application/vnd.google.colaboratory.intrinsic+json": {
              "type": "string"
            },
            "text/plain": [
              "\"India+won+the+match+by+5+wickets+and+has+levelled+the+series+by+1-1.+Great+to+see+Virat+Kohli+and+ishan+kishan+'s+knock.\""
            ]
          },
          "metadata": {
            "tags": []
          },
          "execution_count": 9
        }
      ]
    },
    {
      "cell_type": "code",
      "metadata": {
        "colab": {
          "base_uri": "https://localhost:8080/"
        },
        "id": "F-63aN9Q-IEg",
        "outputId": "1bb78ffb-8e98-44af-f15e-3073384089b1"
      },
      "source": [
        "news_urls"
      ],
      "execution_count": null,
      "outputs": [
        {
          "output_type": "execute_result",
          "data": {
            "text/plain": [
              "['https://www.hindustantimes.com/cricket/india-vs-england-live-cricket-score-3rd-t20-ind-vs-eng-live-match-today-latest-score-updates-ahmedabad-101615893593016.html',\n",
              " 'https://www.mykhel.com/cricket/india-vs-england-2nd-t20i-live-updates-india-look-to-bounce-back-in-t20-series-163128.html',\n",
              " 'http://newsonair.com/Text-Bulletin-Details.aspx%3Fid%3D36081',\n",
              " 'https://www.indiafantasy.com/football/fantasy-football/pue-vs-atl-dream11-13-march/',\n",
              " 'https://www.indiafantasy.com/nba/fantasy-nba/uta-vs-hou-dream11-team-prediction-nba-projections-fantasy-basketball-picks-for-jazz-vs-rockets-13-march/',\n",
              " 'https://www.indiafantasy.com/cricket/fantasy-cricket/bd-l-vs-wi-l-dream11-12th-match-12-march/',\n",
              " 'https://www.indiafantasy.com/india-fantasy-match-of-the-day/blm-vs-snd-dream11-prediction-match-of-the-day-9-march/',\n",
              " 'https://www.indiafantasy.com/football/fantasy-football/mlc-vs-mac-dream11-12-march/',\n",
              " 'https://www.hindustantimes.com/cricket/india-vs-england-last-7-8-years-he-s-got-at-least-5-6-hundreds-in-all-forms-sunil-gavaskar-feels-virat-kohli-is-due-for-a-big-score-101612748154534.html',\n",
              " 'https://www.hindustantimes.com/cricket/india-vs-australia-live-cricket-score-4th-test-day-2-ind-vs-aus-4th-test-match-live-at-brisbane-latest-updates-101610750657428.html',\n",
              " 'https://support.google.com/websearch%3Fp%3Dws_settings_location%26hl%3Den',\n",
              " 'https://accounts.google.com/ServiceLogin%3Fcontinue%3Dhttps://www.google.com/search%253Fq%253DIndia%252Bwon%252Bthe%252Bmatch%252Bby%252B5%252Bwickets%252Band%252Bhas%252Blevelled%252Bthe%252Bseries%252Bby%252B1-1.%252BGreat%252Bto%252Bsee%252BVirat%252BKohli%252Band%252Bishan%252Bkishan%252B%252527s%252Bknock.%2526tbm%253Dnws%26hl%3Den']"
            ]
          },
          "metadata": {
            "tags": []
          },
          "execution_count": 10
        }
      ]
    },
    {
      "cell_type": "code",
      "metadata": {
        "colab": {
          "base_uri": "https://localhost:8080/"
        },
        "id": "003-TCnQxQ3j",
        "outputId": "ed3c60a4-d417-4647-adbe-3425e889d632"
      },
      "source": [
        "get_news_urls(keywords)"
      ],
      "execution_count": null,
      "outputs": [
        {
          "output_type": "execute_result",
          "data": {
            "text/plain": [
              "['https://www.hindustantimes.com/cricket/india-vs-england-live-cricket-score-3rd-t20-ind-vs-eng-live-match-today-latest-score-updates-ahmedabad-101615893593016.html',\n",
              " 'https://www.mykhel.com/cricket/india-vs-england-2nd-t20i-live-updates-india-look-to-bounce-back-in-t20-series-163128.html',\n",
              " 'http://newsonair.com/Text-Bulletin-Details.aspx%3Fid%3D36081',\n",
              " 'https://www.indiafantasy.com/football/fantasy-football/pue-vs-atl-dream11-13-march/',\n",
              " 'https://www.indiafantasy.com/nba/fantasy-nba/uta-vs-hou-dream11-team-prediction-nba-projections-fantasy-basketball-picks-for-jazz-vs-rockets-13-march/',\n",
              " 'https://www.indiafantasy.com/cricket/fantasy-cricket/bd-l-vs-wi-l-dream11-12th-match-12-march/',\n",
              " 'https://www.indiafantasy.com/india-fantasy-match-of-the-day/blm-vs-snd-dream11-prediction-match-of-the-day-9-march/',\n",
              " 'https://www.indiafantasy.com/football/fantasy-football/mlc-vs-mac-dream11-12-march/',\n",
              " 'https://www.hindustantimes.com/cricket/india-vs-england-last-7-8-years-he-s-got-at-least-5-6-hundreds-in-all-forms-sunil-gavaskar-feels-virat-kohli-is-due-for-a-big-score-101612748154534.html',\n",
              " 'https://www.hindustantimes.com/cricket/india-vs-australia-live-cricket-score-4th-test-day-2-ind-vs-aus-4th-test-match-live-at-brisbane-latest-updates-101610750657428.html',\n",
              " 'https://support.google.com/websearch%3Fp%3Dws_settings_location%26hl%3Den',\n",
              " 'https://accounts.google.com/ServiceLogin%3Fcontinue%3Dhttps://www.google.com/search%253Fq%253DIndia%252Bwon%252Bthe%252Bmatch%252Bby%252B5%252Bwickets%252Band%252Bhas%252Blevelled%252Bthe%252Bseries%252Bby%252B1-1.%252BGreat%252Bto%252Bsee%252BVirat%252BKohli%252Band%252Bishan%252Bkishan%252B%252527s%252Bknock.%2526tbm%253Dnws%26hl%3Den']"
            ]
          },
          "metadata": {
            "tags": []
          },
          "execution_count": 11
        }
      ]
    },
    {
      "cell_type": "code",
      "metadata": {
        "id": "nk7T2TADwNQV"
      },
      "source": [
        "url = \"https://www.google.com/search?q=\" + keywords + \"&tbm=nws\""
      ],
      "execution_count": null,
      "outputs": []
    },
    {
      "cell_type": "code",
      "metadata": {
        "id": "Mr94i_7qwWqz"
      },
      "source": [
        "html = requests.get(url)\n",
        "\n",
        "soup = BeautifulSoup(html.text, 'lxml')\n",
        "a = soup.find_all('a') #// a is a list"
      ],
      "execution_count": null,
      "outputs": []
    },
    {
      "cell_type": "code",
      "metadata": {
        "colab": {
          "base_uri": "https://localhost:8080/"
        },
        "id": "eIlpSbCownHR",
        "outputId": "94b9d556-7fa0-44eb-efa9-d5168a9a47b0"
      },
      "source": [
        "a"
      ],
      "execution_count": null,
      "outputs": [
        {
          "output_type": "execute_result",
          "data": {
            "text/plain": [
              "[<a href=\"/?sa=X&amp;ved=0ahUKEwjXm7q3hb_vAhXSasAKHbUEBnoQOwgC\"><span class=\"V6gwVd\">G</span><span class=\"iWkuvd\">o</span><span class=\"cDrQ7\">o</span><span class=\"V6gwVd\">g</span><span class=\"ntlR9\">l</span><span class=\"iWkuvd tJ3Myc\">e</span></a>,\n",
              " <a class=\"l\" href=\"/?output=search&amp;ie=UTF-8&amp;tbm=nws&amp;sa=X&amp;ved=0ahUKEwjXm7q3hb_vAhXSasAKHbUEBnoQPAgE\"><span class=\"V6gwVd\">G</span><span class=\"iWkuvd\">o</span><span class=\"cDrQ7\">o</span><span class=\"V6gwVd\">g</span><span class=\"ntlR9\">l</span><span class=\"iWkuvd tJ3Myc\">e</span></a>,\n",
              " <a href=\"/search?q=Indian+Railways+Cancels+All+Passenger+Trains+Till+March+31+%7C+ABP+News&amp;tbm=nws&amp;ie=UTF-8&amp;gbv=1&amp;sei=ZwFWYJfMItLVgQa1iZjQBw\">here</a>,\n",
              " <a class=\"eZt8xd\" href=\"/search?q=Indian+Railways+Cancels+All+Passenger+Trains+Till+March+31+%7C+ABP+News&amp;ie=UTF-8&amp;source=lnms&amp;sa=X&amp;ved=0ahUKEwjXm7q3hb_vAhXSasAKHbUEBnoQ_AUIBygA\">All</a>,\n",
              " <a class=\"eZt8xd\" href=\"/search?q=Indian+Railways+Cancels+All+Passenger+Trains+Till+March+31+%7C+ABP+News&amp;ie=UTF-8&amp;tbm=shop&amp;source=lnms&amp;sa=X&amp;ved=0ahUKEwjXm7q3hb_vAhXSasAKHbUEBnoQ_AUICSgC\">Shopping</a>,\n",
              " <a class=\"eZt8xd\" href=\"/search?q=Indian+Railways+Cancels+All+Passenger+Trains+Till+March+31+%7C+ABP+News&amp;ie=UTF-8&amp;tbm=isch&amp;source=lnms&amp;sa=X&amp;ved=0ahUKEwjXm7q3hb_vAhXSasAKHbUEBnoQ_AUICigD\">Images</a>,\n",
              " <a href=\"https://maps.google.com/maps?q=Indian+Railways+Cancels+All+Passenger+Trains+Till+March+31+%7C+ABP+News&amp;um=1&amp;ie=UTF-8&amp;sa=X&amp;ved=0ahUKEwjXm7q3hb_vAhXSasAKHbUEBnoQ_AUICygE\">Maps</a>,\n",
              " <a href=\"/search?q=Indian+Railways+Cancels+All+Passenger+Trains+Till+March+31+%7C+ABP+News&amp;ie=UTF-8&amp;tbm=vid&amp;source=lnms&amp;sa=X&amp;ved=0ahUKEwjXm7q3hb_vAhXSasAKHbUEBnoQ_AUIDCgF\">Videos</a>,\n",
              " <a href=\"/search?q=Indian+Railways+Cancels+All+Passenger+Trains+Till+March+31+%7C+ABP+News&amp;ie=UTF-8&amp;tbm=bks&amp;source=lnms&amp;sa=X&amp;ved=0ahUKEwjXm7q3hb_vAhXSasAKHbUEBnoQ_AUIDSgG\">Books</a>,\n",
              " <a href=\"/advanced_search\" id=\"st-toggle\" role=\"button\" style=\"white-space:nowrap\">Search tools</a>,\n",
              " <a href=\"/search?q=Indian+Railways+Cancels+All+Passenger+Trains+Till+March+31+%7C+ABP+News&amp;ie=UTF-8&amp;tbm=nws&amp;source=lnt&amp;tbs=qdr:h&amp;sa=X&amp;ved=0ahUKEwjXm7q3hb_vAhXSasAKHbUEBnoQpwUIDw\">Past hour</a>,\n",
              " <a href=\"/search?q=Indian+Railways+Cancels+All+Passenger+Trains+Till+March+31+%7C+ABP+News&amp;ie=UTF-8&amp;tbm=nws&amp;source=lnt&amp;tbs=qdr:d&amp;sa=X&amp;ved=0ahUKEwjXm7q3hb_vAhXSasAKHbUEBnoQpwUIEA\">Past 24 hours</a>,\n",
              " <a href=\"/search?q=Indian+Railways+Cancels+All+Passenger+Trains+Till+March+31+%7C+ABP+News&amp;ie=UTF-8&amp;tbm=nws&amp;source=lnt&amp;tbs=qdr:w&amp;sa=X&amp;ved=0ahUKEwjXm7q3hb_vAhXSasAKHbUEBnoQpwUIEQ\">Past week</a>,\n",
              " <a href=\"/search?q=Indian+Railways+Cancels+All+Passenger+Trains+Till+March+31+%7C+ABP+News&amp;ie=UTF-8&amp;tbm=nws&amp;source=lnt&amp;tbs=qdr:m&amp;sa=X&amp;ved=0ahUKEwjXm7q3hb_vAhXSasAKHbUEBnoQpwUIEg\">Past month</a>,\n",
              " <a href=\"/search?q=Indian+Railways+Cancels+All+Passenger+Trains+Till+March+31+%7C+ABP+News&amp;ie=UTF-8&amp;tbm=nws&amp;source=lnt&amp;tbs=qdr:y&amp;sa=X&amp;ved=0ahUKEwjXm7q3hb_vAhXSasAKHbUEBnoQpwUIEw\">Past year</a>,\n",
              " <a href=\"/search?q=Indian+Railways+Cancels+All+Passenger+Trains+Till+March+31+%7C+ABP+News&amp;ie=UTF-8&amp;tbm=nws&amp;source=lnt&amp;tbs=ar:1&amp;sa=X&amp;ved=0ahUKEwjXm7q3hb_vAhXSasAKHbUEBnoQpwUIFA\">Archives</a>,\n",
              " <a href=\"/search?q=Indian+Railways+Cancels+All+Passenger+Trains+Till+March+31+%7C+ABP+News&amp;ie=UTF-8&amp;tbm=nws&amp;source=lnt&amp;tbs=sbd:1&amp;sa=X&amp;ved=0ahUKEwjXm7q3hb_vAhXSasAKHbUEBnoQpwUIFg\">Sorted by date</a>,\n",
              " <a href=\"/url?q=https://www.freepressjournal.in/india/fpj-fact-check-has-indian-railways-cancelled-all-passenger-trains-till-march-31-2021&amp;sa=U&amp;ved=2ahUKEwjXm7q3hb_vAhXSasAKHbUEBnoQxfQBMAB6BAgCEAE&amp;usg=AOvVaw1P0lt5VxRQyWtQ8bjTHtFf\"><h3 class=\"zBAuLc\"><div class=\"BNeawe vvjwJb AP7Wnd\">FPJ Fact Check: Has Indian Railways cancelled all passenger trains till March 31, 2021?</div></h3><div class=\"BNeawe UPmit AP7Wnd\">Free Press Journal</div></a>,\n",
              " <a href=\"/url?q=https://www.freepressjournal.in/india/fpj-fact-check-has-indian-railways-cancelled-all-passenger-trains-till-march-31-2021&amp;sa=U&amp;ved=2ahUKEwjXm7q3hb_vAhXSasAKHbUEBnoQ0Y8FMAB6BAgCEAI&amp;usg=AOvVaw2JIrCVOcjPofWW8E0bwwTh\"><div class=\"lcJF1d SXn0g GXKcHe\"><div style=\"width:120px;height:44px;position:static\"><img alt=\"\" class=\"EYOsld\" data-deferred=\"1\" id=\"dimg_9\" src=\"data:image/gif;base64,R0lGODlhAQABAIAAAP///////yH5BAEKAAEALAAAAAABAAEAAAICTAEAOw==\" style=\"width:120px;height:44px\"/></div></div></a>,\n",
              " <a href=\"/url?q=https://in.news.yahoo.com/indian-railways-cancels-trains-till-152422235.html&amp;sa=U&amp;ved=2ahUKEwjXm7q3hb_vAhXSasAKHbUEBnoQxfQBMAF6BAgJEAE&amp;usg=AOvVaw0ZIlpJASvSLf_hk478xDlJ\"><h3 class=\"zBAuLc\"><div class=\"BNeawe vvjwJb AP7Wnd\">Indian Railways Cancels All Trains Till March 31? PIB Fact Check Debunks Fake Viral Message</div></h3><div class=\"BNeawe UPmit AP7Wnd\">Yahoo India News</div></a>,\n",
              " <a href=\"/url?q=https://in.news.yahoo.com/indian-railways-cancels-trains-till-152422235.html&amp;sa=U&amp;ved=2ahUKEwjXm7q3hb_vAhXSasAKHbUEBnoQ0Y8FMAF6BAgJEAI&amp;usg=AOvVaw2Vns7uyMDrpztsFxV9rixI\"><div class=\"lcJF1d SXn0g GXKcHe\"><div style=\"width:120px;height:67px;position:static\"><img alt=\"\" class=\"EYOsld\" data-deferred=\"1\" id=\"dimg_13\" src=\"data:image/gif;base64,R0lGODlhAQABAIAAAP///////yH5BAEKAAEALAAAAAABAAEAAAICTAEAOw==\" style=\"width:120px;height:67px\"/></div></div></a>,\n",
              " <a href=\"/url?q=https://www.energyinfrapost.com/right-track-heres-why-indian-railways-needs-big-doses-of-private-investment/&amp;sa=U&amp;ved=2ahUKEwjXm7q3hb_vAhXSasAKHbUEBnoQxfQBMAJ6BAgIEAE&amp;usg=AOvVaw1EDBjYc3zzb5Kdw3H2NliG\"><h3 class=\"zBAuLc\"><div class=\"BNeawe vvjwJb AP7Wnd\">Right track: Here's Why Indian Railways needs big doses of private ...</div></h3><div class=\"BNeawe UPmit AP7Wnd\">EnergyInfraPost</div></a>,\n",
              " <a href=\"/url?q=https://www.energyinfrapost.com/indian-railways-eastern-western-dfcs-to-be-operational-by-indias-75th-year-of-independence/&amp;sa=U&amp;ved=2ahUKEwjXm7q3hb_vAhXSasAKHbUEBnoQxfQBMAN6BAgHEAE&amp;usg=AOvVaw1MkRzc-qaXWiToSZYhV4qN\"><h3 class=\"zBAuLc\"><div class=\"BNeawe vvjwJb AP7Wnd\">Indian Railways Eastern &amp; Western DFCs to be operational by ...</div></h3><div class=\"BNeawe UPmit AP7Wnd\">EnergyInfraPost</div></a>,\n",
              " <a href=\"/url?q=https://www.energyinfrapost.com/indian-railways-eastern-western-dfcs-to-be-operational-by-indias-75th-year-of-independence/&amp;sa=U&amp;ved=2ahUKEwjXm7q3hb_vAhXSasAKHbUEBnoQ0Y8FMAN6BAgHEAI&amp;usg=AOvVaw1FslYFK3A4pndZEjmwE314\"><div class=\"lcJF1d SXn0g GXKcHe\"><div style=\"width:120px;height:79px;position:static\"><img alt=\"\" class=\"EYOsld\" data-deferred=\"1\" id=\"dimg_11\" src=\"data:image/gif;base64,R0lGODlhAQABAIAAAP///////yH5BAEKAAEALAAAAAABAAEAAAICTAEAOw==\" style=\"width:120px;height:79px\"/></div></div></a>,\n",
              " <a href=\"/url?q=https://www.india.com/news/india/irctc-indian-railways-latest-news-cancelled-trains-on-holi-cancelled-trains-on-uttar-pradesh-madhya-pradesh-bengal-route-check-full-list-of-cancelled-trains-here-4439205/&amp;sa=U&amp;ved=2ahUKEwjXm7q3hb_vAhXSasAKHbUEBnoQxfQBMAR6BAgDEAE&amp;usg=AOvVaw0zfj7dEAt8XQIUf9W4o_jG\"><h3 class=\"zBAuLc\"><div class=\"BNeawe vvjwJb AP7Wnd\">Trains on East Central Division Cancelled 1 Week Prior to Holi | Travellers From UP, Madhya Pradesh &amp; Bengal</div></h3><div class=\"BNeawe UPmit AP7Wnd\">India.com</div></a>,\n",
              " <a href=\"/url?q=https://www.india.com/news/india/irctc-indian-railways-latest-news-cancelled-trains-on-holi-cancelled-trains-on-uttar-pradesh-madhya-pradesh-bengal-route-check-full-list-of-cancelled-trains-here-4439205/&amp;sa=U&amp;ved=2ahUKEwjXm7q3hb_vAhXSasAKHbUEBnoQ0Y8FMAR6BAgDEAI&amp;usg=AOvVaw3GN76VMimlF_yetuj60OQQ\"><div class=\"lcJF1d SXn0g GXKcHe\"><div style=\"width:120px;height:79px;position:static\"><img alt=\"\" class=\"EYOsld\" data-deferred=\"1\" id=\"dimg_2\" src=\"data:image/gif;base64,R0lGODlhAQABAIAAAP///////yH5BAEKAAEALAAAAAABAAEAAAICTAEAOw==\" style=\"width:120px;height:79px\"/></div></div></a>,\n",
              " <a href=\"/url?q=https://www.energyinfrapost.com/irctcs-tejas-express-trains-to-shuttle-daily-between-lucknow-new-delhi-from-march-25/&amp;sa=U&amp;ved=2ahUKEwjXm7q3hb_vAhXSasAKHbUEBnoQxfQBMAV6BAgAEAE&amp;usg=AOvVaw13VTX3HAXjD6p9vteWoXiH\"><h3 class=\"zBAuLc\"><div class=\"BNeawe vvjwJb AP7Wnd\">IRCTC's Tejas Express trains to shuttle daily between Lucknow &amp; ...</div></h3><div class=\"BNeawe UPmit AP7Wnd\">EnergyInfraPost</div></a>,\n",
              " <a href=\"/url?q=https://www.railjournal.com/in_depth/60-years-of-headlines/&amp;sa=U&amp;ved=2ahUKEwjXm7q3hb_vAhXSasAKHbUEBnoQxfQBMAZ6BAgGEAE&amp;usg=AOvVaw06xRtglNT7rmXg42s8HGQ7\"><h3 class=\"zBAuLc\"><div class=\"BNeawe vvjwJb AP7Wnd\">60 years of headlines</div></h3><div class=\"BNeawe UPmit AP7Wnd\">International Railway Journal</div></a>,\n",
              " <a href=\"/url?q=https://www.railjournal.com/in_depth/60-years-of-headlines/&amp;sa=U&amp;ved=2ahUKEwjXm7q3hb_vAhXSasAKHbUEBnoQ0Y8FMAZ6BAgGEAI&amp;usg=AOvVaw20jPaMxanWdKWPCYs_D5gz\"><div class=\"lcJF1d SXn0g GXKcHe\"><div style=\"width:65px;height:90px;position:static\"><img alt=\"\" class=\"EYOsld\" data-deferred=\"1\" id=\"dimg_3\" src=\"data:image/gif;base64,R0lGODlhAQABAIAAAP///////yH5BAEKAAEALAAAAAABAAEAAAICTAEAOw==\" style=\"width:65px;height:90px\"/></div></div></a>,\n",
              " <a href=\"/url?q=https://www.energyinfrapost.com/indian-railways-1st-fully-centralised-ac-terminal-in-bengaluru-to-begin-operations-soon-piyush-goyal/&amp;sa=U&amp;ved=2ahUKEwjXm7q3hb_vAhXSasAKHbUEBnoQxfQBMAd6BAgFEAE&amp;usg=AOvVaw1jo1Guj6KWk_WXrAVBTEhZ\"><h3 class=\"zBAuLc\"><div class=\"BNeawe vvjwJb AP7Wnd\">Indian Railways' 1st fully centralised AC terminal in Bengaluru to ...</div></h3><div class=\"BNeawe UPmit AP7Wnd\">EnergyInfraPost</div></a>,\n",
              " <a href=\"/url?q=https://www.nationalheraldindia.com/india/priyanka-gandhi-starts-training-programme-in-up-grassroots-workers-upbeat-to-face-assembly-poll-in-2022&amp;sa=U&amp;ved=2ahUKEwjXm7q3hb_vAhXSasAKHbUEBnoQxfQBMAh6BAgBEAE&amp;usg=AOvVaw1YzeCduoOOG5pAn2EFd7iz\"><h3 class=\"zBAuLc\"><div class=\"BNeawe vvjwJb AP7Wnd\">Priyanka Gandhi starts training programme in UP; Grassroots workers upbeat to face assembly poll in 2022</div></h3><div class=\"BNeawe UPmit AP7Wnd\">National Herald</div></a>,\n",
              " <a href=\"/url?q=https://www.nationalheraldindia.com/india/priyanka-gandhi-starts-training-programme-in-up-grassroots-workers-upbeat-to-face-assembly-poll-in-2022&amp;sa=U&amp;ved=2ahUKEwjXm7q3hb_vAhXSasAKHbUEBnoQ0Y8FMAh6BAgBEAI&amp;usg=AOvVaw2-VOFX4DWQjz-_rdx8-2Q1\"><div class=\"lcJF1d SXn0g GXKcHe\"><div style=\"width:120px;height:79px;position:static\"><img alt=\"\" class=\"EYOsld\" data-deferred=\"1\" id=\"dimg_4\" src=\"data:image/gif;base64,R0lGODlhAQABAIAAAP///////yH5BAEKAAEALAAAAAABAAEAAAICTAEAOw==\" style=\"width:120px;height:79px\"/></div></div></a>,\n",
              " <a href=\"/url?q=https://www.nationalheraldindia.com/opinion/eam-s-jaishankar-puts-a-weak-defence-on-human-rights-record-global-bodies-studies-cant-be-wished-away&amp;sa=U&amp;ved=2ahUKEwjXm7q3hb_vAhXSasAKHbUEBnoQxfQBMAl6BAgEEAE&amp;usg=AOvVaw0sxzi7q1Os2n4f-0OmrdvD\"><h3 class=\"zBAuLc\"><div class=\"BNeawe vvjwJb AP7Wnd\">EAM S Jaishankar puts a weak defence on human rights record; global bodies studies can’t be wished away</div></h3><div class=\"BNeawe UPmit AP7Wnd\">National Herald</div></a>,\n",
              " <a href=\"/url?q=https://www.nationalheraldindia.com/opinion/eam-s-jaishankar-puts-a-weak-defence-on-human-rights-record-global-bodies-studies-cant-be-wished-away&amp;sa=U&amp;ved=2ahUKEwjXm7q3hb_vAhXSasAKHbUEBnoQ0Y8FMAl6BAgEEAI&amp;usg=AOvVaw1k414PUd8ul9G1Bx2IV-5Z\"><div class=\"lcJF1d SXn0g GXKcHe\"><div style=\"width:120px;height:79px;position:static\"><img alt=\"\" class=\"EYOsld\" data-deferred=\"1\" id=\"dimg_1\" src=\"data:image/gif;base64,R0lGODlhAQABAIAAAP///////yH5BAEKAAEALAAAAAABAAEAAAICTAEAOw==\" style=\"width:120px;height:79px\"/></div></div></a>,\n",
              " <a aria-label=\"Next page\" class=\"nBDE1b G5eFlf\" href=\"/search?q=Indian+Railways+Cancels+All+Passenger+Trains+Till+March+31+%7C+ABP+News&amp;ie=UTF-8&amp;tbm=nws&amp;ei=ZwFWYJfMItLVgQa1iZjQBw&amp;start=10&amp;sa=N\">Next &gt;</a>,\n",
              " <a href=\"/url?q=https://support.google.com/websearch%3Fp%3Dws_settings_location%26hl%3Den&amp;sa=U&amp;ved=0ahUKEwjXm7q3hb_vAhXSasAKHbUEBnoQty4ITw&amp;usg=AOvVaw2XHLDc5-hMwWD9gsgvaJzW\">Learn more</a>,\n",
              " <a href=\"/url?q=https://accounts.google.com/ServiceLogin%3Fcontinue%3Dhttps://www.google.com/search%253Fq%253DIndian%252BRailways%252BCancels%252BAll%252BPassenger%252BTrains%252BTill%252BMarch%252B31%252B%25257C%252BABP%252BNews%2526tbm%253Dnws%26hl%3Den&amp;sa=U&amp;ved=0ahUKEwjXm7q3hb_vAhXSasAKHbUEBnoQxs8CCFA&amp;usg=AOvVaw1Cxsj_UBERBnH-iT9m-dy9\">Sign in</a>,\n",
              " <a class=\"xeDNfc\" href=\"https://www.google.com/preferences?hl=en&amp;fg=1&amp;sa=X&amp;ved=0ahUKEwjXm7q3hb_vAhXSasAKHbUEBnoQ5fUCCFE\">Settings</a>,\n",
              " <a class=\"xeDNfc\" href=\"https://policies.google.com/privacy?hl=en&amp;fg=1\">Privacy</a>,\n",
              " <a class=\"xeDNfc\" href=\"https://policies.google.com/terms?hl=en&amp;fg=1\">Terms</a>]"
            ]
          },
          "metadata": {
            "tags": []
          },
          "execution_count": 76
        }
      ]
    },
    {
      "cell_type": "code",
      "metadata": {
        "colab": {
          "base_uri": "https://localhost:8080/"
        },
        "id": "HfMrJRW6xrSg",
        "outputId": "76d2834e-9966-4766-87a9-7e9bf9eb24ef"
      },
      "source": [
        "a[20]"
      ],
      "execution_count": null,
      "outputs": [
        {
          "output_type": "execute_result",
          "data": {
            "text/plain": [
              "<a href=\"/url?q=https://in.news.yahoo.com/indian-railways-cancels-trains-till-152422235.html&amp;sa=U&amp;ved=2ahUKEwjXm7q3hb_vAhXSasAKHbUEBnoQ0Y8FMAF6BAgJEAI&amp;usg=AOvVaw2Vns7uyMDrpztsFxV9rixI\"><div class=\"lcJF1d SXn0g GXKcHe\"><div style=\"width:120px;height:67px;position:static\"><img alt=\"\" class=\"EYOsld\" data-deferred=\"1\" id=\"dimg_13\" src=\"data:image/gif;base64,R0lGODlhAQABAIAAAP///////yH5BAEKAAEALAAAAAABAAEAAAICTAEAOw==\" style=\"width:120px;height:67px\"/></div></div></a>"
            ]
          },
          "metadata": {
            "tags": []
          },
          "execution_count": 77
        }
      ]
    },
    {
      "cell_type": "code",
      "metadata": {
        "colab": {
          "base_uri": "https://localhost:8080/"
        },
        "id": "TKJPxa4dxpR1",
        "outputId": "894e8754-226b-419b-80cf-93bce95a3495"
      },
      "source": [
        "for i in a:\n",
        "  try:\n",
        "    print(re.search(r'/url[?]q=(.*?)&amp', str(i)).group(1))\n",
        "  except:\n",
        "    continue"
      ],
      "execution_count": null,
      "outputs": [
        {
          "output_type": "stream",
          "text": [
            "https://www.freepressjournal.in/india/fpj-fact-check-has-indian-railways-cancelled-all-passenger-trains-till-march-31-2021\n",
            "https://www.freepressjournal.in/india/fpj-fact-check-has-indian-railways-cancelled-all-passenger-trains-till-march-31-2021\n",
            "https://in.news.yahoo.com/indian-railways-cancels-trains-till-152422235.html\n",
            "https://in.news.yahoo.com/indian-railways-cancels-trains-till-152422235.html\n",
            "https://www.energyinfrapost.com/right-track-heres-why-indian-railways-needs-big-doses-of-private-investment/\n",
            "https://www.energyinfrapost.com/indian-railways-eastern-western-dfcs-to-be-operational-by-indias-75th-year-of-independence/\n",
            "https://www.energyinfrapost.com/indian-railways-eastern-western-dfcs-to-be-operational-by-indias-75th-year-of-independence/\n",
            "https://www.india.com/news/india/irctc-indian-railways-latest-news-cancelled-trains-on-holi-cancelled-trains-on-uttar-pradesh-madhya-pradesh-bengal-route-check-full-list-of-cancelled-trains-here-4439205/\n",
            "https://www.india.com/news/india/irctc-indian-railways-latest-news-cancelled-trains-on-holi-cancelled-trains-on-uttar-pradesh-madhya-pradesh-bengal-route-check-full-list-of-cancelled-trains-here-4439205/\n",
            "https://www.energyinfrapost.com/irctcs-tejas-express-trains-to-shuttle-daily-between-lucknow-new-delhi-from-march-25/\n",
            "https://www.railjournal.com/in_depth/60-years-of-headlines/\n",
            "https://www.railjournal.com/in_depth/60-years-of-headlines/\n",
            "https://www.energyinfrapost.com/indian-railways-1st-fully-centralised-ac-terminal-in-bengaluru-to-begin-operations-soon-piyush-goyal/\n",
            "https://www.nationalheraldindia.com/india/priyanka-gandhi-starts-training-programme-in-up-grassroots-workers-upbeat-to-face-assembly-poll-in-2022\n",
            "https://www.nationalheraldindia.com/india/priyanka-gandhi-starts-training-programme-in-up-grassroots-workers-upbeat-to-face-assembly-poll-in-2022\n",
            "https://www.nationalheraldindia.com/opinion/eam-s-jaishankar-puts-a-weak-defence-on-human-rights-record-global-bodies-studies-cant-be-wished-away\n",
            "https://www.nationalheraldindia.com/opinion/eam-s-jaishankar-puts-a-weak-defence-on-human-rights-record-global-bodies-studies-cant-be-wished-away\n",
            "https://support.google.com/websearch%3Fp%3Dws_settings_location%26hl%3Den\n",
            "https://accounts.google.com/ServiceLogin%3Fcontinue%3Dhttps://www.google.com/search%253Fq%253DIndian%252BRailways%252BCancels%252BAll%252BPassenger%252BTrains%252BTill%252BMarch%252B31%252B%25257C%252BABP%252BNews%2526tbm%253Dnws%26hl%3Den\n"
          ],
          "name": "stdout"
        }
      ]
    }
  ]
}