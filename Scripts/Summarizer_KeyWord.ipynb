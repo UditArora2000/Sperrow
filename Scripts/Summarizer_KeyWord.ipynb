{
  "nbformat": 4,
  "nbformat_minor": 0,
  "metadata": {
    "colab": {
      "name": "psosm_proj_combined.ipynb",
      "provenance": [],
      "collapsed_sections": [
        "P3q7Yb3nT30m",
        "5k-vO1ABTl-d",
        "rHrHPSXyZcAR"
      ]
    },
    "kernelspec": {
      "display_name": "Python 3",
      "name": "python3"
    },
    "language_info": {
      "name": "python"
    },
    "widgets": {
      "application/vnd.jupyter.widget-state+json": {
        "e353b2adcaab4adf90ef9e8b5a9bb16e": {
          "model_module": "@jupyter-widgets/controls",
          "model_name": "HBoxModel",
          "state": {
            "_view_name": "HBoxView",
            "_dom_classes": [],
            "_model_name": "HBoxModel",
            "_view_module": "@jupyter-widgets/controls",
            "_model_module_version": "1.5.0",
            "_view_count": null,
            "_view_module_version": "1.5.0",
            "box_style": "",
            "layout": "IPY_MODEL_9746db496d4a45fdaf709e7811c37f0d",
            "_model_module": "@jupyter-widgets/controls",
            "children": [
              "IPY_MODEL_5f5e0bf71cb9468f91b137f2dd848e48",
              "IPY_MODEL_4d6b4c93ac8045feb95a19bc27a6ee4d"
            ]
          }
        },
        "9746db496d4a45fdaf709e7811c37f0d": {
          "model_module": "@jupyter-widgets/base",
          "model_name": "LayoutModel",
          "state": {
            "_view_name": "LayoutView",
            "grid_template_rows": null,
            "right": null,
            "justify_content": null,
            "_view_module": "@jupyter-widgets/base",
            "overflow": null,
            "_model_module_version": "1.2.0",
            "_view_count": null,
            "flex_flow": null,
            "width": null,
            "min_width": null,
            "border": null,
            "align_items": null,
            "bottom": null,
            "_model_module": "@jupyter-widgets/base",
            "top": null,
            "grid_column": null,
            "overflow_y": null,
            "overflow_x": null,
            "grid_auto_flow": null,
            "grid_area": null,
            "grid_template_columns": null,
            "flex": null,
            "_model_name": "LayoutModel",
            "justify_items": null,
            "grid_row": null,
            "max_height": null,
            "align_content": null,
            "visibility": null,
            "align_self": null,
            "height": null,
            "min_height": null,
            "padding": null,
            "grid_auto_rows": null,
            "grid_gap": null,
            "max_width": null,
            "order": null,
            "_view_module_version": "1.2.0",
            "grid_template_areas": null,
            "object_position": null,
            "object_fit": null,
            "grid_auto_columns": null,
            "margin": null,
            "display": null,
            "left": null
          }
        },
        "5f5e0bf71cb9468f91b137f2dd848e48": {
          "model_module": "@jupyter-widgets/controls",
          "model_name": "FloatProgressModel",
          "state": {
            "_view_name": "ProgressView",
            "style": "IPY_MODEL_69f73798b86f4aa7864499eae06a83e6",
            "_dom_classes": [],
            "description": "100%",
            "_model_name": "FloatProgressModel",
            "bar_style": "success",
            "max": 244733649,
            "_view_module": "@jupyter-widgets/controls",
            "_model_module_version": "1.5.0",
            "value": 244733649,
            "_view_count": null,
            "_view_module_version": "1.5.0",
            "orientation": "horizontal",
            "min": 0,
            "description_tooltip": null,
            "_model_module": "@jupyter-widgets/controls",
            "layout": "IPY_MODEL_cec8488082b0483583e9f7d1428c361c"
          }
        },
        "4d6b4c93ac8045feb95a19bc27a6ee4d": {
          "model_module": "@jupyter-widgets/controls",
          "model_name": "HTMLModel",
          "state": {
            "_view_name": "HTMLView",
            "style": "IPY_MODEL_77a313b39481402a963cf073b1dbfcb0",
            "_dom_classes": [],
            "description": "",
            "_model_name": "HTMLModel",
            "placeholder": "​",
            "_view_module": "@jupyter-widgets/controls",
            "_model_module_version": "1.5.0",
            "value": " 245M/245M [00:11&lt;00:00, 21.2MB/s]",
            "_view_count": null,
            "_view_module_version": "1.5.0",
            "description_tooltip": null,
            "_model_module": "@jupyter-widgets/controls",
            "layout": "IPY_MODEL_d233212e31ab489b9903800015f759f0"
          }
        },
        "69f73798b86f4aa7864499eae06a83e6": {
          "model_module": "@jupyter-widgets/controls",
          "model_name": "ProgressStyleModel",
          "state": {
            "_view_name": "StyleView",
            "_model_name": "ProgressStyleModel",
            "description_width": "initial",
            "_view_module": "@jupyter-widgets/base",
            "_model_module_version": "1.5.0",
            "_view_count": null,
            "_view_module_version": "1.2.0",
            "bar_color": null,
            "_model_module": "@jupyter-widgets/controls"
          }
        },
        "cec8488082b0483583e9f7d1428c361c": {
          "model_module": "@jupyter-widgets/base",
          "model_name": "LayoutModel",
          "state": {
            "_view_name": "LayoutView",
            "grid_template_rows": null,
            "right": null,
            "justify_content": null,
            "_view_module": "@jupyter-widgets/base",
            "overflow": null,
            "_model_module_version": "1.2.0",
            "_view_count": null,
            "flex_flow": null,
            "width": null,
            "min_width": null,
            "border": null,
            "align_items": null,
            "bottom": null,
            "_model_module": "@jupyter-widgets/base",
            "top": null,
            "grid_column": null,
            "overflow_y": null,
            "overflow_x": null,
            "grid_auto_flow": null,
            "grid_area": null,
            "grid_template_columns": null,
            "flex": null,
            "_model_name": "LayoutModel",
            "justify_items": null,
            "grid_row": null,
            "max_height": null,
            "align_content": null,
            "visibility": null,
            "align_self": null,
            "height": null,
            "min_height": null,
            "padding": null,
            "grid_auto_rows": null,
            "grid_gap": null,
            "max_width": null,
            "order": null,
            "_view_module_version": "1.2.0",
            "grid_template_areas": null,
            "object_position": null,
            "object_fit": null,
            "grid_auto_columns": null,
            "margin": null,
            "display": null,
            "left": null
          }
        },
        "77a313b39481402a963cf073b1dbfcb0": {
          "model_module": "@jupyter-widgets/controls",
          "model_name": "DescriptionStyleModel",
          "state": {
            "_view_name": "StyleView",
            "_model_name": "DescriptionStyleModel",
            "description_width": "",
            "_view_module": "@jupyter-widgets/base",
            "_model_module_version": "1.5.0",
            "_view_count": null,
            "_view_module_version": "1.2.0",
            "_model_module": "@jupyter-widgets/controls"
          }
        },
        "d233212e31ab489b9903800015f759f0": {
          "model_module": "@jupyter-widgets/base",
          "model_name": "LayoutModel",
          "state": {
            "_view_name": "LayoutView",
            "grid_template_rows": null,
            "right": null,
            "justify_content": null,
            "_view_module": "@jupyter-widgets/base",
            "overflow": null,
            "_model_module_version": "1.2.0",
            "_view_count": null,
            "flex_flow": null,
            "width": null,
            "min_width": null,
            "border": null,
            "align_items": null,
            "bottom": null,
            "_model_module": "@jupyter-widgets/base",
            "top": null,
            "grid_column": null,
            "overflow_y": null,
            "overflow_x": null,
            "grid_auto_flow": null,
            "grid_area": null,
            "grid_template_columns": null,
            "flex": null,
            "_model_name": "LayoutModel",
            "justify_items": null,
            "grid_row": null,
            "max_height": null,
            "align_content": null,
            "visibility": null,
            "align_self": null,
            "height": null,
            "min_height": null,
            "padding": null,
            "grid_auto_rows": null,
            "grid_gap": null,
            "max_width": null,
            "order": null,
            "_view_module_version": "1.2.0",
            "grid_template_areas": null,
            "object_position": null,
            "object_fit": null,
            "grid_auto_columns": null,
            "margin": null,
            "display": null,
            "left": null
          }
        },
        "4822b6fa9e214934983798d0fe9990a9": {
          "model_module": "@jupyter-widgets/controls",
          "model_name": "HBoxModel",
          "state": {
            "_view_name": "HBoxView",
            "_dom_classes": [],
            "_model_name": "HBoxModel",
            "_view_module": "@jupyter-widgets/controls",
            "_model_module_version": "1.5.0",
            "_view_count": null,
            "_view_module_version": "1.5.0",
            "box_style": "",
            "layout": "IPY_MODEL_b10bacdeed494f2a869225a37ceb263a",
            "_model_module": "@jupyter-widgets/controls",
            "children": [
              "IPY_MODEL_c02278e9733146488083fe4c7c55000b",
              "IPY_MODEL_e0c8c550044442df95c5d19310160f97"
            ]
          }
        },
        "b10bacdeed494f2a869225a37ceb263a": {
          "model_module": "@jupyter-widgets/base",
          "model_name": "LayoutModel",
          "state": {
            "_view_name": "LayoutView",
            "grid_template_rows": null,
            "right": null,
            "justify_content": null,
            "_view_module": "@jupyter-widgets/base",
            "overflow": null,
            "_model_module_version": "1.2.0",
            "_view_count": null,
            "flex_flow": null,
            "width": null,
            "min_width": null,
            "border": null,
            "align_items": null,
            "bottom": null,
            "_model_module": "@jupyter-widgets/base",
            "top": null,
            "grid_column": null,
            "overflow_y": null,
            "overflow_x": null,
            "grid_auto_flow": null,
            "grid_area": null,
            "grid_template_columns": null,
            "flex": null,
            "_model_name": "LayoutModel",
            "justify_items": null,
            "grid_row": null,
            "max_height": null,
            "align_content": null,
            "visibility": null,
            "align_self": null,
            "height": null,
            "min_height": null,
            "padding": null,
            "grid_auto_rows": null,
            "grid_gap": null,
            "max_width": null,
            "order": null,
            "_view_module_version": "1.2.0",
            "grid_template_areas": null,
            "object_position": null,
            "object_fit": null,
            "grid_auto_columns": null,
            "margin": null,
            "display": null,
            "left": null
          }
        },
        "c02278e9733146488083fe4c7c55000b": {
          "model_module": "@jupyter-widgets/controls",
          "model_name": "FloatProgressModel",
          "state": {
            "_view_name": "ProgressView",
            "style": "IPY_MODEL_0f47248a2dcd4fb5bcd9781d82efd1b2",
            "_dom_classes": [],
            "description": "Downloading: 100%",
            "_model_name": "FloatProgressModel",
            "bar_style": "success",
            "max": 1621,
            "_view_module": "@jupyter-widgets/controls",
            "_model_module_version": "1.5.0",
            "value": 1621,
            "_view_count": null,
            "_view_module_version": "1.5.0",
            "orientation": "horizontal",
            "min": 0,
            "description_tooltip": null,
            "_model_module": "@jupyter-widgets/controls",
            "layout": "IPY_MODEL_9c7d72a542944bc8886a3042750430b0"
          }
        },
        "e0c8c550044442df95c5d19310160f97": {
          "model_module": "@jupyter-widgets/controls",
          "model_name": "HTMLModel",
          "state": {
            "_view_name": "HTMLView",
            "style": "IPY_MODEL_bf1783de6f634dc68ad59135555f96c4",
            "_dom_classes": [],
            "description": "",
            "_model_name": "HTMLModel",
            "placeholder": "​",
            "_view_module": "@jupyter-widgets/controls",
            "_model_module_version": "1.5.0",
            "value": " 1.62k/1.62k [01:21&lt;00:00, 20.0B/s]",
            "_view_count": null,
            "_view_module_version": "1.5.0",
            "description_tooltip": null,
            "_model_module": "@jupyter-widgets/controls",
            "layout": "IPY_MODEL_1efa7bc513c24680b2567d1d07150be8"
          }
        },
        "0f47248a2dcd4fb5bcd9781d82efd1b2": {
          "model_module": "@jupyter-widgets/controls",
          "model_name": "ProgressStyleModel",
          "state": {
            "_view_name": "StyleView",
            "_model_name": "ProgressStyleModel",
            "description_width": "initial",
            "_view_module": "@jupyter-widgets/base",
            "_model_module_version": "1.5.0",
            "_view_count": null,
            "_view_module_version": "1.2.0",
            "bar_color": null,
            "_model_module": "@jupyter-widgets/controls"
          }
        },
        "9c7d72a542944bc8886a3042750430b0": {
          "model_module": "@jupyter-widgets/base",
          "model_name": "LayoutModel",
          "state": {
            "_view_name": "LayoutView",
            "grid_template_rows": null,
            "right": null,
            "justify_content": null,
            "_view_module": "@jupyter-widgets/base",
            "overflow": null,
            "_model_module_version": "1.2.0",
            "_view_count": null,
            "flex_flow": null,
            "width": null,
            "min_width": null,
            "border": null,
            "align_items": null,
            "bottom": null,
            "_model_module": "@jupyter-widgets/base",
            "top": null,
            "grid_column": null,
            "overflow_y": null,
            "overflow_x": null,
            "grid_auto_flow": null,
            "grid_area": null,
            "grid_template_columns": null,
            "flex": null,
            "_model_name": "LayoutModel",
            "justify_items": null,
            "grid_row": null,
            "max_height": null,
            "align_content": null,
            "visibility": null,
            "align_self": null,
            "height": null,
            "min_height": null,
            "padding": null,
            "grid_auto_rows": null,
            "grid_gap": null,
            "max_width": null,
            "order": null,
            "_view_module_version": "1.2.0",
            "grid_template_areas": null,
            "object_position": null,
            "object_fit": null,
            "grid_auto_columns": null,
            "margin": null,
            "display": null,
            "left": null
          }
        },
        "bf1783de6f634dc68ad59135555f96c4": {
          "model_module": "@jupyter-widgets/controls",
          "model_name": "DescriptionStyleModel",
          "state": {
            "_view_name": "StyleView",
            "_model_name": "DescriptionStyleModel",
            "description_width": "",
            "_view_module": "@jupyter-widgets/base",
            "_model_module_version": "1.5.0",
            "_view_count": null,
            "_view_module_version": "1.2.0",
            "_model_module": "@jupyter-widgets/controls"
          }
        },
        "1efa7bc513c24680b2567d1d07150be8": {
          "model_module": "@jupyter-widgets/base",
          "model_name": "LayoutModel",
          "state": {
            "_view_name": "LayoutView",
            "grid_template_rows": null,
            "right": null,
            "justify_content": null,
            "_view_module": "@jupyter-widgets/base",
            "overflow": null,
            "_model_module_version": "1.2.0",
            "_view_count": null,
            "flex_flow": null,
            "width": null,
            "min_width": null,
            "border": null,
            "align_items": null,
            "bottom": null,
            "_model_module": "@jupyter-widgets/base",
            "top": null,
            "grid_column": null,
            "overflow_y": null,
            "overflow_x": null,
            "grid_auto_flow": null,
            "grid_area": null,
            "grid_template_columns": null,
            "flex": null,
            "_model_name": "LayoutModel",
            "justify_items": null,
            "grid_row": null,
            "max_height": null,
            "align_content": null,
            "visibility": null,
            "align_self": null,
            "height": null,
            "min_height": null,
            "padding": null,
            "grid_auto_rows": null,
            "grid_gap": null,
            "max_width": null,
            "order": null,
            "_view_module_version": "1.2.0",
            "grid_template_areas": null,
            "object_position": null,
            "object_fit": null,
            "grid_auto_columns": null,
            "margin": null,
            "display": null,
            "left": null
          }
        },
        "e84a5f1de5544c808a97c6a9429a6339": {
          "model_module": "@jupyter-widgets/controls",
          "model_name": "HBoxModel",
          "state": {
            "_view_name": "HBoxView",
            "_dom_classes": [],
            "_model_name": "HBoxModel",
            "_view_module": "@jupyter-widgets/controls",
            "_model_module_version": "1.5.0",
            "_view_count": null,
            "_view_module_version": "1.5.0",
            "box_style": "",
            "layout": "IPY_MODEL_22ebd59fa66e408bb80342e8d776841e",
            "_model_module": "@jupyter-widgets/controls",
            "children": [
              "IPY_MODEL_8f1f489071284b86be0537345e7b49d6",
              "IPY_MODEL_f221b0fbc02c4716b12d65b0975b3ccc"
            ]
          }
        },
        "22ebd59fa66e408bb80342e8d776841e": {
          "model_module": "@jupyter-widgets/base",
          "model_name": "LayoutModel",
          "state": {
            "_view_name": "LayoutView",
            "grid_template_rows": null,
            "right": null,
            "justify_content": null,
            "_view_module": "@jupyter-widgets/base",
            "overflow": null,
            "_model_module_version": "1.2.0",
            "_view_count": null,
            "flex_flow": null,
            "width": null,
            "min_width": null,
            "border": null,
            "align_items": null,
            "bottom": null,
            "_model_module": "@jupyter-widgets/base",
            "top": null,
            "grid_column": null,
            "overflow_y": null,
            "overflow_x": null,
            "grid_auto_flow": null,
            "grid_area": null,
            "grid_template_columns": null,
            "flex": null,
            "_model_name": "LayoutModel",
            "justify_items": null,
            "grid_row": null,
            "max_height": null,
            "align_content": null,
            "visibility": null,
            "align_self": null,
            "height": null,
            "min_height": null,
            "padding": null,
            "grid_auto_rows": null,
            "grid_gap": null,
            "max_width": null,
            "order": null,
            "_view_module_version": "1.2.0",
            "grid_template_areas": null,
            "object_position": null,
            "object_fit": null,
            "grid_auto_columns": null,
            "margin": null,
            "display": null,
            "left": null
          }
        },
        "8f1f489071284b86be0537345e7b49d6": {
          "model_module": "@jupyter-widgets/controls",
          "model_name": "FloatProgressModel",
          "state": {
            "_view_name": "ProgressView",
            "style": "IPY_MODEL_89de6219bafe4d26ba5a3c084cffb894",
            "_dom_classes": [],
            "description": "Downloading: 100%",
            "_model_name": "FloatProgressModel",
            "bar_style": "success",
            "max": 1222317369,
            "_view_module": "@jupyter-widgets/controls",
            "_model_module_version": "1.5.0",
            "value": 1222317369,
            "_view_count": null,
            "_view_module_version": "1.5.0",
            "orientation": "horizontal",
            "min": 0,
            "description_tooltip": null,
            "_model_module": "@jupyter-widgets/controls",
            "layout": "IPY_MODEL_a3723c62303c471785fc2d45b65aa838"
          }
        },
        "f221b0fbc02c4716b12d65b0975b3ccc": {
          "model_module": "@jupyter-widgets/controls",
          "model_name": "HTMLModel",
          "state": {
            "_view_name": "HTMLView",
            "style": "IPY_MODEL_0bf2928e1be1411f8fc07bcc12f36a9e",
            "_dom_classes": [],
            "description": "",
            "_model_name": "HTMLModel",
            "placeholder": "​",
            "_view_module": "@jupyter-widgets/controls",
            "_model_module_version": "1.5.0",
            "value": " 1.22G/1.22G [00:30&lt;00:00, 40.4MB/s]",
            "_view_count": null,
            "_view_module_version": "1.5.0",
            "description_tooltip": null,
            "_model_module": "@jupyter-widgets/controls",
            "layout": "IPY_MODEL_46f5041d49664cdfad3a230fea75341c"
          }
        },
        "89de6219bafe4d26ba5a3c084cffb894": {
          "model_module": "@jupyter-widgets/controls",
          "model_name": "ProgressStyleModel",
          "state": {
            "_view_name": "StyleView",
            "_model_name": "ProgressStyleModel",
            "description_width": "initial",
            "_view_module": "@jupyter-widgets/base",
            "_model_module_version": "1.5.0",
            "_view_count": null,
            "_view_module_version": "1.2.0",
            "bar_color": null,
            "_model_module": "@jupyter-widgets/controls"
          }
        },
        "a3723c62303c471785fc2d45b65aa838": {
          "model_module": "@jupyter-widgets/base",
          "model_name": "LayoutModel",
          "state": {
            "_view_name": "LayoutView",
            "grid_template_rows": null,
            "right": null,
            "justify_content": null,
            "_view_module": "@jupyter-widgets/base",
            "overflow": null,
            "_model_module_version": "1.2.0",
            "_view_count": null,
            "flex_flow": null,
            "width": null,
            "min_width": null,
            "border": null,
            "align_items": null,
            "bottom": null,
            "_model_module": "@jupyter-widgets/base",
            "top": null,
            "grid_column": null,
            "overflow_y": null,
            "overflow_x": null,
            "grid_auto_flow": null,
            "grid_area": null,
            "grid_template_columns": null,
            "flex": null,
            "_model_name": "LayoutModel",
            "justify_items": null,
            "grid_row": null,
            "max_height": null,
            "align_content": null,
            "visibility": null,
            "align_self": null,
            "height": null,
            "min_height": null,
            "padding": null,
            "grid_auto_rows": null,
            "grid_gap": null,
            "max_width": null,
            "order": null,
            "_view_module_version": "1.2.0",
            "grid_template_areas": null,
            "object_position": null,
            "object_fit": null,
            "grid_auto_columns": null,
            "margin": null,
            "display": null,
            "left": null
          }
        },
        "0bf2928e1be1411f8fc07bcc12f36a9e": {
          "model_module": "@jupyter-widgets/controls",
          "model_name": "DescriptionStyleModel",
          "state": {
            "_view_name": "StyleView",
            "_model_name": "DescriptionStyleModel",
            "description_width": "",
            "_view_module": "@jupyter-widgets/base",
            "_model_module_version": "1.5.0",
            "_view_count": null,
            "_view_module_version": "1.2.0",
            "_model_module": "@jupyter-widgets/controls"
          }
        },
        "46f5041d49664cdfad3a230fea75341c": {
          "model_module": "@jupyter-widgets/base",
          "model_name": "LayoutModel",
          "state": {
            "_view_name": "LayoutView",
            "grid_template_rows": null,
            "right": null,
            "justify_content": null,
            "_view_module": "@jupyter-widgets/base",
            "overflow": null,
            "_model_module_version": "1.2.0",
            "_view_count": null,
            "flex_flow": null,
            "width": null,
            "min_width": null,
            "border": null,
            "align_items": null,
            "bottom": null,
            "_model_module": "@jupyter-widgets/base",
            "top": null,
            "grid_column": null,
            "overflow_y": null,
            "overflow_x": null,
            "grid_auto_flow": null,
            "grid_area": null,
            "grid_template_columns": null,
            "flex": null,
            "_model_name": "LayoutModel",
            "justify_items": null,
            "grid_row": null,
            "max_height": null,
            "align_content": null,
            "visibility": null,
            "align_self": null,
            "height": null,
            "min_height": null,
            "padding": null,
            "grid_auto_rows": null,
            "grid_gap": null,
            "max_width": null,
            "order": null,
            "_view_module_version": "1.2.0",
            "grid_template_areas": null,
            "object_position": null,
            "object_fit": null,
            "grid_auto_columns": null,
            "margin": null,
            "display": null,
            "left": null
          }
        },
        "b20ee4c8500b421a98cabf87acb62602": {
          "model_module": "@jupyter-widgets/controls",
          "model_name": "HBoxModel",
          "state": {
            "_view_name": "HBoxView",
            "_dom_classes": [],
            "_model_name": "HBoxModel",
            "_view_module": "@jupyter-widgets/controls",
            "_model_module_version": "1.5.0",
            "_view_count": null,
            "_view_module_version": "1.5.0",
            "box_style": "",
            "layout": "IPY_MODEL_40c5b198c63d48a3bbe597694dd4f846",
            "_model_module": "@jupyter-widgets/controls",
            "children": [
              "IPY_MODEL_4f3966755da34fbab3d80c9f2a3a5456",
              "IPY_MODEL_097f852889ae4d58a527286d29ef829a"
            ]
          }
        },
        "40c5b198c63d48a3bbe597694dd4f846": {
          "model_module": "@jupyter-widgets/base",
          "model_name": "LayoutModel",
          "state": {
            "_view_name": "LayoutView",
            "grid_template_rows": null,
            "right": null,
            "justify_content": null,
            "_view_module": "@jupyter-widgets/base",
            "overflow": null,
            "_model_module_version": "1.2.0",
            "_view_count": null,
            "flex_flow": null,
            "width": null,
            "min_width": null,
            "border": null,
            "align_items": null,
            "bottom": null,
            "_model_module": "@jupyter-widgets/base",
            "top": null,
            "grid_column": null,
            "overflow_y": null,
            "overflow_x": null,
            "grid_auto_flow": null,
            "grid_area": null,
            "grid_template_columns": null,
            "flex": null,
            "_model_name": "LayoutModel",
            "justify_items": null,
            "grid_row": null,
            "max_height": null,
            "align_content": null,
            "visibility": null,
            "align_self": null,
            "height": null,
            "min_height": null,
            "padding": null,
            "grid_auto_rows": null,
            "grid_gap": null,
            "max_width": null,
            "order": null,
            "_view_module_version": "1.2.0",
            "grid_template_areas": null,
            "object_position": null,
            "object_fit": null,
            "grid_auto_columns": null,
            "margin": null,
            "display": null,
            "left": null
          }
        },
        "4f3966755da34fbab3d80c9f2a3a5456": {
          "model_module": "@jupyter-widgets/controls",
          "model_name": "FloatProgressModel",
          "state": {
            "_view_name": "ProgressView",
            "style": "IPY_MODEL_b21d7412807e4e4fa4e885bf50e5c740",
            "_dom_classes": [],
            "description": "Downloading: 100%",
            "_model_name": "FloatProgressModel",
            "bar_style": "success",
            "max": 898822,
            "_view_module": "@jupyter-widgets/controls",
            "_model_module_version": "1.5.0",
            "value": 898822,
            "_view_count": null,
            "_view_module_version": "1.5.0",
            "orientation": "horizontal",
            "min": 0,
            "description_tooltip": null,
            "_model_module": "@jupyter-widgets/controls",
            "layout": "IPY_MODEL_3fd2652972e24bdeb43afe0adfcecb42"
          }
        },
        "097f852889ae4d58a527286d29ef829a": {
          "model_module": "@jupyter-widgets/controls",
          "model_name": "HTMLModel",
          "state": {
            "_view_name": "HTMLView",
            "style": "IPY_MODEL_500db222e3a24512aca368a96a4bab8e",
            "_dom_classes": [],
            "description": "",
            "_model_name": "HTMLModel",
            "placeholder": "​",
            "_view_module": "@jupyter-widgets/controls",
            "_model_module_version": "1.5.0",
            "value": " 899k/899k [00:01&lt;00:00, 829kB/s]",
            "_view_count": null,
            "_view_module_version": "1.5.0",
            "description_tooltip": null,
            "_model_module": "@jupyter-widgets/controls",
            "layout": "IPY_MODEL_fa7dbf7ce5d2464a8f92736f2f8a14b6"
          }
        },
        "b21d7412807e4e4fa4e885bf50e5c740": {
          "model_module": "@jupyter-widgets/controls",
          "model_name": "ProgressStyleModel",
          "state": {
            "_view_name": "StyleView",
            "_model_name": "ProgressStyleModel",
            "description_width": "initial",
            "_view_module": "@jupyter-widgets/base",
            "_model_module_version": "1.5.0",
            "_view_count": null,
            "_view_module_version": "1.2.0",
            "bar_color": null,
            "_model_module": "@jupyter-widgets/controls"
          }
        },
        "3fd2652972e24bdeb43afe0adfcecb42": {
          "model_module": "@jupyter-widgets/base",
          "model_name": "LayoutModel",
          "state": {
            "_view_name": "LayoutView",
            "grid_template_rows": null,
            "right": null,
            "justify_content": null,
            "_view_module": "@jupyter-widgets/base",
            "overflow": null,
            "_model_module_version": "1.2.0",
            "_view_count": null,
            "flex_flow": null,
            "width": null,
            "min_width": null,
            "border": null,
            "align_items": null,
            "bottom": null,
            "_model_module": "@jupyter-widgets/base",
            "top": null,
            "grid_column": null,
            "overflow_y": null,
            "overflow_x": null,
            "grid_auto_flow": null,
            "grid_area": null,
            "grid_template_columns": null,
            "flex": null,
            "_model_name": "LayoutModel",
            "justify_items": null,
            "grid_row": null,
            "max_height": null,
            "align_content": null,
            "visibility": null,
            "align_self": null,
            "height": null,
            "min_height": null,
            "padding": null,
            "grid_auto_rows": null,
            "grid_gap": null,
            "max_width": null,
            "order": null,
            "_view_module_version": "1.2.0",
            "grid_template_areas": null,
            "object_position": null,
            "object_fit": null,
            "grid_auto_columns": null,
            "margin": null,
            "display": null,
            "left": null
          }
        },
        "500db222e3a24512aca368a96a4bab8e": {
          "model_module": "@jupyter-widgets/controls",
          "model_name": "DescriptionStyleModel",
          "state": {
            "_view_name": "StyleView",
            "_model_name": "DescriptionStyleModel",
            "description_width": "",
            "_view_module": "@jupyter-widgets/base",
            "_model_module_version": "1.5.0",
            "_view_count": null,
            "_view_module_version": "1.2.0",
            "_model_module": "@jupyter-widgets/controls"
          }
        },
        "fa7dbf7ce5d2464a8f92736f2f8a14b6": {
          "model_module": "@jupyter-widgets/base",
          "model_name": "LayoutModel",
          "state": {
            "_view_name": "LayoutView",
            "grid_template_rows": null,
            "right": null,
            "justify_content": null,
            "_view_module": "@jupyter-widgets/base",
            "overflow": null,
            "_model_module_version": "1.2.0",
            "_view_count": null,
            "flex_flow": null,
            "width": null,
            "min_width": null,
            "border": null,
            "align_items": null,
            "bottom": null,
            "_model_module": "@jupyter-widgets/base",
            "top": null,
            "grid_column": null,
            "overflow_y": null,
            "overflow_x": null,
            "grid_auto_flow": null,
            "grid_area": null,
            "grid_template_columns": null,
            "flex": null,
            "_model_name": "LayoutModel",
            "justify_items": null,
            "grid_row": null,
            "max_height": null,
            "align_content": null,
            "visibility": null,
            "align_self": null,
            "height": null,
            "min_height": null,
            "padding": null,
            "grid_auto_rows": null,
            "grid_gap": null,
            "max_width": null,
            "order": null,
            "_view_module_version": "1.2.0",
            "grid_template_areas": null,
            "object_position": null,
            "object_fit": null,
            "grid_auto_columns": null,
            "margin": null,
            "display": null,
            "left": null
          }
        },
        "d9f9de7739714918ac41e4f27257463e": {
          "model_module": "@jupyter-widgets/controls",
          "model_name": "HBoxModel",
          "state": {
            "_view_name": "HBoxView",
            "_dom_classes": [],
            "_model_name": "HBoxModel",
            "_view_module": "@jupyter-widgets/controls",
            "_model_module_version": "1.5.0",
            "_view_count": null,
            "_view_module_version": "1.5.0",
            "box_style": "",
            "layout": "IPY_MODEL_e681a7d7f1e34c6780353f53ab6bd5ce",
            "_model_module": "@jupyter-widgets/controls",
            "children": [
              "IPY_MODEL_6ca143c20d1c40d59f496d03109fe5b8",
              "IPY_MODEL_a7004c45d1b24cedbde34a5942ff4005"
            ]
          }
        },
        "e681a7d7f1e34c6780353f53ab6bd5ce": {
          "model_module": "@jupyter-widgets/base",
          "model_name": "LayoutModel",
          "state": {
            "_view_name": "LayoutView",
            "grid_template_rows": null,
            "right": null,
            "justify_content": null,
            "_view_module": "@jupyter-widgets/base",
            "overflow": null,
            "_model_module_version": "1.2.0",
            "_view_count": null,
            "flex_flow": null,
            "width": null,
            "min_width": null,
            "border": null,
            "align_items": null,
            "bottom": null,
            "_model_module": "@jupyter-widgets/base",
            "top": null,
            "grid_column": null,
            "overflow_y": null,
            "overflow_x": null,
            "grid_auto_flow": null,
            "grid_area": null,
            "grid_template_columns": null,
            "flex": null,
            "_model_name": "LayoutModel",
            "justify_items": null,
            "grid_row": null,
            "max_height": null,
            "align_content": null,
            "visibility": null,
            "align_self": null,
            "height": null,
            "min_height": null,
            "padding": null,
            "grid_auto_rows": null,
            "grid_gap": null,
            "max_width": null,
            "order": null,
            "_view_module_version": "1.2.0",
            "grid_template_areas": null,
            "object_position": null,
            "object_fit": null,
            "grid_auto_columns": null,
            "margin": null,
            "display": null,
            "left": null
          }
        },
        "6ca143c20d1c40d59f496d03109fe5b8": {
          "model_module": "@jupyter-widgets/controls",
          "model_name": "FloatProgressModel",
          "state": {
            "_view_name": "ProgressView",
            "style": "IPY_MODEL_d284579b4d8b4422934e38a0c13658f4",
            "_dom_classes": [],
            "description": "Downloading: 100%",
            "_model_name": "FloatProgressModel",
            "bar_style": "success",
            "max": 456318,
            "_view_module": "@jupyter-widgets/controls",
            "_model_module_version": "1.5.0",
            "value": 456318,
            "_view_count": null,
            "_view_module_version": "1.5.0",
            "orientation": "horizontal",
            "min": 0,
            "description_tooltip": null,
            "_model_module": "@jupyter-widgets/controls",
            "layout": "IPY_MODEL_03bc772701034c8f89aa2f301d98c505"
          }
        },
        "a7004c45d1b24cedbde34a5942ff4005": {
          "model_module": "@jupyter-widgets/controls",
          "model_name": "HTMLModel",
          "state": {
            "_view_name": "HTMLView",
            "style": "IPY_MODEL_2d4c5661191843aba359605e1ed49730",
            "_dom_classes": [],
            "description": "",
            "_model_name": "HTMLModel",
            "placeholder": "​",
            "_view_module": "@jupyter-widgets/controls",
            "_model_module_version": "1.5.0",
            "value": " 456k/456k [00:01&lt;00:00, 237kB/s]",
            "_view_count": null,
            "_view_module_version": "1.5.0",
            "description_tooltip": null,
            "_model_module": "@jupyter-widgets/controls",
            "layout": "IPY_MODEL_f4e2828b3aed45a7acdf2b258a67946a"
          }
        },
        "d284579b4d8b4422934e38a0c13658f4": {
          "model_module": "@jupyter-widgets/controls",
          "model_name": "ProgressStyleModel",
          "state": {
            "_view_name": "StyleView",
            "_model_name": "ProgressStyleModel",
            "description_width": "initial",
            "_view_module": "@jupyter-widgets/base",
            "_model_module_version": "1.5.0",
            "_view_count": null,
            "_view_module_version": "1.2.0",
            "bar_color": null,
            "_model_module": "@jupyter-widgets/controls"
          }
        },
        "03bc772701034c8f89aa2f301d98c505": {
          "model_module": "@jupyter-widgets/base",
          "model_name": "LayoutModel",
          "state": {
            "_view_name": "LayoutView",
            "grid_template_rows": null,
            "right": null,
            "justify_content": null,
            "_view_module": "@jupyter-widgets/base",
            "overflow": null,
            "_model_module_version": "1.2.0",
            "_view_count": null,
            "flex_flow": null,
            "width": null,
            "min_width": null,
            "border": null,
            "align_items": null,
            "bottom": null,
            "_model_module": "@jupyter-widgets/base",
            "top": null,
            "grid_column": null,
            "overflow_y": null,
            "overflow_x": null,
            "grid_auto_flow": null,
            "grid_area": null,
            "grid_template_columns": null,
            "flex": null,
            "_model_name": "LayoutModel",
            "justify_items": null,
            "grid_row": null,
            "max_height": null,
            "align_content": null,
            "visibility": null,
            "align_self": null,
            "height": null,
            "min_height": null,
            "padding": null,
            "grid_auto_rows": null,
            "grid_gap": null,
            "max_width": null,
            "order": null,
            "_view_module_version": "1.2.0",
            "grid_template_areas": null,
            "object_position": null,
            "object_fit": null,
            "grid_auto_columns": null,
            "margin": null,
            "display": null,
            "left": null
          }
        },
        "2d4c5661191843aba359605e1ed49730": {
          "model_module": "@jupyter-widgets/controls",
          "model_name": "DescriptionStyleModel",
          "state": {
            "_view_name": "StyleView",
            "_model_name": "DescriptionStyleModel",
            "description_width": "",
            "_view_module": "@jupyter-widgets/base",
            "_model_module_version": "1.5.0",
            "_view_count": null,
            "_view_module_version": "1.2.0",
            "_model_module": "@jupyter-widgets/controls"
          }
        },
        "f4e2828b3aed45a7acdf2b258a67946a": {
          "model_module": "@jupyter-widgets/base",
          "model_name": "LayoutModel",
          "state": {
            "_view_name": "LayoutView",
            "grid_template_rows": null,
            "right": null,
            "justify_content": null,
            "_view_module": "@jupyter-widgets/base",
            "overflow": null,
            "_model_module_version": "1.2.0",
            "_view_count": null,
            "flex_flow": null,
            "width": null,
            "min_width": null,
            "border": null,
            "align_items": null,
            "bottom": null,
            "_model_module": "@jupyter-widgets/base",
            "top": null,
            "grid_column": null,
            "overflow_y": null,
            "overflow_x": null,
            "grid_auto_flow": null,
            "grid_area": null,
            "grid_template_columns": null,
            "flex": null,
            "_model_name": "LayoutModel",
            "justify_items": null,
            "grid_row": null,
            "max_height": null,
            "align_content": null,
            "visibility": null,
            "align_self": null,
            "height": null,
            "min_height": null,
            "padding": null,
            "grid_auto_rows": null,
            "grid_gap": null,
            "max_width": null,
            "order": null,
            "_view_module_version": "1.2.0",
            "grid_template_areas": null,
            "object_position": null,
            "object_fit": null,
            "grid_auto_columns": null,
            "margin": null,
            "display": null,
            "left": null
          }
        },
        "e9fd2cc960ca435196579fe57d9c0e0a": {
          "model_module": "@jupyter-widgets/controls",
          "model_name": "HBoxModel",
          "state": {
            "_view_name": "HBoxView",
            "_dom_classes": [],
            "_model_name": "HBoxModel",
            "_view_module": "@jupyter-widgets/controls",
            "_model_module_version": "1.5.0",
            "_view_count": null,
            "_view_module_version": "1.5.0",
            "box_style": "",
            "layout": "IPY_MODEL_77d19c73132f4af1909a3a05f69514d5",
            "_model_module": "@jupyter-widgets/controls",
            "children": [
              "IPY_MODEL_76b7fa66c2e7457ab303b6f0290bd22a",
              "IPY_MODEL_b2345f8c469141be9955e4097d410ed6"
            ]
          }
        },
        "77d19c73132f4af1909a3a05f69514d5": {
          "model_module": "@jupyter-widgets/base",
          "model_name": "LayoutModel",
          "state": {
            "_view_name": "LayoutView",
            "grid_template_rows": null,
            "right": null,
            "justify_content": null,
            "_view_module": "@jupyter-widgets/base",
            "overflow": null,
            "_model_module_version": "1.2.0",
            "_view_count": null,
            "flex_flow": null,
            "width": null,
            "min_width": null,
            "border": null,
            "align_items": null,
            "bottom": null,
            "_model_module": "@jupyter-widgets/base",
            "top": null,
            "grid_column": null,
            "overflow_y": null,
            "overflow_x": null,
            "grid_auto_flow": null,
            "grid_area": null,
            "grid_template_columns": null,
            "flex": null,
            "_model_name": "LayoutModel",
            "justify_items": null,
            "grid_row": null,
            "max_height": null,
            "align_content": null,
            "visibility": null,
            "align_self": null,
            "height": null,
            "min_height": null,
            "padding": null,
            "grid_auto_rows": null,
            "grid_gap": null,
            "max_width": null,
            "order": null,
            "_view_module_version": "1.2.0",
            "grid_template_areas": null,
            "object_position": null,
            "object_fit": null,
            "grid_auto_columns": null,
            "margin": null,
            "display": null,
            "left": null
          }
        },
        "76b7fa66c2e7457ab303b6f0290bd22a": {
          "model_module": "@jupyter-widgets/controls",
          "model_name": "FloatProgressModel",
          "state": {
            "_view_name": "ProgressView",
            "style": "IPY_MODEL_91f26c405de445a8aa83e31d5df57dd9",
            "_dom_classes": [],
            "description": "Downloading: 100%",
            "_model_name": "FloatProgressModel",
            "bar_style": "success",
            "max": 26,
            "_view_module": "@jupyter-widgets/controls",
            "_model_module_version": "1.5.0",
            "value": 26,
            "_view_count": null,
            "_view_module_version": "1.5.0",
            "orientation": "horizontal",
            "min": 0,
            "description_tooltip": null,
            "_model_module": "@jupyter-widgets/controls",
            "layout": "IPY_MODEL_6909bab31e3b4f5aa155e22e8167091c"
          }
        },
        "b2345f8c469141be9955e4097d410ed6": {
          "model_module": "@jupyter-widgets/controls",
          "model_name": "HTMLModel",
          "state": {
            "_view_name": "HTMLView",
            "style": "IPY_MODEL_051856aeebc44d11a975a91f1b374367",
            "_dom_classes": [],
            "description": "",
            "_model_name": "HTMLModel",
            "placeholder": "​",
            "_view_module": "@jupyter-widgets/controls",
            "_model_module_version": "1.5.0",
            "value": " 26.0/26.0 [00:00&lt;00:00, 212B/s]",
            "_view_count": null,
            "_view_module_version": "1.5.0",
            "description_tooltip": null,
            "_model_module": "@jupyter-widgets/controls",
            "layout": "IPY_MODEL_308dcfcdab0c45db8c7ad3bbdcc0b22b"
          }
        },
        "91f26c405de445a8aa83e31d5df57dd9": {
          "model_module": "@jupyter-widgets/controls",
          "model_name": "ProgressStyleModel",
          "state": {
            "_view_name": "StyleView",
            "_model_name": "ProgressStyleModel",
            "description_width": "initial",
            "_view_module": "@jupyter-widgets/base",
            "_model_module_version": "1.5.0",
            "_view_count": null,
            "_view_module_version": "1.2.0",
            "bar_color": null,
            "_model_module": "@jupyter-widgets/controls"
          }
        },
        "6909bab31e3b4f5aa155e22e8167091c": {
          "model_module": "@jupyter-widgets/base",
          "model_name": "LayoutModel",
          "state": {
            "_view_name": "LayoutView",
            "grid_template_rows": null,
            "right": null,
            "justify_content": null,
            "_view_module": "@jupyter-widgets/base",
            "overflow": null,
            "_model_module_version": "1.2.0",
            "_view_count": null,
            "flex_flow": null,
            "width": null,
            "min_width": null,
            "border": null,
            "align_items": null,
            "bottom": null,
            "_model_module": "@jupyter-widgets/base",
            "top": null,
            "grid_column": null,
            "overflow_y": null,
            "overflow_x": null,
            "grid_auto_flow": null,
            "grid_area": null,
            "grid_template_columns": null,
            "flex": null,
            "_model_name": "LayoutModel",
            "justify_items": null,
            "grid_row": null,
            "max_height": null,
            "align_content": null,
            "visibility": null,
            "align_self": null,
            "height": null,
            "min_height": null,
            "padding": null,
            "grid_auto_rows": null,
            "grid_gap": null,
            "max_width": null,
            "order": null,
            "_view_module_version": "1.2.0",
            "grid_template_areas": null,
            "object_position": null,
            "object_fit": null,
            "grid_auto_columns": null,
            "margin": null,
            "display": null,
            "left": null
          }
        },
        "051856aeebc44d11a975a91f1b374367": {
          "model_module": "@jupyter-widgets/controls",
          "model_name": "DescriptionStyleModel",
          "state": {
            "_view_name": "StyleView",
            "_model_name": "DescriptionStyleModel",
            "description_width": "",
            "_view_module": "@jupyter-widgets/base",
            "_model_module_version": "1.5.0",
            "_view_count": null,
            "_view_module_version": "1.2.0",
            "_model_module": "@jupyter-widgets/controls"
          }
        },
        "308dcfcdab0c45db8c7ad3bbdcc0b22b": {
          "model_module": "@jupyter-widgets/base",
          "model_name": "LayoutModel",
          "state": {
            "_view_name": "LayoutView",
            "grid_template_rows": null,
            "right": null,
            "justify_content": null,
            "_view_module": "@jupyter-widgets/base",
            "overflow": null,
            "_model_module_version": "1.2.0",
            "_view_count": null,
            "flex_flow": null,
            "width": null,
            "min_width": null,
            "border": null,
            "align_items": null,
            "bottom": null,
            "_model_module": "@jupyter-widgets/base",
            "top": null,
            "grid_column": null,
            "overflow_y": null,
            "overflow_x": null,
            "grid_auto_flow": null,
            "grid_area": null,
            "grid_template_columns": null,
            "flex": null,
            "_model_name": "LayoutModel",
            "justify_items": null,
            "grid_row": null,
            "max_height": null,
            "align_content": null,
            "visibility": null,
            "align_self": null,
            "height": null,
            "min_height": null,
            "padding": null,
            "grid_auto_rows": null,
            "grid_gap": null,
            "max_width": null,
            "order": null,
            "_view_module_version": "1.2.0",
            "grid_template_areas": null,
            "object_position": null,
            "object_fit": null,
            "grid_auto_columns": null,
            "margin": null,
            "display": null,
            "left": null
          }
        }
      }
    }
  },
  "cells": [
    {
      "cell_type": "code",
      "metadata": {
        "colab": {
          "base_uri": "https://localhost:8080/"
        },
        "id": "GL_kwrm4TdUs",
        "outputId": "7bc228cf-7b9f-4afb-fd65-fc277f0864f1"
      },
      "source": [
        "!pip install -q bert-extractive-summarizer\n",
        "!pip install -q neuralcoref\n",
        "!pip install -q transformers\n",
        "\n",
        "!pip3 install news-please\n",
        "!pip3 install cchardet\n",
        "\n",
        "!pip install -q keybert\n",
        "\n",
        "!pip install beautifulsoup4"
      ],
      "execution_count": null,
      "outputs": [
        {
          "output_type": "stream",
          "text": [
            "\u001b[K     |████████████████████████████████| 2.0MB 17.0MB/s \n",
            "\u001b[K     |████████████████████████████████| 890kB 62.6MB/s \n",
            "\u001b[K     |████████████████████████████████| 3.2MB 33.0MB/s \n",
            "\u001b[?25h  Building wheel for sacremoses (setup.py) ... \u001b[?25l\u001b[?25hdone\n",
            "\u001b[K     |████████████████████████████████| 286kB 13.3MB/s \n",
            "\u001b[K     |████████████████████████████████| 133kB 11.9MB/s \n",
            "\u001b[K     |████████████████████████████████| 81kB 5.0MB/s \n",
            "\u001b[K     |████████████████████████████████| 7.3MB 23.8MB/s \n",
            "\u001b[31mERROR: botocore 1.20.33 has requirement urllib3<1.27,>=1.25.4, but you'll have urllib3 1.24.3 which is incompatible.\u001b[0m\n",
            "\u001b[?25hCollecting news-please\n",
            "\u001b[?25l  Downloading https://files.pythonhosted.org/packages/d3/c7/07248fa4b2a32bc28e6a40ea065555c07a83fd66e9407e9aeba57e458a15/news-please-1.5.18.tar.gz (66kB)\n",
            "\u001b[K     |████████████████████████████████| 71kB 4.2MB/s \n",
            "\u001b[?25hCollecting Scrapy>=1.1.0\n",
            "\u001b[?25l  Downloading https://files.pythonhosted.org/packages/3a/16/3c7c37caf25f91aa21db194655515718c2a15f704f9f5c59a194f5c83db0/Scrapy-2.4.1-py2.py3-none-any.whl (239kB)\n",
            "\u001b[K     |████████████████████████████████| 245kB 15.9MB/s \n",
            "\u001b[?25hCollecting PyMySQL>=0.7.9\n",
            "\u001b[?25l  Downloading https://files.pythonhosted.org/packages/4f/52/a115fe175028b058df353c5a3d5290b71514a83f67078a6482cff24d6137/PyMySQL-1.0.2-py3-none-any.whl (43kB)\n",
            "\u001b[K     |████████████████████████████████| 51kB 3.6MB/s \n",
            "\u001b[?25hCollecting psycopg2-binary>=2.8.4\n",
            "\u001b[?25l  Downloading https://files.pythonhosted.org/packages/6d/45/c519a5cfac05e14b1ccb242138915855293199840598e087b935ba1d86bc/psycopg2_binary-2.8.6-cp37-cp37m-manylinux1_x86_64.whl (3.0MB)\n",
            "\u001b[K     |████████████████████████████████| 3.0MB 23.4MB/s \n",
            "\u001b[?25hCollecting hjson>=1.5.8\n",
            "\u001b[?25l  Downloading https://files.pythonhosted.org/packages/74/da/f7c0e3407f1f600326ff762373f57971a16b771435736b70ce9c24fbe761/hjson-3.0.2-py3-none-any.whl (54kB)\n",
            "\u001b[K     |████████████████████████████████| 61kB 4.1MB/s \n",
            "\u001b[?25hCollecting elasticsearch>=2.4\n",
            "\u001b[?25l  Downloading https://files.pythonhosted.org/packages/72/68/76c5d46cc6a48fddb759f585bc8728caa11bfc9b812ce6705fc5f99beab2/elasticsearch-7.11.0-py2.py3-none-any.whl (325kB)\n",
            "\u001b[K     |████████████████████████████████| 327kB 54.8MB/s \n",
            "\u001b[?25hRequirement already satisfied: beautifulsoup4>=4.3.2 in /usr/local/lib/python3.7/dist-packages (from news-please) (4.6.3)\n",
            "Collecting readability-lxml>=0.6.2\n",
            "  Downloading https://files.pythonhosted.org/packages/39/a6/cfe22aaa19ac69b97d127043a76a5bbcb0ef24f3a0b22793c46608190caa/readability_lxml-0.8.1-py3-none-any.whl\n",
            "Collecting newspaper3k>=0.2.8\n",
            "\u001b[?25l  Downloading https://files.pythonhosted.org/packages/d7/b9/51afecb35bb61b188a4b44868001de348a0e8134b4dfa00ffc191567c4b9/newspaper3k-0.2.8-py3-none-any.whl (211kB)\n",
            "\u001b[K     |████████████████████████████████| 215kB 44.1MB/s \n",
            "\u001b[?25hCollecting langdetect>=1.0.7\n",
            "\u001b[?25l  Downloading https://files.pythonhosted.org/packages/56/a3/8407c1e62d5980188b4acc45ef3d94b933d14a2ebc9ef3505f22cf772570/langdetect-1.0.8.tar.gz (981kB)\n",
            "\u001b[K     |████████████████████████████████| 983kB 39.8MB/s \n",
            "\u001b[?25hRequirement already satisfied: python-dateutil>=2.4.0 in /usr/local/lib/python3.7/dist-packages (from news-please) (2.8.1)\n",
            "Requirement already satisfied: plac>=0.9.6 in /usr/local/lib/python3.7/dist-packages (from news-please) (1.1.3)\n",
            "Collecting dotmap>=1.2.17\n",
            "  Downloading https://files.pythonhosted.org/packages/17/6f/c94adbb0e6d418ededbf1082a3067f178fb012573b960d446e5655e6fbe1/dotmap-1.3.23-py3-none-any.whl\n",
            "Collecting PyDispatcher>=2.0.5\n",
            "  Downloading https://files.pythonhosted.org/packages/cd/37/39aca520918ce1935bea9c356bcbb7ed7e52ad4e31bff9b943dfc8e7115b/PyDispatcher-2.0.5.tar.gz\n",
            "Collecting warcio>=1.3.3\n",
            "\u001b[?25l  Downloading https://files.pythonhosted.org/packages/24/eb/060b7e1c76abf24692784d5cf9c52ec05ff21249c88515d7f03c676434db/warcio-1.7.4-py2.py3-none-any.whl (40kB)\n",
            "\u001b[K     |████████████████████████████████| 40kB 3.0MB/s \n",
            "\u001b[?25hCollecting ago>=0.0.9\n",
            "  Downloading https://files.pythonhosted.org/packages/f8/4e/976bd88566b0feec295873c3aa5a8712219edb2c07c7f6723c831e8840bd/ago-0.0.93.tar.gz\n",
            "Requirement already satisfied: six>=1.10.0 in /usr/local/lib/python3.7/dist-packages (from news-please) (1.15.0)\n",
            "Requirement already satisfied: lxml>=3.3.5 in /usr/local/lib/python3.7/dist-packages (from news-please) (4.2.6)\n",
            "Collecting awscli>=1.11.117\n",
            "\u001b[?25l  Downloading https://files.pythonhosted.org/packages/5c/5e/276cc5c85ac0a275655fd4af9e644adf73f1975c5f3273881d42635b4623/awscli-1.19.33-py2.py3-none-any.whl (3.6MB)\n",
            "\u001b[K     |████████████████████████████████| 3.6MB 56.3MB/s \n",
            "\u001b[?25hCollecting hurry.filesize>=0.9\n",
            "  Downloading https://files.pythonhosted.org/packages/ee/5e/16e17bedcf54d5b618dc0771690deda77178e5c310402881c3d2d6c5f27c/hurry.filesize-0.9.tar.gz\n",
            "Requirement already satisfied: bs4 in /usr/local/lib/python3.7/dist-packages (from news-please) (0.0.1)\n",
            "Collecting w3lib>=1.17.0\n",
            "  Downloading https://files.pythonhosted.org/packages/a3/59/b6b14521090e7f42669cafdb84b0ab89301a42f1f1a82fcf5856661ea3a7/w3lib-1.22.0-py2.py3-none-any.whl\n",
            "Collecting Twisted>=17.9.0\n",
            "\u001b[?25l  Downloading https://files.pythonhosted.org/packages/f2/16/3eb9c66a7bfb5220c7bcbaaac33d359fe8a157b028959cd210983749b2e0/Twisted-21.2.0-py3-none-any.whl (3.1MB)\n",
            "\u001b[K     |████████████████████████████████| 3.1MB 36.3MB/s \n",
            "\u001b[?25hCollecting zope.interface>=4.1.3\n",
            "\u001b[?25l  Downloading https://files.pythonhosted.org/packages/f8/42/d8f11eaef844bee267821281fffe445e49cf31b486d72a81821a9d45cd0a/zope.interface-5.2.0-cp37-cp37m-manylinux2010_x86_64.whl (237kB)\n",
            "\u001b[K     |████████████████████████████████| 245kB 45.2MB/s \n",
            "\u001b[?25hCollecting cryptography>=2.0\n",
            "\u001b[?25l  Downloading https://files.pythonhosted.org/packages/f8/1f/acde6ff69864c5e78b56488e3afd93c1ccc8c2651186e2a5f93d93f64859/cryptography-3.4.6-cp36-abi3-manylinux2014_x86_64.whl (3.2MB)\n",
            "\u001b[K     |████████████████████████████████| 3.2MB 42.4MB/s \n",
            "\u001b[?25hCollecting pyOpenSSL>=16.2.0\n",
            "\u001b[?25l  Downloading https://files.pythonhosted.org/packages/b2/5e/06351ede29fd4899782ad335c2e02f1f862a887c20a3541f17c3fa1a3525/pyOpenSSL-20.0.1-py2.py3-none-any.whl (54kB)\n",
            "\u001b[K     |████████████████████████████████| 61kB 4.6MB/s \n",
            "\u001b[?25hCollecting itemloaders>=1.0.1\n",
            "  Downloading https://files.pythonhosted.org/packages/b3/2b/eb2ddf7becf834679273a6f79ffdc6fbedf07c5272e2eddf412582143c0e/itemloaders-1.0.4-py3-none-any.whl\n",
            "Collecting protego>=0.1.15\n",
            "\u001b[?25l  Downloading https://files.pythonhosted.org/packages/db/6e/bf6d5e4d7cf233b785719aaec2c38f027b9c2ed980a0015ec1a1cced4893/Protego-0.1.16.tar.gz (3.2MB)\n",
            "\u001b[K     |████████████████████████████████| 3.2MB 51.7MB/s \n",
            "\u001b[?25hCollecting parsel>=1.5.0\n",
            "  Downloading https://files.pythonhosted.org/packages/23/1e/9b39d64cbab79d4362cdd7be7f5e9623d45c4a53b3f7522cd8210df52d8e/parsel-1.6.0-py2.py3-none-any.whl\n",
            "Collecting queuelib>=1.4.2\n",
            "  Downloading https://files.pythonhosted.org/packages/4c/85/ae64e9145f39dd6d14f8af3fa809a270ef3729f3b90b3c0cf5aa242ab0d4/queuelib-1.5.0-py2.py3-none-any.whl\n",
            "Collecting itemadapter>=0.1.0\n",
            "  Downloading https://files.pythonhosted.org/packages/88/83/ab33780fd93278e699561d61862d27343c95d3fe0a0081acd73e8e26a649/itemadapter-0.2.0-py3-none-any.whl\n",
            "Collecting service-identity>=16.0.0\n",
            "  Downloading https://files.pythonhosted.org/packages/e9/7c/2195b890023e098f9618d43ebc337d83c8b38d414326685339eb024db2f6/service_identity-18.1.0-py2.py3-none-any.whl\n",
            "Collecting cssselect>=0.9.1\n",
            "  Downloading https://files.pythonhosted.org/packages/3b/d4/3b5c17f00cce85b9a1e6f91096e1cc8e8ede2e1be8e96b87ce1ed09e92c5/cssselect-1.1.0-py2.py3-none-any.whl\n",
            "Requirement already satisfied: urllib3<2,>=1.21.1 in /usr/local/lib/python3.7/dist-packages (from elasticsearch>=2.4->news-please) (1.24.3)\n",
            "Requirement already satisfied: certifi in /usr/local/lib/python3.7/dist-packages (from elasticsearch>=2.4->news-please) (2020.12.5)\n",
            "Requirement already satisfied: chardet in /usr/local/lib/python3.7/dist-packages (from readability-lxml>=0.6.2->news-please) (3.0.4)\n",
            "Collecting feedfinder2>=0.0.4\n",
            "  Downloading https://files.pythonhosted.org/packages/35/82/1251fefec3bb4b03fd966c7e7f7a41c9fc2bb00d823a34c13f847fd61406/feedfinder2-0.0.4.tar.gz\n",
            "Requirement already satisfied: Pillow>=3.3.0 in /usr/local/lib/python3.7/dist-packages (from newspaper3k>=0.2.8->news-please) (7.0.0)\n",
            "Requirement already satisfied: requests>=2.10.0 in /usr/local/lib/python3.7/dist-packages (from newspaper3k>=0.2.8->news-please) (2.23.0)\n",
            "Collecting feedparser>=5.2.1\n",
            "\u001b[?25l  Downloading https://files.pythonhosted.org/packages/1c/21/faf1bac028662cc8adb2b5ef7a6f3999a765baa2835331df365289b0ca56/feedparser-6.0.2-py3-none-any.whl (80kB)\n",
            "\u001b[K     |████████████████████████████████| 81kB 5.3MB/s \n",
            "\u001b[?25hCollecting jieba3k>=0.35.1\n",
            "\u001b[?25l  Downloading https://files.pythonhosted.org/packages/a9/cb/2c8332bcdc14d33b0bedd18ae0a4981a069c3513e445120da3c3f23a8aaa/jieba3k-0.35.1.zip (7.4MB)\n",
            "\u001b[K     |████████████████████████████████| 7.4MB 17.2MB/s \n",
            "\u001b[?25hRequirement already satisfied: PyYAML>=3.11 in /usr/local/lib/python3.7/dist-packages (from newspaper3k>=0.2.8->news-please) (3.13)\n",
            "Requirement already satisfied: nltk>=3.2.1 in /usr/local/lib/python3.7/dist-packages (from newspaper3k>=0.2.8->news-please) (3.2.5)\n",
            "Collecting tinysegmenter==0.3\n",
            "  Downloading https://files.pythonhosted.org/packages/17/82/86982e4b6d16e4febc79c2a1d68ee3b707e8a020c5d2bc4af8052d0f136a/tinysegmenter-0.3.tar.gz\n",
            "Collecting tldextract>=2.0.1\n",
            "\u001b[?25l  Downloading https://files.pythonhosted.org/packages/7e/62/b6acd3129c5615b9860e670df07fd55b76175b63e6b7f68282c7cad38e9e/tldextract-3.1.0-py2.py3-none-any.whl (87kB)\n",
            "\u001b[K     |████████████████████████████████| 92kB 6.9MB/s \n",
            "\u001b[?25hRequirement already satisfied: botocore==1.20.33 in /usr/local/lib/python3.7/dist-packages (from awscli>=1.11.117->news-please) (1.20.33)\n",
            "Collecting docutils<0.16,>=0.10\n",
            "\u001b[?25l  Downloading https://files.pythonhosted.org/packages/22/cd/a6aa959dca619918ccb55023b4cb151949c64d4d5d55b3f4ffd7eee0c6e8/docutils-0.15.2-py3-none-any.whl (547kB)\n",
            "\u001b[K     |████████████████████████████████| 552kB 30.5MB/s \n",
            "\u001b[?25hRequirement already satisfied: s3transfer<0.4.0,>=0.3.0 in /usr/local/lib/python3.7/dist-packages (from awscli>=1.11.117->news-please) (0.3.6)\n",
            "Collecting colorama<0.4.4,>=0.2.5\n",
            "  Downloading https://files.pythonhosted.org/packages/c9/dc/45cdef1b4d119eb96316b3117e6d5708a08029992b2fee2c143c7a0a5cc5/colorama-0.4.3-py2.py3-none-any.whl\n",
            "Collecting rsa<=4.5.0,>=3.1.2\n",
            "  Downloading https://files.pythonhosted.org/packages/26/f8/8127fdda0294f044121d20aac7785feb810e159098447967a6103dedfb96/rsa-4.5-py2.py3-none-any.whl\n",
            "Requirement already satisfied: setuptools in /usr/local/lib/python3.7/dist-packages (from hurry.filesize>=0.9->news-please) (54.1.2)\n",
            "Collecting hyperlink>=17.1.1\n",
            "\u001b[?25l  Downloading https://files.pythonhosted.org/packages/6e/aa/8caf6a0a3e62863cbb9dab27135660acba46903b703e224f14f447e57934/hyperlink-21.0.0-py2.py3-none-any.whl (74kB)\n",
            "\u001b[K     |████████████████████████████████| 81kB 5.8MB/s \n",
            "\u001b[?25hCollecting Automat>=0.8.0\n",
            "  Downloading https://files.pythonhosted.org/packages/dd/83/5f6f3c1a562674d65efc320257bdc0873ec53147835aeef7762fe7585273/Automat-20.2.0-py2.py3-none-any.whl\n",
            "Collecting incremental>=16.10.1\n",
            "  Downloading https://files.pythonhosted.org/packages/99/3b/4f80dd10cb716f3a9e22ae88f026d25c47cc3fdf82c2747f3d59c98e4ff1/incremental-21.3.0-py2.py3-none-any.whl\n",
            "Requirement already satisfied: attrs>=19.2.0 in /usr/local/lib/python3.7/dist-packages (from Twisted>=17.9.0->Scrapy>=1.1.0->news-please) (20.3.0)\n",
            "Collecting constantly>=15.1\n",
            "  Downloading https://files.pythonhosted.org/packages/b9/65/48c1909d0c0aeae6c10213340ce682db01b48ea900a7d9fce7a7910ff318/constantly-15.1.0-py2.py3-none-any.whl\n",
            "Requirement already satisfied: cffi>=1.12 in /usr/local/lib/python3.7/dist-packages (from cryptography>=2.0->Scrapy>=1.1.0->news-please) (1.14.5)\n",
            "Requirement already satisfied: jmespath>=0.9.5 in /usr/local/lib/python3.7/dist-packages (from itemloaders>=1.0.1->Scrapy>=1.1.0->news-please) (0.10.0)\n",
            "Requirement already satisfied: pyasn1-modules in /usr/local/lib/python3.7/dist-packages (from service-identity>=16.0.0->Scrapy>=1.1.0->news-please) (0.2.8)\n",
            "Requirement already satisfied: pyasn1 in /usr/local/lib/python3.7/dist-packages (from service-identity>=16.0.0->Scrapy>=1.1.0->news-please) (0.4.8)\n",
            "Requirement already satisfied: idna<3,>=2.5 in /usr/local/lib/python3.7/dist-packages (from requests>=2.10.0->newspaper3k>=0.2.8->news-please) (2.10)\n",
            "Collecting sgmllib3k\n",
            "  Downloading https://files.pythonhosted.org/packages/9e/bd/3704a8c3e0942d711c1299ebf7b9091930adae6675d7c8f476a7ce48653c/sgmllib3k-1.0.0.tar.gz\n",
            "Collecting requests-file>=1.4\n",
            "  Downloading https://files.pythonhosted.org/packages/77/86/cdb5e8eaed90796aa83a6d9f75cfbd37af553c47a291cd47bc410ef9bdb2/requests_file-1.5.1-py2.py3-none-any.whl\n",
            "Requirement already satisfied: filelock>=3.0.8 in /usr/local/lib/python3.7/dist-packages (from tldextract>=2.0.1->newspaper3k>=0.2.8->news-please) (3.0.12)\n",
            "Requirement already satisfied: pycparser in /usr/local/lib/python3.7/dist-packages (from cffi>=1.12->cryptography>=2.0->Scrapy>=1.1.0->news-please) (2.20)\n",
            "Building wheels for collected packages: news-please, langdetect, PyDispatcher, ago, hurry.filesize, protego, feedfinder2, jieba3k, tinysegmenter, sgmllib3k\n",
            "  Building wheel for news-please (setup.py) ... \u001b[?25l\u001b[?25hdone\n",
            "  Created wheel for news-please: filename=news_please-1.5.18-cp37-none-any.whl size=89287 sha256=5ef9a653145fb593fae070bce23a443b8a0f547c79f34c50243f0b148e5ed77f\n",
            "  Stored in directory: /root/.cache/pip/wheels/2f/95/3b/31b5c842a663b3500b645e969d0128f05b3339cee90dc6c526\n",
            "  Building wheel for langdetect (setup.py) ... \u001b[?25l\u001b[?25hdone\n",
            "  Created wheel for langdetect: filename=langdetect-1.0.8-cp37-none-any.whl size=993193 sha256=cb39cf1df4d23bc235d04b16b67874bf753abdaaaa0600ecb5e13e2234fbe769\n",
            "  Stored in directory: /root/.cache/pip/wheels/8d/b3/aa/6d99de9f3841d7d3d40a60ea06e6d669e8e5012e6c8b947a57\n",
            "  Building wheel for PyDispatcher (setup.py) ... \u001b[?25l\u001b[?25hdone\n",
            "  Created wheel for PyDispatcher: filename=PyDispatcher-2.0.5-cp37-none-any.whl size=11517 sha256=007344f6c727640f59ef6fb8ca1709d23f897f25747f6e947c23d877cf4ed900\n",
            "  Stored in directory: /root/.cache/pip/wheels/88/99/96/cfef6665f9cb1522ee6757ae5955feedf2fe25f1737f91fa7f\n",
            "  Building wheel for ago (setup.py) ... \u001b[?25l\u001b[?25hdone\n",
            "  Created wheel for ago: filename=ago-0.0.93-cp37-none-any.whl size=3276 sha256=85d4cf4e598053c2b6f9006086e17568a3602e3c174e8e04d8117a4b497f3d1e\n",
            "  Stored in directory: /root/.cache/pip/wheels/86/65/dc/27df15b96de756d2e07bc01433067df2e6ace2bae8de0576a2\n",
            "  Building wheel for hurry.filesize (setup.py) ... \u001b[?25l\u001b[?25hdone\n",
            "  Created wheel for hurry.filesize: filename=hurry.filesize-0.9-cp37-none-any.whl size=4135 sha256=3b98e3bc59c78ce276a4af2249ab2105746442d607fd75ef011eb8b8b22f496a\n",
            "  Stored in directory: /root/.cache/pip/wheels/2c/2b/7d/b63fffa26fe9949c4c44f226c566387b72617269c94b89eded\n",
            "  Building wheel for protego (setup.py) ... \u001b[?25l\u001b[?25hdone\n",
            "  Created wheel for protego: filename=Protego-0.1.16-cp37-none-any.whl size=7766 sha256=a148f715aa7790e26fd6c2dd98a5b1b8adda8a7a288068f0219a2ce89aef37f3\n",
            "  Stored in directory: /root/.cache/pip/wheels/51/01/d1/4a2286a976dccd025ba679acacfe37320540df0f2283ecab12\n",
            "  Building wheel for feedfinder2 (setup.py) ... \u001b[?25l\u001b[?25hdone\n",
            "  Created wheel for feedfinder2: filename=feedfinder2-0.0.4-cp37-none-any.whl size=3358 sha256=c8ddc90f2cf2b1d3406edc474bb00e85a23058d551c93fa5239d8c100a1d5611\n",
            "  Stored in directory: /root/.cache/pip/wheels/de/03/ca/778e3a7a627e3d98836cc890e7cb40c7575424cfd3340f40ed\n",
            "  Building wheel for jieba3k (setup.py) ... \u001b[?25l\u001b[?25hdone\n",
            "  Created wheel for jieba3k: filename=jieba3k-0.35.1-cp37-none-any.whl size=7398406 sha256=084db01e13220eccb241a7365a7392e671003aa70cd35834cc5d3b7652a0f0fa\n",
            "  Stored in directory: /root/.cache/pip/wheels/83/15/9c/a3f1f67e7f7181170ad37d32e503c35da20627c013f438ed34\n",
            "  Building wheel for tinysegmenter (setup.py) ... \u001b[?25l\u001b[?25hdone\n",
            "  Created wheel for tinysegmenter: filename=tinysegmenter-0.3-cp37-none-any.whl size=13538 sha256=7be45ff7990e81b04305e7b8f129f6d78eedd759458d7a254f912b9969dc584b\n",
            "  Stored in directory: /root/.cache/pip/wheels/81/2b/43/a02ede72324dd40cdd7ca53aad718c7710628e91b8b0dc0f02\n",
            "  Building wheel for sgmllib3k (setup.py) ... \u001b[?25l\u001b[?25hdone\n",
            "  Created wheel for sgmllib3k: filename=sgmllib3k-1.0.0-cp37-none-any.whl size=6067 sha256=a4bb092948fd6af0bfc0475e9a25144dd0cf95f6107fb45ac027fea979b8f940\n",
            "  Stored in directory: /root/.cache/pip/wheels/f1/80/5a/444ba08a550cdd241bd9baf8bae44be750efe370adb944506a\n",
            "Successfully built news-please langdetect PyDispatcher ago hurry.filesize protego feedfinder2 jieba3k tinysegmenter sgmllib3k\n",
            "\u001b[31mERROR: datascience 0.10.6 has requirement folium==0.2.1, but you'll have folium 0.8.3 which is incompatible.\u001b[0m\n",
            "Installing collected packages: w3lib, hyperlink, Automat, incremental, zope.interface, constantly, Twisted, cryptography, PyDispatcher, pyOpenSSL, itemadapter, cssselect, parsel, itemloaders, protego, queuelib, service-identity, Scrapy, PyMySQL, psycopg2-binary, hjson, elasticsearch, readability-lxml, feedfinder2, sgmllib3k, feedparser, jieba3k, tinysegmenter, requests-file, tldextract, newspaper3k, langdetect, dotmap, warcio, ago, docutils, colorama, rsa, awscli, hurry.filesize, news-please\n",
            "  Found existing installation: docutils 0.16\n",
            "    Uninstalling docutils-0.16:\n",
            "      Successfully uninstalled docutils-0.16\n",
            "  Found existing installation: rsa 4.7.2\n",
            "    Uninstalling rsa-4.7.2:\n",
            "      Successfully uninstalled rsa-4.7.2\n",
            "Successfully installed Automat-20.2.0 PyDispatcher-2.0.5 PyMySQL-1.0.2 Scrapy-2.4.1 Twisted-21.2.0 ago-0.0.93 awscli-1.19.33 colorama-0.4.3 constantly-15.1.0 cryptography-3.4.6 cssselect-1.1.0 docutils-0.15.2 dotmap-1.3.23 elasticsearch-7.11.0 feedfinder2-0.0.4 feedparser-6.0.2 hjson-3.0.2 hurry.filesize-0.9 hyperlink-21.0.0 incremental-21.3.0 itemadapter-0.2.0 itemloaders-1.0.4 jieba3k-0.35.1 langdetect-1.0.8 news-please-1.5.18 newspaper3k-0.2.8 parsel-1.6.0 protego-0.1.16 psycopg2-binary-2.8.6 pyOpenSSL-20.0.1 queuelib-1.5.0 readability-lxml-0.8.1 requests-file-1.5.1 rsa-4.5 service-identity-18.1.0 sgmllib3k-1.0.0 tinysegmenter-0.3 tldextract-3.1.0 w3lib-1.22.0 warcio-1.7.4 zope.interface-5.2.0\n",
            "Collecting cchardet\n",
            "\u001b[?25l  Downloading https://files.pythonhosted.org/packages/80/72/a4fba7559978de00cf44081c548c5d294bf00ac7dcda2db405d2baa8c67a/cchardet-2.1.7-cp37-cp37m-manylinux2010_x86_64.whl (263kB)\n",
            "\u001b[K     |████████████████████████████████| 266kB 10.6MB/s \n",
            "\u001b[?25hInstalling collected packages: cchardet\n",
            "Successfully installed cchardet-2.1.7\n",
            "\u001b[K     |████████████████████████████████| 81kB 4.0MB/s \n",
            "\u001b[K     |████████████████████████████████| 1.2MB 21.0MB/s \n",
            "\u001b[?25h  Building wheel for keybert (setup.py) ... \u001b[?25l\u001b[?25hdone\n",
            "  Building wheel for sentence-transformers (setup.py) ... \u001b[?25l\u001b[?25hdone\n",
            "Requirement already satisfied: beautifulsoup4 in /usr/local/lib/python3.7/dist-packages (4.6.3)\n"
          ],
          "name": "stdout"
        }
      ]
    },
    {
      "cell_type": "code",
      "metadata": {
        "id": "4enV6rJpTvyl"
      },
      "source": [
        "from colab import *\n",
        "\n",
        "import requests\n",
        "\n"
      ],
      "execution_count": null,
      "outputs": []
    },
    {
      "cell_type": "code",
      "metadata": {
        "id": "_y8y-VPpTv1E"
      },
      "source": [
        ""
      ],
      "execution_count": null,
      "outputs": []
    },
    {
      "cell_type": "markdown",
      "metadata": {
        "id": "BIhv06MxUrAZ"
      },
      "source": [
        "**Tweet**"
      ]
    },
    {
      "cell_type": "code",
      "metadata": {
        "colab": {
          "base_uri": "https://localhost:8080/"
        },
        "id": "4ZX1u567UqN1",
        "outputId": "a23ed0ed-2e04-47ad-af25-c2aed6bcb8ff"
      },
      "source": [
        "tweet = \"Pakistan PM Imran Khan tests positive for Covid19 48 hours after getting the Chinese Sinopharm vaccine shot. Under observation.\"\n",
        "\n",
        "print(tweet)"
      ],
      "execution_count": null,
      "outputs": [
        {
          "output_type": "stream",
          "text": [
            "Pakistan PM Imran Khan tests positive for Covid19 48 hours after getting the Chinese Sinopharm vaccine shot. Under observation.\n"
          ],
          "name": "stdout"
        }
      ]
    },
    {
      "cell_type": "markdown",
      "metadata": {
        "id": "P3q7Yb3nT30m"
      },
      "source": [
        "# **Step 1**: Extracting keywords from the tweet"
      ]
    },
    {
      "cell_type": "code",
      "metadata": {
        "id": "JKRqJ8s1Tv3r"
      },
      "source": [
        "from keybert import KeyBERT\n",
        "model = KeyBERT('distilbert-base-nli-mean-tokens')"
      ],
      "execution_count": null,
      "outputs": []
    },
    {
      "cell_type": "code",
      "metadata": {
        "colab": {
          "base_uri": "https://localhost:8080/"
        },
        "id": "_uTxzSAnUnQ2",
        "outputId": "5ca6fe64-8049-468e-906f-f2853fc61d08"
      },
      "source": [
        "keywords = model.extract_keywords(tweet, keyphrase_ngram_range=(1,1))\n",
        "keywords = [i[0] for i in keywords]\n",
        "keywords = \"+\".join(keywords)\n",
        "\n",
        "print(keywords)"
      ],
      "execution_count": null,
      "outputs": [
        {
          "output_type": "stream",
          "text": [
            "vaccine+chinese+covid19+pakistan+sinopharm\n"
          ],
          "name": "stdout"
        }
      ]
    },
    {
      "cell_type": "code",
      "metadata": {
        "id": "qwZ4j89AUnV2"
      },
      "source": [
        ""
      ],
      "execution_count": null,
      "outputs": []
    },
    {
      "cell_type": "markdown",
      "metadata": {
        "id": "5k-vO1ABTl-d"
      },
      "source": [
        "# **Step 2**: Extracting relevant news articles wrt keywords"
      ]
    },
    {
      "cell_type": "code",
      "metadata": {
        "colab": {
          "base_uri": "https://localhost:8080/",
          "height": 35
        },
        "id": "N4jUVDiuidec",
        "outputId": "89ff4d92-23a4-4b5c-907a-ef9a4d64468d"
      },
      "source": [
        "url = \"https://www.google.com/search?q=\" + keywords + \"&tbm=nws\"\n",
        "url"
      ],
      "execution_count": null,
      "outputs": [
        {
          "output_type": "execute_result",
          "data": {
            "application/vnd.google.colaboratory.intrinsic+json": {
              "type": "string"
            },
            "text/plain": [
              "'https://www.google.com/search?q=vaccine+chinese+covid19+pakistan+sinopharm&tbm=nws'"
            ]
          },
          "metadata": {
            "tags": []
          },
          "execution_count": 170
        }
      ]
    },
    {
      "cell_type": "code",
      "metadata": {
        "id": "QVXr8U-_l7yo"
      },
      "source": [
        "import requests\n",
        "from bs4 import BeautifulSoup\n",
        "import re\n",
        "import urllib.parse\n",
        "from urllib.parse import urlparse\n",
        "def googleSearch(url):\n",
        "    g_clean = [ ] \n",
        "    \n",
        "    try:\n",
        "        html = requests.get(url)\n",
        "        if html.status_code==200:\n",
        "            soup = BeautifulSoup(html.text, 'lxml')\n",
        "            a = soup.find_all('a') #// a is a list\n",
        "            for i in a:\n",
        "                k = i.get('href')\n",
        "                try:\n",
        "                    m = re.search(\"(?P<url>https?://[^\\s]+)\", k)\n",
        "                    n = m.group(0)\n",
        "                    rul = n.split('&')[0]\n",
        "                    domain = urlparse(rul)\n",
        "                    if (re.search('google.com', domain.netloc)):\n",
        "                        continue\n",
        "                    else:\n",
        "                        g_clean.append(rul)\n",
        "                except:\n",
        "                    continue\n",
        "    except Exception as ex:\n",
        "        print(str(ex))\n",
        "    finally:\n",
        "        return g_clean"
      ],
      "execution_count": null,
      "outputs": []
    },
    {
      "cell_type": "code",
      "metadata": {
        "id": "2OCjFNzZl71b"
      },
      "source": [
        "news_urls = googleSearch(url)"
      ],
      "execution_count": null,
      "outputs": []
    },
    {
      "cell_type": "code",
      "metadata": {
        "colab": {
          "base_uri": "https://localhost:8080/"
        },
        "id": "c6-7bZyQl74b",
        "outputId": "bb47ab7a-3e39-4e4e-a0a6-2347a07075f0"
      },
      "source": [
        "len(news_urls), news_urls[:3]"
      ],
      "execution_count": null,
      "outputs": [
        {
          "output_type": "execute_result",
          "data": {
            "text/plain": [
              "(12,\n",
              " ['https://www.aljazeera.com/news/2021/3/18/pakistan-receives-second-batch-of-500000-vaccines-from-china',\n",
              "  'https://www.nytimes.com/2021/03/16/world/covid-vaccine-china-hamster-ovaries.html',\n",
              "  'https://www.aljazeera.com/news/2021/3/20/pakistan-prime-minister-imran-khan-tests-positive-for-covid'])"
            ]
          },
          "metadata": {
            "tags": []
          },
          "execution_count": 173
        }
      ]
    },
    {
      "cell_type": "code",
      "metadata": {
        "id": "Y7qkt1C1iaym"
      },
      "source": [
        ""
      ],
      "execution_count": null,
      "outputs": []
    },
    {
      "cell_type": "markdown",
      "metadata": {
        "id": "w1IBqxmCYkUC"
      },
      "source": [
        "**Scraping the news from these urls**"
      ]
    },
    {
      "cell_type": "code",
      "metadata": {
        "id": "4cDx9zQkYms9"
      },
      "source": [
        "from newsplease import NewsPlease\n",
        "\n",
        "news_content = []\n",
        "\n",
        "\n",
        "for url in news_urls:\n",
        "    try:\n",
        "        article = NewsPlease.from_url(url)\n",
        "        title = article.title\n",
        "        description = article.description\n",
        "        main_text = article.maintext\n",
        "\n",
        "        content = str(title) + \" \" + str(description) + \" \" + str(main_text)\n",
        "        news_content.append(content)\n",
        "    except:\n",
        "        continue\n",
        "    \n",
        "    if (len(news_content) >= 5):\n",
        "        break"
      ],
      "execution_count": null,
      "outputs": []
    },
    {
      "cell_type": "code",
      "metadata": {
        "colab": {
          "base_uri": "https://localhost:8080/"
        },
        "id": "m_5JI0NbZXKx",
        "outputId": "27734f41-b6d4-433e-d2a9-2ab28c3ac37e"
      },
      "source": [
        "news_content"
      ],
      "execution_count": null,
      "outputs": [
        {
          "output_type": "execute_result",
          "data": {
            "text/plain": [
              "[\"Pakistan receives second batch of 500,000 vaccines from China Second donation of Sinopharm coronavirus vaccines brings the country’s total supply to one million shots. Second donation of Sinopharm coronavirus vaccines brings the country’s total supply to one million shots.\\nPakistan has received a Chinese donation of 500,000 doses of Sinopharm vaccine, bringing the country’s total supply to one million shots, Health Minister Dr Faisal Sultan said.\\nThe South Asian nation of 220 million people launched COVID-19 vaccinations for the public on March 10, starting with older people. Health workers started receiving shots in early February.\\n“These 500,000 doses will ensure smooth continuation of our vaccine drive, currently under way for senior citizens,” Sultan said in a tweet on Wednesday.\\nThe next batch of Sinopharm vaccine was received today. These 500,000 doses will ensure smooth continuation of our vaccination drive, currently underway for senior citizens. We're grateful to China for their support. This gesture is a testament to our long-standing friendship pic.twitter.com/fbS3kfmFQc — Faisal Sultan (@fslsltn) March 17, 2021\\nSinopharm, the only vaccine currently available in the country, requires two doses.\\nVaccination uptake has been slow in Pakistan, where authorities have faced a significant amount of vaccine hesitancy among the general public and healthcare workers.\\nThe percentage of COVID-19 tests coming back positive across the country has touched 6.26 percent and crossed 11 percent in Punjab, the largest province.\\nSenior citizens receive Chinese-made Sinopharm vaccine doses at a vaccination centre inside an exposition centre in Lahore [Arif Ali/AFP] Pakistan has recorded 615,810 cases of the coronavirus and 13,717 deaths, with 3,495 cases and 61 deaths reported in the last 24 hours, according to government data on Thursday.\\nThat daily case rise was the highest Pakistan has seen in more than three months, prompting authorities to tighten restrictions on public gatherings and warn of a third wave of the virus.\\nThe country has not secured any vaccine from drug manufacturers and is depending on the GAVI/WHO COVAX initiative for poorer nations and donations.\\nPakistan is expecting to get GAVI’s first batch of 2.8 million doses of AstraZeneca sometime later this month, officials said.\\nBesides Sinopharm and AstraZeneca, Pakistan has approved Russia’s Sputnik and China’s CanSino Biologics Inc’s (CanSinoBIO) vaccines for emergency use.\\nCanSinoBIO has released interim efficacy results from a multi-country trial, which included Pakistan, showing 65.7 percent efficacy in preventing symptomatic coronavirus cases and a 90.98 percent success rate in stopping severe infections.\\nIn the Pakistani subset, the efficacy of the CanSinoBIO vaccine at preventing symptomatic cases was 74.8 percent and 100 percent at preventing severe disease.\\nAuthorities last week reversed a decision to allow large indoor gatherings such as cinemas, theatres and marriage halls in Pakistan after opening up almost all sectors of society.\",\n",
              " 'China approves a fifth Covid-19 vaccine. The vaccine has several drawbacks. One is that it does not produce many T-cells, which help clear infected cells and prevent them from spreading. China has approved its fifth Covid-19 vaccine, one produced by Anhui Zhifei Longcom Biopharmaceutical Co. and the Chinese Academy of Sciences. It was developed by a team led by George Gao, the head of the Chinese Center for Disease Control and Prevention.\\nThe Chinese Academy of Sciences said in a statement on Tuesday that the Chinese government had given the shot authorization for emergency use on March 10. This is the fourth vaccine China has approved for emergency use after two vaccines made by Sinopharm, a state-owned vaccine maker, and one developed by Sinovac, a private Beijing company. It has also approved a fifth vaccine, made by the Chinese company CanSino Biologics in partnership with the military, for general use.\\nNeither the company nor the institute behind the latest vaccine to be approved has published efficacy data from its Phase 3 trials, which are taking place in China, Ecuador, Indonesia, Pakistan and Uzbekistan.\\nUzbekistan has approved the vaccine. The Chinese Academy of Sciences said that Phase 3 clinical trials, which involve 29,000 volunteers, were “progressing smoothly.”',\n",
              " 'Pakistan Prime Minister Imran Khan tests positive for COVID The 68 year-old Pakistani premier is self-isolating after contracting COVID-19 two days after being vaccinated. The 68-year-old Pakistani premier is self-isolating after contracting COVID-19 two days after being vaccinated.\\nPakistan’s Prime Minister Imran Khan has tested positive for COVID-19, his office said, just two days after he was vaccinated against the disease.\\n“At this point, the prime minister’s office can only confirm that the honourable prime minister has tested positive for COVID-19 and has self-isolated, we will release more details in due course,” his office said on Saturday.\\nKhan, 68, received a shot of the Chinese-produced Sinopharm vaccine on Thursday, as the country battles a third wave of the virus.\\nKhan has been holding regular and frequent meetings lately, including attending a security conference held in the capital, Islamabad, that was attended by a large number of people.\\nHe addressed the conference without wearing a mask, and attended another gathering to inaugurate a housing project for poor people in a similar fashion on Friday.\\nThe South Asian nation of 220 million is seeing a sharp rise in coronavirus infections.\\nAccording to numbers released by government on Saturday, 3,876 people tested positive in the last 24 hours – the highest number of daily infections since early July – taking the total number of infections in the country past 620,000.\\nThere were also 42 more deaths, taking the total to 13,799.\\nPakistan launched vaccinations for the general public on March 10, starting with elderly people after seeing a poor response from front-line health workers, who expressed concerns about Chinese vaccines.\\nChinese Sinopharm and CanSinoBIO, Oxford-AstraZeneca, and Russia’s Sputnik V vaccines have been approved for emergency use in Pakistan.',\n",
              " 'Pakistan receives second Sinopharm COVID-19 vaccine shipment from China The second consignment of the Sinopharm vaccine was received by Pakistan health officials at the Nur Khan airbase in Rawalpindi Pakistan on Wednesday received half a million doses of coronavirus vaccines donated by China. The second consignment of the Sinopharm vaccine was received by Pakistan health officials at the Nur Khan airbase in Rawalpindi.\\nSpecial Assistant to the Prime Minister (SAPM) on Health, Dr Faisal Sultan, was present to receive the batch of the vaccines. \"China has always supported Pakistan during difficult times,\" Sultan said, extending his gratitude to the Chinese government.\\nThe vaccines will be shifted to the warehouse of the Expanded Programme on Immunisation (EPI) and administered to the frontline health workers and people above the age of 60 years across the country.\\nEarlier, China donated 500,000 doses of Sinopharm on February 1, enabling Pakistan to launch vaccination drive a day later.\\nThe new consignment arrived amidst Pakistan struggling to combat the third wave of the pandemic, which threatened the earlier gains against the coronavirus when the country succeeded to contain the first two outbreaks.\\nMeanwhile, Pakistan\\'s nationwide coronavirus tally reached 612,315 after 2,351 new cases were detected in the last 24 hours. Sixty-one more people died overnight, taking the COVID-19 toll to 13,656, according to the health ministry.\\nAlso read: CBI files FIR against Cadbury for corruption in obtaining Himachal factory licence',\n",
              " 'Pakistan PM gets vaccinated against coronavirus with Chinese vaccine Sinopharm Pakistan\\'s Prime Minister, Imran Khan, got vaccinated against the deadly coronavirus on Thursday. Unlike the majority of the foreign leaders, the Pakistan PM took the Chinese vaccine Sinopharm. Pakistan\\'s Prime Minister, Imran Khan, got vaccinated against the deadly coronavirus on Thursday. Unlike the majority of the foreign leaders, the Pakistan PM took the Chinese vaccine Sinopharm.\\nPakistan Prime Minister Imran Khan gets a Covid-19 vaccine shot pic.twitter.com/ImezTXDvrw — omar r quraishi (@omar_quraishi) March 18, 2021 ×\\nKhan took a jab of the Chinese-made vaccine a day after Pakistan received half a million doses of the coronavirus vaccines as a donation from China.\\nThis was the second consignment of the Sinopharm vaccine, which was received by Pakistan\\'s health officials in Rawalpindi.\\n\"China has always supported Pakistan during difficult times,\" Special Assistant to the Prime Minister (SAPM) on Health, Dr Faisal Sultan said while receiving the vaccine doses.\\nIn February first week, China had sent 500,000 doses of Sinopharm to Pakistan, helping it kickstart its first round of vaccination drive against the coronavirus. Pakistan has been struggling to contain the spread of the virus with a toll of nearly 612,315 cases and 13,656 deaths.']"
            ]
          },
          "metadata": {
            "tags": []
          },
          "execution_count": 175
        }
      ]
    },
    {
      "cell_type": "markdown",
      "metadata": {
        "id": "rHrHPSXyZcAR"
      },
      "source": [
        "# **Step 3**: Summarizing from these news_content"
      ]
    },
    {
      "cell_type": "code",
      "metadata": {
        "colab": {
          "base_uri": "https://localhost:8080/"
        },
        "id": "U-ypFLOgZg9g",
        "outputId": "3d7d2da0-9183-4cf1-df7d-8b156e32e50a"
      },
      "source": [
        "from transformers import pipeline\n",
        "\n",
        "summarizer = pipeline(\"summarization\")"
      ],
      "execution_count": null,
      "outputs": [
        {
          "output_type": "stream",
          "text": [
            "/usr/local/lib/python3.7/dist-packages/transformers/models/bart/configuration_bart.py:178: UserWarning: Please make sure the config includes `forced_bos_token_id=0` in future versions.The config can simply be saved and uploaded again to be fixed.\n",
            "  f\"Please make sure the config includes `forced_bos_token_id={self.bos_token_id}` in future versions.\"\n"
          ],
          "name": "stderr"
        }
      ]
    },
    {
      "cell_type": "code",
      "metadata": {
        "id": "1b0LMyHzaDUA"
      },
      "source": [
        "summarized_news = []\n",
        "\n",
        "for i in news_content:\n",
        "    try:\n",
        "      summary = summarizer(i, max_length=250, min_length=30, do_sample=False)\n",
        "      summarized_news.append(summary[0]['summary_text'])\n",
        "    except:\n",
        "      summarized_news.append(\"\")\n"
      ],
      "execution_count": null,
      "outputs": []
    },
    {
      "cell_type": "code",
      "metadata": {
        "id": "p6OG_l7_aj7u"
      },
      "source": [
        "# now summarizing all the summaries\n",
        "\n",
        "combined_summary = summarizer(\" \".join(summarized_news), max_length=250, min_length=30, do_sample=False)\n",
        "combined_summary = combined_summary[0]['summary_text']\n"
      ],
      "execution_count": null,
      "outputs": []
    },
    {
      "cell_type": "code",
      "metadata": {
        "colab": {
          "base_uri": "https://localhost:8080/",
          "height": 69
        },
        "id": "2Cp5Z8YxaTm9",
        "outputId": "c25b40f8-56b7-4dcb-9e9d-940feaabbe51"
      },
      "source": [
        "combined_summary"
      ],
      "execution_count": null,
      "outputs": [
        {
          "output_type": "execute_result",
          "data": {
            "application/vnd.google.colaboratory.intrinsic+json": {
              "type": "string"
            },
            "text/plain": [
              "' Pakistan receives second batch of 500,000 vaccines from China . Second donation of Sinopharm coronavirus vaccines brings the country’s total supply to one million . Sixty-one more people died overnight, taking the death toll to 13,656, according to the health ministry . Pakistan PM Imran Khan tests positive for COVID-19, his office said .'"
            ]
          },
          "metadata": {
            "tags": []
          },
          "execution_count": 178
        }
      ]
    },
    {
      "cell_type": "code",
      "metadata": {
        "id": "LfO_Cy8Koo3S"
      },
      "source": [
        ""
      ],
      "execution_count": null,
      "outputs": []
    },
    {
      "cell_type": "code",
      "metadata": {
        "id": "0vVR1AMSoo56"
      },
      "source": [
        ""
      ],
      "execution_count": null,
      "outputs": []
    },
    {
      "cell_type": "markdown",
      "metadata": {
        "id": "T-QasJG_ouRw"
      },
      "source": [
        "\n",
        "\n",
        "---\n",
        "\n"
      ]
    },
    {
      "cell_type": "markdown",
      "metadata": {
        "id": "3GB7Q2kVopE5"
      },
      "source": [
        "# **Combining everything together in 1 function**"
      ]
    },
    {
      "cell_type": "code",
      "metadata": {
        "id": "l6TIdP_uow1n"
      },
      "source": [
        "from colab import *\n",
        "import requests\n",
        "\n",
        "import requests\n",
        "from bs4 import BeautifulSoup\n",
        "import re\n",
        "import urllib.parse\n",
        "from urllib.parse import urlparse\n",
        "\n",
        "from newsplease import NewsPlease\n",
        "\n"
      ],
      "execution_count": null,
      "outputs": []
    },
    {
      "cell_type": "code",
      "metadata": {
        "colab": {
          "base_uri": "https://localhost:8080/",
          "height": 365,
          "referenced_widgets": [
            "e353b2adcaab4adf90ef9e8b5a9bb16e",
            "9746db496d4a45fdaf709e7811c37f0d",
            "5f5e0bf71cb9468f91b137f2dd848e48",
            "4d6b4c93ac8045feb95a19bc27a6ee4d",
            "69f73798b86f4aa7864499eae06a83e6",
            "cec8488082b0483583e9f7d1428c361c",
            "77a313b39481402a963cf073b1dbfcb0",
            "d233212e31ab489b9903800015f759f0",
            "4822b6fa9e214934983798d0fe9990a9",
            "b10bacdeed494f2a869225a37ceb263a",
            "c02278e9733146488083fe4c7c55000b",
            "e0c8c550044442df95c5d19310160f97",
            "0f47248a2dcd4fb5bcd9781d82efd1b2",
            "9c7d72a542944bc8886a3042750430b0",
            "bf1783de6f634dc68ad59135555f96c4",
            "1efa7bc513c24680b2567d1d07150be8",
            "e84a5f1de5544c808a97c6a9429a6339",
            "22ebd59fa66e408bb80342e8d776841e",
            "8f1f489071284b86be0537345e7b49d6",
            "f221b0fbc02c4716b12d65b0975b3ccc",
            "89de6219bafe4d26ba5a3c084cffb894",
            "a3723c62303c471785fc2d45b65aa838",
            "0bf2928e1be1411f8fc07bcc12f36a9e",
            "46f5041d49664cdfad3a230fea75341c",
            "b20ee4c8500b421a98cabf87acb62602",
            "40c5b198c63d48a3bbe597694dd4f846",
            "4f3966755da34fbab3d80c9f2a3a5456",
            "097f852889ae4d58a527286d29ef829a",
            "b21d7412807e4e4fa4e885bf50e5c740",
            "3fd2652972e24bdeb43afe0adfcecb42",
            "500db222e3a24512aca368a96a4bab8e",
            "fa7dbf7ce5d2464a8f92736f2f8a14b6",
            "d9f9de7739714918ac41e4f27257463e",
            "e681a7d7f1e34c6780353f53ab6bd5ce",
            "6ca143c20d1c40d59f496d03109fe5b8",
            "a7004c45d1b24cedbde34a5942ff4005",
            "d284579b4d8b4422934e38a0c13658f4",
            "03bc772701034c8f89aa2f301d98c505",
            "2d4c5661191843aba359605e1ed49730",
            "f4e2828b3aed45a7acdf2b258a67946a",
            "e9fd2cc960ca435196579fe57d9c0e0a",
            "77d19c73132f4af1909a3a05f69514d5",
            "76b7fa66c2e7457ab303b6f0290bd22a",
            "b2345f8c469141be9955e4097d410ed6",
            "91f26c405de445a8aa83e31d5df57dd9",
            "6909bab31e3b4f5aa155e22e8167091c",
            "051856aeebc44d11a975a91f1b374367",
            "308dcfcdab0c45db8c7ad3bbdcc0b22b"
          ]
        },
        "id": "DWckUgxoqUJn",
        "outputId": "22f3e10c-07bb-4079-af71-9ac95746e75a"
      },
      "source": [
        "from keybert import KeyBERT\n",
        "model = KeyBERT('distilbert-base-nli-mean-tokens')\n",
        "\n",
        "from transformers import pipeline\n",
        "summarizer = pipeline(\"summarization\")"
      ],
      "execution_count": null,
      "outputs": [
        {
          "output_type": "display_data",
          "data": {
            "application/vnd.jupyter.widget-view+json": {
              "model_id": "e353b2adcaab4adf90ef9e8b5a9bb16e",
              "version_minor": 0,
              "version_major": 2
            },
            "text/plain": [
              "HBox(children=(FloatProgress(value=0.0, max=244733649.0), HTML(value='')))"
            ]
          },
          "metadata": {
            "tags": []
          }
        },
        {
          "output_type": "stream",
          "text": [
            "\n"
          ],
          "name": "stdout"
        },
        {
          "output_type": "display_data",
          "data": {
            "application/vnd.jupyter.widget-view+json": {
              "model_id": "4822b6fa9e214934983798d0fe9990a9",
              "version_minor": 0,
              "version_major": 2
            },
            "text/plain": [
              "HBox(children=(FloatProgress(value=0.0, description='Downloading', max=1621.0, style=ProgressStyle(description…"
            ]
          },
          "metadata": {
            "tags": []
          }
        },
        {
          "output_type": "stream",
          "text": [
            "\n"
          ],
          "name": "stdout"
        },
        {
          "output_type": "stream",
          "text": [
            "/usr/local/lib/python3.7/dist-packages/transformers/models/bart/configuration_bart.py:178: UserWarning: Please make sure the config includes `forced_bos_token_id=0` in future versions.The config can simply be saved and uploaded again to be fixed.\n",
            "  f\"Please make sure the config includes `forced_bos_token_id={self.bos_token_id}` in future versions.\"\n"
          ],
          "name": "stderr"
        },
        {
          "output_type": "display_data",
          "data": {
            "application/vnd.jupyter.widget-view+json": {
              "model_id": "e84a5f1de5544c808a97c6a9429a6339",
              "version_minor": 0,
              "version_major": 2
            },
            "text/plain": [
              "HBox(children=(FloatProgress(value=0.0, description='Downloading', max=1222317369.0, style=ProgressStyle(descr…"
            ]
          },
          "metadata": {
            "tags": []
          }
        },
        {
          "output_type": "stream",
          "text": [
            "\n"
          ],
          "name": "stdout"
        },
        {
          "output_type": "display_data",
          "data": {
            "application/vnd.jupyter.widget-view+json": {
              "model_id": "b20ee4c8500b421a98cabf87acb62602",
              "version_minor": 0,
              "version_major": 2
            },
            "text/plain": [
              "HBox(children=(FloatProgress(value=0.0, description='Downloading', max=898822.0, style=ProgressStyle(descripti…"
            ]
          },
          "metadata": {
            "tags": []
          }
        },
        {
          "output_type": "stream",
          "text": [
            "\n"
          ],
          "name": "stdout"
        },
        {
          "output_type": "display_data",
          "data": {
            "application/vnd.jupyter.widget-view+json": {
              "model_id": "d9f9de7739714918ac41e4f27257463e",
              "version_minor": 0,
              "version_major": 2
            },
            "text/plain": [
              "HBox(children=(FloatProgress(value=0.0, description='Downloading', max=456318.0, style=ProgressStyle(descripti…"
            ]
          },
          "metadata": {
            "tags": []
          }
        },
        {
          "output_type": "stream",
          "text": [
            "\n"
          ],
          "name": "stdout"
        },
        {
          "output_type": "display_data",
          "data": {
            "application/vnd.jupyter.widget-view+json": {
              "model_id": "e9fd2cc960ca435196579fe57d9c0e0a",
              "version_minor": 0,
              "version_major": 2
            },
            "text/plain": [
              "HBox(children=(FloatProgress(value=0.0, description='Downloading', max=26.0, style=ProgressStyle(description_w…"
            ]
          },
          "metadata": {
            "tags": []
          }
        },
        {
          "output_type": "stream",
          "text": [
            "\n"
          ],
          "name": "stdout"
        }
      ]
    },
    {
      "cell_type": "code",
      "metadata": {
        "id": "wbcxDFt7pBAp"
      },
      "source": [
        "# defining helper functions\n",
        "\n",
        "def return_keywords(tweet):\n",
        "    keywords = model.extract_keywords(tweet, keyphrase_ngram_range=(1,1))\n",
        "    keywords = [i[0] for i in keywords]\n",
        "    keywords = \"+\".join(keywords)\n",
        "\n",
        "    return keywords\n",
        "\n",
        "\n",
        "def get_news_urls(keywords):\n",
        "    url = \"https://www.google.com/search?q=\" + keywords # + \"&tbm=nws\"\n",
        "    g_clean = [ ] \n",
        "    \n",
        "    try:\n",
        "        html = requests.get(url)\n",
        "        if html.status_code==200:\n",
        "            soup = BeautifulSoup(html.text, 'lxml')\n",
        "            a = soup.find_all('a') #// a is a list\n",
        "            for i in a:\n",
        "                try:\n",
        "                    m = re.search(r'/url[?]q=(.*?)&amp', str(i)).group(1)\n",
        "                    if m not in g_clean:\n",
        "                        g_clean.append(m)\n",
        "                except:\n",
        "                    continue\n",
        "    except Exception as ex:\n",
        "        print(str(ex))\n",
        "    finally:\n",
        "        return g_clean\n",
        "\n",
        "def get_news_content(news_urls, top_n = 5):\n",
        "    news_content = []\n",
        "\n",
        "    for url in news_urls:\n",
        "        try:\n",
        "            article = NewsPlease.from_url(url)\n",
        "            title = article.title\n",
        "            description = article.description\n",
        "            main_text = article.maintext\n",
        "\n",
        "            content = str(title) + \" \" + str(description) + \" \" + str(main_text)\n",
        "            news_content.append(content)\n",
        "            print(url)\n",
        "        except:\n",
        "            continue\n",
        "        \n",
        "        if (len(news_content) >= top_n):\n",
        "            break\n",
        "    \n",
        "    return news_content\n",
        "\n",
        "def get_summarized_news(news_content):\n",
        "    summarized_news = []\n",
        "\n",
        "    for i in news_content:\n",
        "        try:\n",
        "          summary = summarizer(i, max_length=250, min_length=30, do_sample=False)\n",
        "          summarized_news.append(summary[0]['summary_text'])\n",
        "        except:\n",
        "          summarized_news.append(\"\")\n",
        "    \n",
        "    # now summarizing all the summaries\n",
        "    combined_summary = summarizer(\" \".join(summarized_news), max_length=250, min_length=30, do_sample=False)\n",
        "    combined_summary = combined_summary[0]['summary_text']\n",
        "\n",
        "    return combined_summary\n",
        "\n",
        "\n"
      ],
      "execution_count": null,
      "outputs": []
    },
    {
      "cell_type": "code",
      "metadata": {
        "id": "daXig0OkqsCn"
      },
      "source": [
        "def get_summary(tweet):\n",
        "    # Step 1: Extract keywords\n",
        "    keywords = \"+\".join(list(map(str, tweet.split(\" \"))))\n",
        "\n",
        "    # Step 2: get_news_urls\n",
        "    news_urls = get_news_urls(keywords)\n",
        "\n",
        "    # Step 3: get_news_content\n",
        "    news_content = get_news_content(news_urls, top_n = 4)\n",
        "\n",
        "    # Step 4 (final step): get_summarized_news\n",
        "    summary = get_summarized_news(news_content) \n",
        "    return summary"
      ],
      "execution_count": null,
      "outputs": []
    },
    {
      "cell_type": "code",
      "metadata": {
        "colab": {
          "base_uri": "https://localhost:8080/"
        },
        "id": "czKSfcB_o2pM",
        "outputId": "da8f99a6-7404-462d-fb83-514bd9de0ac4"
      },
      "source": [
        "# get latest fake news from https://www.altnews.in/\n",
        "\n",
        "tweet = \"It is mandatory to apply masks in all police station areas of Uttar Pradesh from 9 am to 30 days tomorrow. A person who will be caught without a mask should remain in temporary jail for 10 hours. Put on masks for two yards, of yourself and family with a corona-like illness Save.\"\n",
        "\n",
        "summary = get_summary(tweet)\n",
        "\n",
        "print(\"-------------\")\n",
        "print(tweet)\n",
        "print(\"-------------\")\n",
        "print(summary)"
      ],
      "execution_count": null,
      "outputs": [
        {
          "output_type": "stream",
          "text": [
            "https://www.hindustantimes.com/india-news/no-30-day-mask-checking-in-state-up-police-clarify-after-fake-message-goes-viral-101614332110316.html\n",
            "https://zeenews.india.com/india/fact-check-up-police-clarifies-on-mask-checking-campaign-terms-social-media-post-as-fake-2344478.html\n",
            "https://www.modernhealthcare.com/safety-quality/live-updates-covid-19-september-16-30\n",
            "https://blockclubchicago.org/2020/06/06/police-lieutenant-says-cps-has-ditched-masks-other-coronavirus-safety-measures-amid-protests-we-have-zero-protocol-being-followed-right-now/\n",
            "https://www.washingtonpost.com/world/2020/03/30/coronavirus-latest-news/\n"
          ],
          "name": "stdout"
        },
        {
          "output_type": "stream",
          "text": [
            "Your max_length is set to 250, but you input_length is only 138. You might consider decreasing max_length manually, e.g. summarizer('...', max_length=50)\n",
            "Your max_length is set to 250, but you input_length is only 184. You might consider decreasing max_length manually, e.g. summarizer('...', max_length=50)\n"
          ],
          "name": "stderr"
        },
        {
          "output_type": "stream",
          "text": [
            "-------------\n",
            "It is mandatory to apply masks in all police station areas of Uttar Pradesh from 9 am to 30 days tomorrow. A person who will be caught without a mask should remain in temporary jail for 10 hours. Put on masks for two yards, of yourself and family with a corona-like illness Save.\n",
            "-------------\n",
            " Fake message claimed that a 30-day mask checking campaign will be launched in every police station area in Uttar Pradesh . UP police refuted the claims and said it has neither undertaken any such campaign and nor has circulated any information regarding the same .\n"
          ],
          "name": "stdout"
        }
      ]
    },
    {
      "cell_type": "code",
      "metadata": {
        "id": "ZIAcJED2vnAm"
      },
      "source": [
        ""
      ],
      "execution_count": null,
      "outputs": []
    },
    {
      "cell_type": "code",
      "metadata": {
        "id": "MEcbniRswq7D"
      },
      "source": [
        ""
      ],
      "execution_count": null,
      "outputs": []
    },
    {
      "cell_type": "code",
      "metadata": {
        "id": "Ngl3tT-awq9y"
      },
      "source": [
        ""
      ],
      "execution_count": null,
      "outputs": []
    },
    {
      "cell_type": "code",
      "metadata": {
        "id": "KYpc6yoTwrAj"
      },
      "source": [
        ""
      ],
      "execution_count": null,
      "outputs": []
    },
    {
      "cell_type": "code",
      "metadata": {
        "id": "cuKX7vV4wrC9"
      },
      "source": [
        ""
      ],
      "execution_count": null,
      "outputs": []
    },
    {
      "cell_type": "markdown",
      "metadata": {
        "id": "suipFUXl1sPM"
      },
      "source": [
        "# Experiment"
      ]
    },
    {
      "cell_type": "code",
      "metadata": {
        "id": "DeRvGGbzvnDl"
      },
      "source": [
        "# Step 1: Extract keywords\n",
        "keywords = \"+\".join(list(map(str, tweet.split(\" \"))))\n",
        "\n",
        "# Step 2: get_news_urls\n",
        "news_urls = get_news_urls(keywords)"
      ],
      "execution_count": null,
      "outputs": []
    },
    {
      "cell_type": "code",
      "metadata": {
        "colab": {
          "base_uri": "https://localhost:8080/",
          "height": 35
        },
        "id": "bWgE7o0V22iD",
        "outputId": "2edea5da-0b6c-4ff7-9c6e-215a680f4c1d"
      },
      "source": [
        "keywords"
      ],
      "execution_count": null,
      "outputs": [
        {
          "output_type": "execute_result",
          "data": {
            "application/vnd.google.colaboratory.intrinsic+json": {
              "type": "string"
            },
            "text/plain": [
              "\"India+won+the+match+by+5+wickets+and+has+levelled+the+series+by+1-1.+Great+to+see+Virat+Kohli+and+ishan+kishan+'s+knock.\""
            ]
          },
          "metadata": {
            "tags": []
          },
          "execution_count": 9
        }
      ]
    },
    {
      "cell_type": "code",
      "metadata": {
        "colab": {
          "base_uri": "https://localhost:8080/"
        },
        "id": "F-63aN9Q-IEg",
        "outputId": "1bb78ffb-8e98-44af-f15e-3073384089b1"
      },
      "source": [
        "news_urls"
      ],
      "execution_count": null,
      "outputs": [
        {
          "output_type": "execute_result",
          "data": {
            "text/plain": [
              "['https://www.hindustantimes.com/cricket/india-vs-england-live-cricket-score-3rd-t20-ind-vs-eng-live-match-today-latest-score-updates-ahmedabad-101615893593016.html',\n",
              " 'https://www.mykhel.com/cricket/india-vs-england-2nd-t20i-live-updates-india-look-to-bounce-back-in-t20-series-163128.html',\n",
              " 'http://newsonair.com/Text-Bulletin-Details.aspx%3Fid%3D36081',\n",
              " 'https://www.indiafantasy.com/football/fantasy-football/pue-vs-atl-dream11-13-march/',\n",
              " 'https://www.indiafantasy.com/nba/fantasy-nba/uta-vs-hou-dream11-team-prediction-nba-projections-fantasy-basketball-picks-for-jazz-vs-rockets-13-march/',\n",
              " 'https://www.indiafantasy.com/cricket/fantasy-cricket/bd-l-vs-wi-l-dream11-12th-match-12-march/',\n",
              " 'https://www.indiafantasy.com/india-fantasy-match-of-the-day/blm-vs-snd-dream11-prediction-match-of-the-day-9-march/',\n",
              " 'https://www.indiafantasy.com/football/fantasy-football/mlc-vs-mac-dream11-12-march/',\n",
              " 'https://www.hindustantimes.com/cricket/india-vs-england-last-7-8-years-he-s-got-at-least-5-6-hundreds-in-all-forms-sunil-gavaskar-feels-virat-kohli-is-due-for-a-big-score-101612748154534.html',\n",
              " 'https://www.hindustantimes.com/cricket/india-vs-australia-live-cricket-score-4th-test-day-2-ind-vs-aus-4th-test-match-live-at-brisbane-latest-updates-101610750657428.html',\n",
              " 'https://support.google.com/websearch%3Fp%3Dws_settings_location%26hl%3Den',\n",
              " 'https://accounts.google.com/ServiceLogin%3Fcontinue%3Dhttps://www.google.com/search%253Fq%253DIndia%252Bwon%252Bthe%252Bmatch%252Bby%252B5%252Bwickets%252Band%252Bhas%252Blevelled%252Bthe%252Bseries%252Bby%252B1-1.%252BGreat%252Bto%252Bsee%252BVirat%252BKohli%252Band%252Bishan%252Bkishan%252B%252527s%252Bknock.%2526tbm%253Dnws%26hl%3Den']"
            ]
          },
          "metadata": {
            "tags": []
          },
          "execution_count": 10
        }
      ]
    },
    {
      "cell_type": "code",
      "metadata": {
        "colab": {
          "base_uri": "https://localhost:8080/"
        },
        "id": "003-TCnQxQ3j",
        "outputId": "ed3c60a4-d417-4647-adbe-3425e889d632"
      },
      "source": [
        "get_news_urls(keywords)"
      ],
      "execution_count": null,
      "outputs": [
        {
          "output_type": "execute_result",
          "data": {
            "text/plain": [
              "['https://www.hindustantimes.com/cricket/india-vs-england-live-cricket-score-3rd-t20-ind-vs-eng-live-match-today-latest-score-updates-ahmedabad-101615893593016.html',\n",
              " 'https://www.mykhel.com/cricket/india-vs-england-2nd-t20i-live-updates-india-look-to-bounce-back-in-t20-series-163128.html',\n",
              " 'http://newsonair.com/Text-Bulletin-Details.aspx%3Fid%3D36081',\n",
              " 'https://www.indiafantasy.com/football/fantasy-football/pue-vs-atl-dream11-13-march/',\n",
              " 'https://www.indiafantasy.com/nba/fantasy-nba/uta-vs-hou-dream11-team-prediction-nba-projections-fantasy-basketball-picks-for-jazz-vs-rockets-13-march/',\n",
              " 'https://www.indiafantasy.com/cricket/fantasy-cricket/bd-l-vs-wi-l-dream11-12th-match-12-march/',\n",
              " 'https://www.indiafantasy.com/india-fantasy-match-of-the-day/blm-vs-snd-dream11-prediction-match-of-the-day-9-march/',\n",
              " 'https://www.indiafantasy.com/football/fantasy-football/mlc-vs-mac-dream11-12-march/',\n",
              " 'https://www.hindustantimes.com/cricket/india-vs-england-last-7-8-years-he-s-got-at-least-5-6-hundreds-in-all-forms-sunil-gavaskar-feels-virat-kohli-is-due-for-a-big-score-101612748154534.html',\n",
              " 'https://www.hindustantimes.com/cricket/india-vs-australia-live-cricket-score-4th-test-day-2-ind-vs-aus-4th-test-match-live-at-brisbane-latest-updates-101610750657428.html',\n",
              " 'https://support.google.com/websearch%3Fp%3Dws_settings_location%26hl%3Den',\n",
              " 'https://accounts.google.com/ServiceLogin%3Fcontinue%3Dhttps://www.google.com/search%253Fq%253DIndia%252Bwon%252Bthe%252Bmatch%252Bby%252B5%252Bwickets%252Band%252Bhas%252Blevelled%252Bthe%252Bseries%252Bby%252B1-1.%252BGreat%252Bto%252Bsee%252BVirat%252BKohli%252Band%252Bishan%252Bkishan%252B%252527s%252Bknock.%2526tbm%253Dnws%26hl%3Den']"
            ]
          },
          "metadata": {
            "tags": []
          },
          "execution_count": 11
        }
      ]
    },
    {
      "cell_type": "code",
      "metadata": {
        "id": "nk7T2TADwNQV"
      },
      "source": [
        "url = \"https://www.google.com/search?q=\" + keywords + \"&tbm=nws\""
      ],
      "execution_count": null,
      "outputs": []
    },
    {
      "cell_type": "code",
      "metadata": {
        "id": "Mr94i_7qwWqz"
      },
      "source": [
        "html = requests.get(url)\n",
        "\n",
        "soup = BeautifulSoup(html.text, 'lxml')\n",
        "a = soup.find_all('a') #// a is a list"
      ],
      "execution_count": null,
      "outputs": []
    },
    {
      "cell_type": "code",
      "metadata": {
        "colab": {
          "base_uri": "https://localhost:8080/"
        },
        "id": "eIlpSbCownHR",
        "outputId": "94b9d556-7fa0-44eb-efa9-d5168a9a47b0"
      },
      "source": [
        "a"
      ],
      "execution_count": null,
      "outputs": [
        {
          "output_type": "execute_result",
          "data": {
            "text/plain": [
              "[<a href=\"/?sa=X&amp;ved=0ahUKEwjXm7q3hb_vAhXSasAKHbUEBnoQOwgC\"><span class=\"V6gwVd\">G</span><span class=\"iWkuvd\">o</span><span class=\"cDrQ7\">o</span><span class=\"V6gwVd\">g</span><span class=\"ntlR9\">l</span><span class=\"iWkuvd tJ3Myc\">e</span></a>,\n",
              " <a class=\"l\" href=\"/?output=search&amp;ie=UTF-8&amp;tbm=nws&amp;sa=X&amp;ved=0ahUKEwjXm7q3hb_vAhXSasAKHbUEBnoQPAgE\"><span class=\"V6gwVd\">G</span><span class=\"iWkuvd\">o</span><span class=\"cDrQ7\">o</span><span class=\"V6gwVd\">g</span><span class=\"ntlR9\">l</span><span class=\"iWkuvd tJ3Myc\">e</span></a>,\n",
              " <a href=\"/search?q=Indian+Railways+Cancels+All+Passenger+Trains+Till+March+31+%7C+ABP+News&amp;tbm=nws&amp;ie=UTF-8&amp;gbv=1&amp;sei=ZwFWYJfMItLVgQa1iZjQBw\">here</a>,\n",
              " <a class=\"eZt8xd\" href=\"/search?q=Indian+Railways+Cancels+All+Passenger+Trains+Till+March+31+%7C+ABP+News&amp;ie=UTF-8&amp;source=lnms&amp;sa=X&amp;ved=0ahUKEwjXm7q3hb_vAhXSasAKHbUEBnoQ_AUIBygA\">All</a>,\n",
              " <a class=\"eZt8xd\" href=\"/search?q=Indian+Railways+Cancels+All+Passenger+Trains+Till+March+31+%7C+ABP+News&amp;ie=UTF-8&amp;tbm=shop&amp;source=lnms&amp;sa=X&amp;ved=0ahUKEwjXm7q3hb_vAhXSasAKHbUEBnoQ_AUICSgC\">Shopping</a>,\n",
              " <a class=\"eZt8xd\" href=\"/search?q=Indian+Railways+Cancels+All+Passenger+Trains+Till+March+31+%7C+ABP+News&amp;ie=UTF-8&amp;tbm=isch&amp;source=lnms&amp;sa=X&amp;ved=0ahUKEwjXm7q3hb_vAhXSasAKHbUEBnoQ_AUICigD\">Images</a>,\n",
              " <a href=\"https://maps.google.com/maps?q=Indian+Railways+Cancels+All+Passenger+Trains+Till+March+31+%7C+ABP+News&amp;um=1&amp;ie=UTF-8&amp;sa=X&amp;ved=0ahUKEwjXm7q3hb_vAhXSasAKHbUEBnoQ_AUICygE\">Maps</a>,\n",
              " <a href=\"/search?q=Indian+Railways+Cancels+All+Passenger+Trains+Till+March+31+%7C+ABP+News&amp;ie=UTF-8&amp;tbm=vid&amp;source=lnms&amp;sa=X&amp;ved=0ahUKEwjXm7q3hb_vAhXSasAKHbUEBnoQ_AUIDCgF\">Videos</a>,\n",
              " <a href=\"/search?q=Indian+Railways+Cancels+All+Passenger+Trains+Till+March+31+%7C+ABP+News&amp;ie=UTF-8&amp;tbm=bks&amp;source=lnms&amp;sa=X&amp;ved=0ahUKEwjXm7q3hb_vAhXSasAKHbUEBnoQ_AUIDSgG\">Books</a>,\n",
              " <a href=\"/advanced_search\" id=\"st-toggle\" role=\"button\" style=\"white-space:nowrap\">Search tools</a>,\n",
              " <a href=\"/search?q=Indian+Railways+Cancels+All+Passenger+Trains+Till+March+31+%7C+ABP+News&amp;ie=UTF-8&amp;tbm=nws&amp;source=lnt&amp;tbs=qdr:h&amp;sa=X&amp;ved=0ahUKEwjXm7q3hb_vAhXSasAKHbUEBnoQpwUIDw\">Past hour</a>,\n",
              " <a href=\"/search?q=Indian+Railways+Cancels+All+Passenger+Trains+Till+March+31+%7C+ABP+News&amp;ie=UTF-8&amp;tbm=nws&amp;source=lnt&amp;tbs=qdr:d&amp;sa=X&amp;ved=0ahUKEwjXm7q3hb_vAhXSasAKHbUEBnoQpwUIEA\">Past 24 hours</a>,\n",
              " <a href=\"/search?q=Indian+Railways+Cancels+All+Passenger+Trains+Till+March+31+%7C+ABP+News&amp;ie=UTF-8&amp;tbm=nws&amp;source=lnt&amp;tbs=qdr:w&amp;sa=X&amp;ved=0ahUKEwjXm7q3hb_vAhXSasAKHbUEBnoQpwUIEQ\">Past week</a>,\n",
              " <a href=\"/search?q=Indian+Railways+Cancels+All+Passenger+Trains+Till+March+31+%7C+ABP+News&amp;ie=UTF-8&amp;tbm=nws&amp;source=lnt&amp;tbs=qdr:m&amp;sa=X&amp;ved=0ahUKEwjXm7q3hb_vAhXSasAKHbUEBnoQpwUIEg\">Past month</a>,\n",
              " <a href=\"/search?q=Indian+Railways+Cancels+All+Passenger+Trains+Till+March+31+%7C+ABP+News&amp;ie=UTF-8&amp;tbm=nws&amp;source=lnt&amp;tbs=qdr:y&amp;sa=X&amp;ved=0ahUKEwjXm7q3hb_vAhXSasAKHbUEBnoQpwUIEw\">Past year</a>,\n",
              " <a href=\"/search?q=Indian+Railways+Cancels+All+Passenger+Trains+Till+March+31+%7C+ABP+News&amp;ie=UTF-8&amp;tbm=nws&amp;source=lnt&amp;tbs=ar:1&amp;sa=X&amp;ved=0ahUKEwjXm7q3hb_vAhXSasAKHbUEBnoQpwUIFA\">Archives</a>,\n",
              " <a href=\"/search?q=Indian+Railways+Cancels+All+Passenger+Trains+Till+March+31+%7C+ABP+News&amp;ie=UTF-8&amp;tbm=nws&amp;source=lnt&amp;tbs=sbd:1&amp;sa=X&amp;ved=0ahUKEwjXm7q3hb_vAhXSasAKHbUEBnoQpwUIFg\">Sorted by date</a>,\n",
              " <a href=\"/url?q=https://www.freepressjournal.in/india/fpj-fact-check-has-indian-railways-cancelled-all-passenger-trains-till-march-31-2021&amp;sa=U&amp;ved=2ahUKEwjXm7q3hb_vAhXSasAKHbUEBnoQxfQBMAB6BAgCEAE&amp;usg=AOvVaw1P0lt5VxRQyWtQ8bjTHtFf\"><h3 class=\"zBAuLc\"><div class=\"BNeawe vvjwJb AP7Wnd\">FPJ Fact Check: Has Indian Railways cancelled all passenger trains till March 31, 2021?</div></h3><div class=\"BNeawe UPmit AP7Wnd\">Free Press Journal</div></a>,\n",
              " <a href=\"/url?q=https://www.freepressjournal.in/india/fpj-fact-check-has-indian-railways-cancelled-all-passenger-trains-till-march-31-2021&amp;sa=U&amp;ved=2ahUKEwjXm7q3hb_vAhXSasAKHbUEBnoQ0Y8FMAB6BAgCEAI&amp;usg=AOvVaw2JIrCVOcjPofWW8E0bwwTh\"><div class=\"lcJF1d SXn0g GXKcHe\"><div style=\"width:120px;height:44px;position:static\"><img alt=\"\" class=\"EYOsld\" data-deferred=\"1\" id=\"dimg_9\" src=\"data:image/gif;base64,R0lGODlhAQABAIAAAP///////yH5BAEKAAEALAAAAAABAAEAAAICTAEAOw==\" style=\"width:120px;height:44px\"/></div></div></a>,\n",
              " <a href=\"/url?q=https://in.news.yahoo.com/indian-railways-cancels-trains-till-152422235.html&amp;sa=U&amp;ved=2ahUKEwjXm7q3hb_vAhXSasAKHbUEBnoQxfQBMAF6BAgJEAE&amp;usg=AOvVaw0ZIlpJASvSLf_hk478xDlJ\"><h3 class=\"zBAuLc\"><div class=\"BNeawe vvjwJb AP7Wnd\">Indian Railways Cancels All Trains Till March 31? PIB Fact Check Debunks Fake Viral Message</div></h3><div class=\"BNeawe UPmit AP7Wnd\">Yahoo India News</div></a>,\n",
              " <a href=\"/url?q=https://in.news.yahoo.com/indian-railways-cancels-trains-till-152422235.html&amp;sa=U&amp;ved=2ahUKEwjXm7q3hb_vAhXSasAKHbUEBnoQ0Y8FMAF6BAgJEAI&amp;usg=AOvVaw2Vns7uyMDrpztsFxV9rixI\"><div class=\"lcJF1d SXn0g GXKcHe\"><div style=\"width:120px;height:67px;position:static\"><img alt=\"\" class=\"EYOsld\" data-deferred=\"1\" id=\"dimg_13\" src=\"data:image/gif;base64,R0lGODlhAQABAIAAAP///////yH5BAEKAAEALAAAAAABAAEAAAICTAEAOw==\" style=\"width:120px;height:67px\"/></div></div></a>,\n",
              " <a href=\"/url?q=https://www.energyinfrapost.com/right-track-heres-why-indian-railways-needs-big-doses-of-private-investment/&amp;sa=U&amp;ved=2ahUKEwjXm7q3hb_vAhXSasAKHbUEBnoQxfQBMAJ6BAgIEAE&amp;usg=AOvVaw1EDBjYc3zzb5Kdw3H2NliG\"><h3 class=\"zBAuLc\"><div class=\"BNeawe vvjwJb AP7Wnd\">Right track: Here's Why Indian Railways needs big doses of private ...</div></h3><div class=\"BNeawe UPmit AP7Wnd\">EnergyInfraPost</div></a>,\n",
              " <a href=\"/url?q=https://www.energyinfrapost.com/indian-railways-eastern-western-dfcs-to-be-operational-by-indias-75th-year-of-independence/&amp;sa=U&amp;ved=2ahUKEwjXm7q3hb_vAhXSasAKHbUEBnoQxfQBMAN6BAgHEAE&amp;usg=AOvVaw1MkRzc-qaXWiToSZYhV4qN\"><h3 class=\"zBAuLc\"><div class=\"BNeawe vvjwJb AP7Wnd\">Indian Railways Eastern &amp; Western DFCs to be operational by ...</div></h3><div class=\"BNeawe UPmit AP7Wnd\">EnergyInfraPost</div></a>,\n",
              " <a href=\"/url?q=https://www.energyinfrapost.com/indian-railways-eastern-western-dfcs-to-be-operational-by-indias-75th-year-of-independence/&amp;sa=U&amp;ved=2ahUKEwjXm7q3hb_vAhXSasAKHbUEBnoQ0Y8FMAN6BAgHEAI&amp;usg=AOvVaw1FslYFK3A4pndZEjmwE314\"><div class=\"lcJF1d SXn0g GXKcHe\"><div style=\"width:120px;height:79px;position:static\"><img alt=\"\" class=\"EYOsld\" data-deferred=\"1\" id=\"dimg_11\" src=\"data:image/gif;base64,R0lGODlhAQABAIAAAP///////yH5BAEKAAEALAAAAAABAAEAAAICTAEAOw==\" style=\"width:120px;height:79px\"/></div></div></a>,\n",
              " <a href=\"/url?q=https://www.india.com/news/india/irctc-indian-railways-latest-news-cancelled-trains-on-holi-cancelled-trains-on-uttar-pradesh-madhya-pradesh-bengal-route-check-full-list-of-cancelled-trains-here-4439205/&amp;sa=U&amp;ved=2ahUKEwjXm7q3hb_vAhXSasAKHbUEBnoQxfQBMAR6BAgDEAE&amp;usg=AOvVaw0zfj7dEAt8XQIUf9W4o_jG\"><h3 class=\"zBAuLc\"><div class=\"BNeawe vvjwJb AP7Wnd\">Trains on East Central Division Cancelled 1 Week Prior to Holi | Travellers From UP, Madhya Pradesh &amp; Bengal</div></h3><div class=\"BNeawe UPmit AP7Wnd\">India.com</div></a>,\n",
              " <a href=\"/url?q=https://www.india.com/news/india/irctc-indian-railways-latest-news-cancelled-trains-on-holi-cancelled-trains-on-uttar-pradesh-madhya-pradesh-bengal-route-check-full-list-of-cancelled-trains-here-4439205/&amp;sa=U&amp;ved=2ahUKEwjXm7q3hb_vAhXSasAKHbUEBnoQ0Y8FMAR6BAgDEAI&amp;usg=AOvVaw3GN76VMimlF_yetuj60OQQ\"><div class=\"lcJF1d SXn0g GXKcHe\"><div style=\"width:120px;height:79px;position:static\"><img alt=\"\" class=\"EYOsld\" data-deferred=\"1\" id=\"dimg_2\" src=\"data:image/gif;base64,R0lGODlhAQABAIAAAP///////yH5BAEKAAEALAAAAAABAAEAAAICTAEAOw==\" style=\"width:120px;height:79px\"/></div></div></a>,\n",
              " <a href=\"/url?q=https://www.energyinfrapost.com/irctcs-tejas-express-trains-to-shuttle-daily-between-lucknow-new-delhi-from-march-25/&amp;sa=U&amp;ved=2ahUKEwjXm7q3hb_vAhXSasAKHbUEBnoQxfQBMAV6BAgAEAE&amp;usg=AOvVaw13VTX3HAXjD6p9vteWoXiH\"><h3 class=\"zBAuLc\"><div class=\"BNeawe vvjwJb AP7Wnd\">IRCTC's Tejas Express trains to shuttle daily between Lucknow &amp; ...</div></h3><div class=\"BNeawe UPmit AP7Wnd\">EnergyInfraPost</div></a>,\n",
              " <a href=\"/url?q=https://www.railjournal.com/in_depth/60-years-of-headlines/&amp;sa=U&amp;ved=2ahUKEwjXm7q3hb_vAhXSasAKHbUEBnoQxfQBMAZ6BAgGEAE&amp;usg=AOvVaw06xRtglNT7rmXg42s8HGQ7\"><h3 class=\"zBAuLc\"><div class=\"BNeawe vvjwJb AP7Wnd\">60 years of headlines</div></h3><div class=\"BNeawe UPmit AP7Wnd\">International Railway Journal</div></a>,\n",
              " <a href=\"/url?q=https://www.railjournal.com/in_depth/60-years-of-headlines/&amp;sa=U&amp;ved=2ahUKEwjXm7q3hb_vAhXSasAKHbUEBnoQ0Y8FMAZ6BAgGEAI&amp;usg=AOvVaw20jPaMxanWdKWPCYs_D5gz\"><div class=\"lcJF1d SXn0g GXKcHe\"><div style=\"width:65px;height:90px;position:static\"><img alt=\"\" class=\"EYOsld\" data-deferred=\"1\" id=\"dimg_3\" src=\"data:image/gif;base64,R0lGODlhAQABAIAAAP///////yH5BAEKAAEALAAAAAABAAEAAAICTAEAOw==\" style=\"width:65px;height:90px\"/></div></div></a>,\n",
              " <a href=\"/url?q=https://www.energyinfrapost.com/indian-railways-1st-fully-centralised-ac-terminal-in-bengaluru-to-begin-operations-soon-piyush-goyal/&amp;sa=U&amp;ved=2ahUKEwjXm7q3hb_vAhXSasAKHbUEBnoQxfQBMAd6BAgFEAE&amp;usg=AOvVaw1jo1Guj6KWk_WXrAVBTEhZ\"><h3 class=\"zBAuLc\"><div class=\"BNeawe vvjwJb AP7Wnd\">Indian Railways' 1st fully centralised AC terminal in Bengaluru to ...</div></h3><div class=\"BNeawe UPmit AP7Wnd\">EnergyInfraPost</div></a>,\n",
              " <a href=\"/url?q=https://www.nationalheraldindia.com/india/priyanka-gandhi-starts-training-programme-in-up-grassroots-workers-upbeat-to-face-assembly-poll-in-2022&amp;sa=U&amp;ved=2ahUKEwjXm7q3hb_vAhXSasAKHbUEBnoQxfQBMAh6BAgBEAE&amp;usg=AOvVaw1YzeCduoOOG5pAn2EFd7iz\"><h3 class=\"zBAuLc\"><div class=\"BNeawe vvjwJb AP7Wnd\">Priyanka Gandhi starts training programme in UP; Grassroots workers upbeat to face assembly poll in 2022</div></h3><div class=\"BNeawe UPmit AP7Wnd\">National Herald</div></a>,\n",
              " <a href=\"/url?q=https://www.nationalheraldindia.com/india/priyanka-gandhi-starts-training-programme-in-up-grassroots-workers-upbeat-to-face-assembly-poll-in-2022&amp;sa=U&amp;ved=2ahUKEwjXm7q3hb_vAhXSasAKHbUEBnoQ0Y8FMAh6BAgBEAI&amp;usg=AOvVaw2-VOFX4DWQjz-_rdx8-2Q1\"><div class=\"lcJF1d SXn0g GXKcHe\"><div style=\"width:120px;height:79px;position:static\"><img alt=\"\" class=\"EYOsld\" data-deferred=\"1\" id=\"dimg_4\" src=\"data:image/gif;base64,R0lGODlhAQABAIAAAP///////yH5BAEKAAEALAAAAAABAAEAAAICTAEAOw==\" style=\"width:120px;height:79px\"/></div></div></a>,\n",
              " <a href=\"/url?q=https://www.nationalheraldindia.com/opinion/eam-s-jaishankar-puts-a-weak-defence-on-human-rights-record-global-bodies-studies-cant-be-wished-away&amp;sa=U&amp;ved=2ahUKEwjXm7q3hb_vAhXSasAKHbUEBnoQxfQBMAl6BAgEEAE&amp;usg=AOvVaw0sxzi7q1Os2n4f-0OmrdvD\"><h3 class=\"zBAuLc\"><div class=\"BNeawe vvjwJb AP7Wnd\">EAM S Jaishankar puts a weak defence on human rights record; global bodies studies can’t be wished away</div></h3><div class=\"BNeawe UPmit AP7Wnd\">National Herald</div></a>,\n",
              " <a href=\"/url?q=https://www.nationalheraldindia.com/opinion/eam-s-jaishankar-puts-a-weak-defence-on-human-rights-record-global-bodies-studies-cant-be-wished-away&amp;sa=U&amp;ved=2ahUKEwjXm7q3hb_vAhXSasAKHbUEBnoQ0Y8FMAl6BAgEEAI&amp;usg=AOvVaw1k414PUd8ul9G1Bx2IV-5Z\"><div class=\"lcJF1d SXn0g GXKcHe\"><div style=\"width:120px;height:79px;position:static\"><img alt=\"\" class=\"EYOsld\" data-deferred=\"1\" id=\"dimg_1\" src=\"data:image/gif;base64,R0lGODlhAQABAIAAAP///////yH5BAEKAAEALAAAAAABAAEAAAICTAEAOw==\" style=\"width:120px;height:79px\"/></div></div></a>,\n",
              " <a aria-label=\"Next page\" class=\"nBDE1b G5eFlf\" href=\"/search?q=Indian+Railways+Cancels+All+Passenger+Trains+Till+March+31+%7C+ABP+News&amp;ie=UTF-8&amp;tbm=nws&amp;ei=ZwFWYJfMItLVgQa1iZjQBw&amp;start=10&amp;sa=N\">Next &gt;</a>,\n",
              " <a href=\"/url?q=https://support.google.com/websearch%3Fp%3Dws_settings_location%26hl%3Den&amp;sa=U&amp;ved=0ahUKEwjXm7q3hb_vAhXSasAKHbUEBnoQty4ITw&amp;usg=AOvVaw2XHLDc5-hMwWD9gsgvaJzW\">Learn more</a>,\n",
              " <a href=\"/url?q=https://accounts.google.com/ServiceLogin%3Fcontinue%3Dhttps://www.google.com/search%253Fq%253DIndian%252BRailways%252BCancels%252BAll%252BPassenger%252BTrains%252BTill%252BMarch%252B31%252B%25257C%252BABP%252BNews%2526tbm%253Dnws%26hl%3Den&amp;sa=U&amp;ved=0ahUKEwjXm7q3hb_vAhXSasAKHbUEBnoQxs8CCFA&amp;usg=AOvVaw1Cxsj_UBERBnH-iT9m-dy9\">Sign in</a>,\n",
              " <a class=\"xeDNfc\" href=\"https://www.google.com/preferences?hl=en&amp;fg=1&amp;sa=X&amp;ved=0ahUKEwjXm7q3hb_vAhXSasAKHbUEBnoQ5fUCCFE\">Settings</a>,\n",
              " <a class=\"xeDNfc\" href=\"https://policies.google.com/privacy?hl=en&amp;fg=1\">Privacy</a>,\n",
              " <a class=\"xeDNfc\" href=\"https://policies.google.com/terms?hl=en&amp;fg=1\">Terms</a>]"
            ]
          },
          "metadata": {
            "tags": []
          },
          "execution_count": 76
        }
      ]
    },
    {
      "cell_type": "code",
      "metadata": {
        "colab": {
          "base_uri": "https://localhost:8080/"
        },
        "id": "HfMrJRW6xrSg",
        "outputId": "76d2834e-9966-4766-87a9-7e9bf9eb24ef"
      },
      "source": [
        "a[20]"
      ],
      "execution_count": null,
      "outputs": [
        {
          "output_type": "execute_result",
          "data": {
            "text/plain": [
              "<a href=\"/url?q=https://in.news.yahoo.com/indian-railways-cancels-trains-till-152422235.html&amp;sa=U&amp;ved=2ahUKEwjXm7q3hb_vAhXSasAKHbUEBnoQ0Y8FMAF6BAgJEAI&amp;usg=AOvVaw2Vns7uyMDrpztsFxV9rixI\"><div class=\"lcJF1d SXn0g GXKcHe\"><div style=\"width:120px;height:67px;position:static\"><img alt=\"\" class=\"EYOsld\" data-deferred=\"1\" id=\"dimg_13\" src=\"data:image/gif;base64,R0lGODlhAQABAIAAAP///////yH5BAEKAAEALAAAAAABAAEAAAICTAEAOw==\" style=\"width:120px;height:67px\"/></div></div></a>"
            ]
          },
          "metadata": {
            "tags": []
          },
          "execution_count": 77
        }
      ]
    },
    {
      "cell_type": "code",
      "metadata": {
        "colab": {
          "base_uri": "https://localhost:8080/"
        },
        "id": "TKJPxa4dxpR1",
        "outputId": "894e8754-226b-419b-80cf-93bce95a3495"
      },
      "source": [
        "for i in a:\n",
        "  try:\n",
        "    print(re.search(r'/url[?]q=(.*?)&amp', str(i)).group(1))\n",
        "  except:\n",
        "    continue"
      ],
      "execution_count": null,
      "outputs": [
        {
          "output_type": "stream",
          "text": [
            "https://www.freepressjournal.in/india/fpj-fact-check-has-indian-railways-cancelled-all-passenger-trains-till-march-31-2021\n",
            "https://www.freepressjournal.in/india/fpj-fact-check-has-indian-railways-cancelled-all-passenger-trains-till-march-31-2021\n",
            "https://in.news.yahoo.com/indian-railways-cancels-trains-till-152422235.html\n",
            "https://in.news.yahoo.com/indian-railways-cancels-trains-till-152422235.html\n",
            "https://www.energyinfrapost.com/right-track-heres-why-indian-railways-needs-big-doses-of-private-investment/\n",
            "https://www.energyinfrapost.com/indian-railways-eastern-western-dfcs-to-be-operational-by-indias-75th-year-of-independence/\n",
            "https://www.energyinfrapost.com/indian-railways-eastern-western-dfcs-to-be-operational-by-indias-75th-year-of-independence/\n",
            "https://www.india.com/news/india/irctc-indian-railways-latest-news-cancelled-trains-on-holi-cancelled-trains-on-uttar-pradesh-madhya-pradesh-bengal-route-check-full-list-of-cancelled-trains-here-4439205/\n",
            "https://www.india.com/news/india/irctc-indian-railways-latest-news-cancelled-trains-on-holi-cancelled-trains-on-uttar-pradesh-madhya-pradesh-bengal-route-check-full-list-of-cancelled-trains-here-4439205/\n",
            "https://www.energyinfrapost.com/irctcs-tejas-express-trains-to-shuttle-daily-between-lucknow-new-delhi-from-march-25/\n",
            "https://www.railjournal.com/in_depth/60-years-of-headlines/\n",
            "https://www.railjournal.com/in_depth/60-years-of-headlines/\n",
            "https://www.energyinfrapost.com/indian-railways-1st-fully-centralised-ac-terminal-in-bengaluru-to-begin-operations-soon-piyush-goyal/\n",
            "https://www.nationalheraldindia.com/india/priyanka-gandhi-starts-training-programme-in-up-grassroots-workers-upbeat-to-face-assembly-poll-in-2022\n",
            "https://www.nationalheraldindia.com/india/priyanka-gandhi-starts-training-programme-in-up-grassroots-workers-upbeat-to-face-assembly-poll-in-2022\n",
            "https://www.nationalheraldindia.com/opinion/eam-s-jaishankar-puts-a-weak-defence-on-human-rights-record-global-bodies-studies-cant-be-wished-away\n",
            "https://www.nationalheraldindia.com/opinion/eam-s-jaishankar-puts-a-weak-defence-on-human-rights-record-global-bodies-studies-cant-be-wished-away\n",
            "https://support.google.com/websearch%3Fp%3Dws_settings_location%26hl%3Den\n",
            "https://accounts.google.com/ServiceLogin%3Fcontinue%3Dhttps://www.google.com/search%253Fq%253DIndian%252BRailways%252BCancels%252BAll%252BPassenger%252BTrains%252BTill%252BMarch%252B31%252B%25257C%252BABP%252BNews%2526tbm%253Dnws%26hl%3Den\n"
          ],
          "name": "stdout"
        }
      ]
    }
  ]
}