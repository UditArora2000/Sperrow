{
  "nbformat": 4,
  "nbformat_minor": 0,
  "metadata": {
    "colab": {
      "name": "Graphs-Dashboard",
      "provenance": []
    },
    "kernelspec": {
      "name": "python3",
      "display_name": "Python 3"
    },
    "language_info": {
      "name": "python"
    }
  },
  "cells": [
    {
      "cell_type": "code",
      "metadata": {
        "id": "qvFugnTC8qGd"
      },
      "source": [
        "import numpy as np\n",
        "import pandas as pd\n",
        "import json\n"
      ],
      "execution_count": null,
      "outputs": []
    },
    {
      "cell_type": "code",
      "metadata": {
        "id": "cGYR6j0X8xbN"
      },
      "source": [
        "def json_to_csv(filename):\n",
        "    tweets = []\n",
        "    with open(filename, 'r') as f:\n",
        "        tweets = f.readlines()\n",
        "    f.close()\n",
        "    for i in range(len(tweets[:])):\n",
        "        if type(tweets[i])==type('hi'):\n",
        "            tweets[i] = json.loads(tweets[i])\n",
        "    columns = ['in_reply_to_user_id', 'place', 'entities', 'created_at',\n",
        "           'withheld_in_countries', 'display_text_range', 'in_reply_to_status_id',\n",
        "           'favorite_count', 'geo', 'quoted_status_id', 'id_str',\n",
        "           'withheld_copyright', 'possibly_sensitive', 'extended_entities',\n",
        "           'retweet_count', 'full_text', 'quoted_status_permalink', 'id',\n",
        "           'contributors', 'user', 'coordinates', 'quoted_status', 'retweeted',\n",
        "           'favorited', 'quoted_status_id_str', 'withheld_scope',\n",
        "           'in_reply_to_user_id_str', 'source', 'truncated', 'is_quote_status',\n",
        "           'in_reply_to_status_id_str', 'in_reply_to_screen_name', 'lang']\n",
        "    df = pd.DataFrame(tweets, columns=columns)\n",
        "    return df"
      ],
      "execution_count": null,
      "outputs": []
    },
    {
      "cell_type": "code",
      "metadata": {
        "id": "70vBZ2Tm81Y2"
      },
      "source": [
        "df=json_to_csv('/content/tweets.json')\n",
        "df.iloc[0]"
      ],
      "execution_count": null,
      "outputs": []
    },
    {
      "cell_type": "code",
      "metadata": {
        "id": "EnkkcjpbAVCy"
      },
      "source": [
        "for i in range(len(df)):\n",
        "    a=df.iloc[i][\"full_text\"]\n",
        "    text=\" \".join(filter(lambda x:x[0]=='@', a.split()))\n",
        "    print(text)"
      ],
      "execution_count": null,
      "outputs": []
    },
    {
      "cell_type": "code",
      "metadata": {
        "id": "MpaPP-DJEG9h"
      },
      "source": [
        "def preprocess(text):\n",
        "    import re\n",
        "    text = text.lower()\n",
        "    text = re.sub(r'[^\\w\\s]', '', text)\n",
        "    text = re.sub(\" +\", \" \", text).strip()\n",
        "    return text"
      ],
      "execution_count": null,
      "outputs": []
    },
    {
      "cell_type": "code",
      "metadata": {
        "id": "-LBBWpI8Ciin"
      },
      "source": [
        "def all_texts(username):\n",
        "  import re\n",
        "  texts=[]\n",
        "  df=get_tweets(username)\n",
        "  for i in range(len(df)):\n",
        "    a=df[i].lower()\n",
        "    text=\" \".join(filter(lambda x:ord(x[0])>96 and ord(x[0])<123, a.split()))\n",
        "    text=preprocess(text)\n",
        "    texts.append(text)\n",
        "  return texts"
      ],
      "execution_count": null,
      "outputs": []
    },
    {
      "cell_type": "code",
      "metadata": {
        "id": "xkGWeNfQ9eYj",
        "colab": {
          "base_uri": "https://localhost:8080/"
        },
        "outputId": "deca9060-3c85-4412-faf2-5dee82242e91"
      },
      "source": [
        "!pip install hatesonar\n",
        "!pip install geocoder"
      ],
      "execution_count": null,
      "outputs": [
        {
          "output_type": "stream",
          "text": [
            "Collecting hatesonar\n",
            "\u001b[?25l  Downloading https://files.pythonhosted.org/packages/d7/85/8b2fc72232935c1833a556969194c183c5781c445f08404472e2dd941a3d/hatesonar-0.0.7-py3-none-any.whl (883kB)\n",
            "\u001b[K     |████████████████████████████████| 890kB 6.2MB/s \n",
            "\u001b[?25hRequirement already satisfied: scikit-learn>=0.19.1 in /usr/local/lib/python3.7/dist-packages (from hatesonar) (0.22.2.post1)\n",
            "Requirement already satisfied: pandas>=0.22.0 in /usr/local/lib/python3.7/dist-packages (from hatesonar) (1.1.5)\n",
            "Requirement already satisfied: numpy>=1.14.0 in /usr/local/lib/python3.7/dist-packages (from hatesonar) (1.19.5)\n",
            "Requirement already satisfied: scipy>=1.0.0 in /usr/local/lib/python3.7/dist-packages (from hatesonar) (1.4.1)\n",
            "Requirement already satisfied: joblib>=0.16.0 in /usr/local/lib/python3.7/dist-packages (from hatesonar) (1.0.1)\n",
            "Requirement already satisfied: pytz>=2017.2 in /usr/local/lib/python3.7/dist-packages (from pandas>=0.22.0->hatesonar) (2018.9)\n",
            "Requirement already satisfied: python-dateutil>=2.7.3 in /usr/local/lib/python3.7/dist-packages (from pandas>=0.22.0->hatesonar) (2.8.1)\n",
            "Requirement already satisfied: six>=1.5 in /usr/local/lib/python3.7/dist-packages (from python-dateutil>=2.7.3->pandas>=0.22.0->hatesonar) (1.15.0)\n",
            "Installing collected packages: hatesonar\n",
            "Successfully installed hatesonar-0.0.7\n",
            "Collecting geocoder\n",
            "\u001b[?25l  Downloading https://files.pythonhosted.org/packages/4f/6b/13166c909ad2f2d76b929a4227c952630ebaf0d729f6317eb09cbceccbab/geocoder-1.38.1-py2.py3-none-any.whl (98kB)\n",
            "\u001b[K     |████████████████████████████████| 102kB 4.0MB/s \n",
            "\u001b[?25hRequirement already satisfied: future in /usr/local/lib/python3.7/dist-packages (from geocoder) (0.16.0)\n",
            "Requirement already satisfied: requests in /usr/local/lib/python3.7/dist-packages (from geocoder) (2.23.0)\n",
            "Collecting ratelim\n",
            "  Downloading https://files.pythonhosted.org/packages/f2/98/7e6d147fd16a10a5f821db6e25f192265d6ecca3d82957a4fdd592cad49c/ratelim-0.1.6-py2.py3-none-any.whl\n",
            "Requirement already satisfied: six in /usr/local/lib/python3.7/dist-packages (from geocoder) (1.15.0)\n",
            "Requirement already satisfied: click in /usr/local/lib/python3.7/dist-packages (from geocoder) (7.1.2)\n",
            "Requirement already satisfied: certifi>=2017.4.17 in /usr/local/lib/python3.7/dist-packages (from requests->geocoder) (2020.12.5)\n",
            "Requirement already satisfied: urllib3!=1.25.0,!=1.25.1,<1.26,>=1.21.1 in /usr/local/lib/python3.7/dist-packages (from requests->geocoder) (1.24.3)\n",
            "Requirement already satisfied: chardet<4,>=3.0.2 in /usr/local/lib/python3.7/dist-packages (from requests->geocoder) (3.0.4)\n",
            "Requirement already satisfied: idna<3,>=2.5 in /usr/local/lib/python3.7/dist-packages (from requests->geocoder) (2.10)\n",
            "Requirement already satisfied: decorator in /usr/local/lib/python3.7/dist-packages (from ratelim->geocoder) (4.4.2)\n",
            "Installing collected packages: ratelim, geocoder\n",
            "Successfully installed geocoder-1.38.1 ratelim-0.1.6\n"
          ],
          "name": "stdout"
        }
      ]
    },
    {
      "cell_type": "code",
      "metadata": {
        "id": "BJ_OQBPr9iXN",
        "colab": {
          "base_uri": "https://localhost:8080/"
        },
        "outputId": "76886e82-9e37-432a-d6bd-19d092e76812"
      },
      "source": [
        " from hatesonar import Sonar\n",
        " sonar=Sonar()"
      ],
      "execution_count": null,
      "outputs": [
        {
          "output_type": "stream",
          "text": [
            "/usr/local/lib/python3.7/dist-packages/sklearn/utils/deprecation.py:144: FutureWarning: The sklearn.linear_model.logistic module is  deprecated in version 0.22 and will be removed in version 0.24. The corresponding classes / functions should instead be imported from sklearn.linear_model. Anything that cannot be imported from sklearn.linear_model is now part of the private API.\n",
            "  warnings.warn(message, FutureWarning)\n",
            "/usr/local/lib/python3.7/dist-packages/sklearn/base.py:318: UserWarning: Trying to unpickle estimator LogisticRegression from version 0.19.1 when using version 0.22.2.post1. This might lead to breaking code or invalid results. Use at your own risk.\n",
            "  UserWarning)\n",
            "/usr/local/lib/python3.7/dist-packages/sklearn/base.py:318: UserWarning: Trying to unpickle estimator TfidfTransformer from version 0.19.1 when using version 0.22.2.post1. This might lead to breaking code or invalid results. Use at your own risk.\n",
            "  UserWarning)\n",
            "/usr/local/lib/python3.7/dist-packages/sklearn/base.py:318: UserWarning: Trying to unpickle estimator TfidfVectorizer from version 0.19.1 when using version 0.22.2.post1. This might lead to breaking code or invalid results. Use at your own risk.\n",
            "  UserWarning)\n"
          ],
          "name": "stderr"
        }
      ]
    },
    {
      "cell_type": "code",
      "metadata": {
        "id": "9okZ_4Ov9zdY"
      },
      "source": [
        "def hate_speech(username):\n",
        "  hate_tweets=[]\n",
        "  texts=all_texts(username)\n",
        "  #texts.append(\"At least I'm not a nigger\")\n",
        "  \n",
        "  for i  in range(len(texts)):\n",
        "    t=texts[i]\n",
        "    ans=sonar.ping(text=t)\n",
        "    if ans['top_class'] =='hate_speech':\n",
        "      hate_tweets.append(t)\n",
        "  \n",
        "  if len(hate_tweets)==0:\n",
        "    return \"No hate tweets recorded\"\n",
        "    \n",
        "  return hate_tweets"
      ],
      "execution_count": null,
      "outputs": []
    },
    {
      "cell_type": "code",
      "metadata": {
        "id": "e8qZD0V7IMsz"
      },
      "source": [
        "import tweepy\n",
        "import geocoder\n"
      ],
      "execution_count": null,
      "outputs": []
    },
    {
      "cell_type": "code",
      "metadata": {
        "id": "qv9zE64KIuUs"
      },
      "source": [
        "auth = tweepy.AppAuthHandler('yQzsQvzdx4kOYqJiKC0i1pAfy','F6pcQU4hBJ0r6rCh5B2tlHxjDjVNgETZgeDH9oH2hdE2QBDkhm')\n",
        "\n",
        "api = tweepy.API(auth)"
      ],
      "execution_count": null,
      "outputs": []
    },
    {
      "cell_type": "code",
      "metadata": {
        "id": "GNkQQpH7KbhF"
      },
      "source": [
        "def trending(filename=\"available_locs_for_trend.json\"):\n",
        "    loc = \"India\"\n",
        "    g = geocoder.osm(loc) # getting object that has location's latitude and longitude\n",
        "\n",
        "    closest_loc = api.trends_closest(g.lat, g.lng)\n",
        "    trends = api.trends_place(closest_loc[0]['woeid'])\n",
        "    with open(filename,\"w\") as wp:\n",
        "        wp.write(json.dumps(trends, indent=1))\n",
        "\n"
      ],
      "execution_count": null,
      "outputs": []
    },
    {
      "cell_type": "code",
      "metadata": {
        "id": "nzykBsg6vsGj"
      },
      "source": [
        "trending()"
      ],
      "execution_count": null,
      "outputs": []
    },
    {
      "cell_type": "code",
      "metadata": {
        "id": "j6_gUlQBST2n"
      },
      "source": [
        "def json_to_csv_trending(filename=\"available_locs_for_trend.json\"):\n",
        "    with open(filename, 'r') as j:\n",
        "      contents = json.loads(j.read())\n",
        "    d=contents[0][\"trends\"]\n",
        "    df=pd.json_normalize(d)\n",
        "    return df\n",
        "    # #   columns = [\"Name\",\"URL\",\"pc\",\"query\",\"tweet_volume\"]\n",
        "    #   df = pd.DataFrame(contents, columns=columns)\n",
        "    # print(df.head())\n",
        "    # return df"
      ],
      "execution_count": null,
      "outputs": []
    },
    {
      "cell_type": "code",
      "metadata": {
        "id": "Vp_40bxOStq4"
      },
      "source": [
        "def trending_graph(filename=\"available_locs_for_trend.json\"):\n",
        "  import csv\n",
        "  import plotly.graph_objects as go\n",
        "  import chart_studio.plotly as py\n",
        "  import chart_studio\n",
        "  import pandas as pd\n",
        "  df=json_to_csv_trending(filename)\n",
        "  df=df.drop(columns=[\"url\",\"promoted_content\",\"query\"])\n",
        "  df=df.dropna()\n",
        "  fig = go.Figure()\n",
        "\n",
        "  fig.add_trace(go.Bar(x=df['name'], y=df['tweet_volume']))\n",
        "  username = 'sajag18089'\n",
        "  api_key = 'HrTA3QFIdveYJof5KcKu'\n",
        "  chart_studio.tools.set_credentials_file(username=username, api_key=api_key)\n",
        "  fig.update_layout(template='ggplot2')\n",
        "  return py.plot(fig, filename = 'Trending_Now', auto_open=True)\n",
        "\n",
        "  "
      ],
      "execution_count": null,
      "outputs": []
    },
    {
      "cell_type": "code",
      "metadata": {
        "colab": {
          "base_uri": "https://localhost:8080/",
          "height": 35
        },
        "id": "6W9CMWkPmZGN",
        "outputId": "93cdf629-1738-49e8-bb78-c69792551c28"
      },
      "source": [
        "trending_graph()"
      ],
      "execution_count": null,
      "outputs": [
        {
          "output_type": "execute_result",
          "data": {
            "application/vnd.google.colaboratory.intrinsic+json": {
              "type": "string"
            },
            "text/plain": [
              "'https://plotly.com/~sajag18089/20/'"
            ]
          },
          "metadata": {
            "tags": []
          },
          "execution_count": 156
        }
      ]
    },
    {
      "cell_type": "code",
      "metadata": {
        "id": "t5LBMfeVxsde"
      },
      "source": [
        "def most_hashtags(username):\n",
        "  import csv\n",
        "  import plotly.graph_objects as go\n",
        "  import chart_studio.plotly as py\n",
        "  import chart_studio\n",
        "  import pandas as pd\n",
        "\n",
        "  arr=get_tweets(username)\n",
        "  from collections import Counter\n",
        "  all_hashtags=list()\n",
        "  for i in range(len(arr)):\n",
        "    a=arr[i]\n",
        "    all_hashtags.extend(list(filter(lambda x:x[0]=='#', a.split())))\n",
        "  for i in range(len(all_hashtags)):\n",
        "    all_hashtags[i]=preprocess(all_hashtags[i])\n",
        "  d=Counter(all_hashtags)\n",
        "  header_added=False\n",
        "  with open('temp.csv', 'w') as csv_file:  \n",
        "    writer = csv.writer(csv_file)\n",
        "    if not header_added:\n",
        "          writer.writerow(['a','b'])\n",
        "          header_added = True\n",
        "    for key, value in d.items():\n",
        "       writer.writerow([key, value])\n",
        "  df = pd.read_csv('temp.csv')\n",
        "  fig = go.Figure()\n",
        "\n",
        "  fig.add_trace(go.Bar(x=df['a'], y=df['b']))\n",
        "\n",
        "  username = 'sajag18089'\n",
        "  api_key = 'HrTA3QFIdveYJof5KcKu'\n",
        "  chart_studio.tools.set_credentials_file(username=username, api_key=api_key)\n",
        "  fig.update_layout(template='ggplot2')\n",
        "  return py.plot(fig, filename = 'Most_Hashtags', auto_open=True)\n",
        "\n"
      ],
      "execution_count": null,
      "outputs": []
    },
    {
      "cell_type": "code",
      "metadata": {
        "id": "5U9JAFb1zH_u"
      },
      "source": [
        "import tweepy\n",
        "  \n",
        "\n",
        "  \n",
        "\n",
        "def get_tweets(username,gettime=False):\n",
        "        number_of_tweets=50\n",
        "        tweets = api.user_timeline(screen_name=username)\n",
        "  \n",
        "\n",
        "        tw=[]\n",
        "        dt=[] \n",
        "        tweets_for_csv = [tweet.text for tweet in tweets]\n",
        "        date_time=[tweet.created_at for tweet in tweets]\n",
        "        for j in tweets_for_csv:\n",
        "            tw.append(j) \n",
        "        \n",
        "        for j in date_time:\n",
        "            dt.append(j)\n",
        "  \n",
        "        if gettime:\n",
        "          return tw,dt\n",
        "        else:\n",
        "          return tw\n",
        "  \n",
        "  "
      ],
      "execution_count": null,
      "outputs": []
    },
    {
      "cell_type": "code",
      "metadata": {
        "id": "lAQ6Ti_0fxrX"
      },
      "source": [
        "arr,dt=get_tweets('WasimJaffer14',True)\n",
        "arr,dt"
      ],
      "execution_count": null,
      "outputs": []
    },
    {
      "cell_type": "code",
      "metadata": {
        "colab": {
          "base_uri": "https://localhost:8080/",
          "height": 35
        },
        "id": "JZi7sD01iJ4b",
        "outputId": "202b966a-cc03-484f-dbe0-8dc26f711094"
      },
      "source": [
        "hate_speech('WasimJaffer14')"
      ],
      "execution_count": null,
      "outputs": [
        {
          "output_type": "execute_result",
          "data": {
            "application/vnd.google.colaboratory.intrinsic+json": {
              "type": "string"
            },
            "text/plain": [
              "'No hate tweets recorded'"
            ]
          },
          "metadata": {
            "tags": []
          },
          "execution_count": 21
        }
      ]
    },
    {
      "cell_type": "code",
      "metadata": {
        "id": "p9e7XsAJEe1N"
      },
      "source": [
        "!pip install chart_studio"
      ],
      "execution_count": null,
      "outputs": []
    },
    {
      "cell_type": "code",
      "metadata": {
        "colab": {
          "base_uri": "https://localhost:8080/"
        },
        "id": "wue6ms00kJqZ",
        "outputId": "d0e340d2-17fe-451d-8e60-116b59f0e786"
      },
      "source": [
        "print(most_hashtags('WasimJaffer14'))"
      ],
      "execution_count": null,
      "outputs": [
        {
          "output_type": "stream",
          "text": [
            "https://plotly.com/~sajag18089/3/\n"
          ],
          "name": "stdout"
        }
      ]
    },
    {
      "cell_type": "code",
      "metadata": {
        "id": "LB-mrG-Ru6fs"
      },
      "source": [
        "#INDvsENG #INDvsENG…"
      ],
      "execution_count": null,
      "outputs": []
    },
    {
      "cell_type": "code",
      "metadata": {
        "id": "G196PVqIrsaW"
      },
      "source": [
        "def posting_pattern(Username):\n",
        "  import csv\n",
        "  import plotly.graph_objects as go\n",
        "  import chart_studio.plotly as py\n",
        "  import chart_studio\n",
        "  import pandas as pd\n",
        "  import datetime\n",
        "  arr,dt=get_tweets(Username,True)\n",
        "  for i in range(len(dt)):\n",
        "    dt[i] = dt[i].replace(hour=0, minute=0, second=0, microsecond=0)\n",
        "  dt.sort()\n",
        "  cnt={}\n",
        "  now=dt[0]\n",
        "  while now<=dt[-1]:\n",
        "    for i in range(len(dt)):\n",
        "      if dt[i]==now:\n",
        "        if dt[i] in cnt:\n",
        "          cnt[dt[i]]+=1\n",
        "        else:\n",
        "          cnt[dt[i]]=1\n",
        "    now+=datetime.timedelta(days=1)\n",
        "  header_added=False\n",
        "  with open('temp.csv', 'w') as csv_file:  \n",
        "    writer = csv.writer(csv_file)\n",
        "    if not header_added:\n",
        "          writer.writerow(['a','b'])\n",
        "          header_added = True\n",
        "    for key, value in cnt.items():\n",
        "       writer.writerow([key, value])\n",
        "  df = pd.read_csv('temp.csv')\n",
        "  fig = go.Figure()\n",
        "\n",
        "  fig.add_trace(go.Bar(x=df['a'], y=df['b']))\n",
        "\n",
        "  username = 'sajag18089'\n",
        "  api_key = 'HrTA3QFIdveYJof5KcKu'\n",
        "  chart_studio.tools.set_credentials_file(username=username, api_key=api_key)\n",
        "  return py.plot(fig, filename = \"Posting_Patterns\", auto_open=True)\n",
        "\n"
      ],
      "execution_count": null,
      "outputs": []
    },
    {
      "cell_type": "code",
      "metadata": {
        "colab": {
          "base_uri": "https://localhost:8080/"
        },
        "id": "-nUFUUcB3FpM",
        "outputId": "4eb4b9ab-d078-4316-e5ed-62379c71708f"
      },
      "source": [
        "print(posting_pattern('WasimJaffer14'))"
      ],
      "execution_count": null,
      "outputs": [
        {
          "output_type": "stream",
          "text": [
            "https://plotly.com/~sajag18089/16/\n"
          ],
          "name": "stdout"
        }
      ]
    }
  ]
}